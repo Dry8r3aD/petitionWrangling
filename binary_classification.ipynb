{
 "cells": [
  {
   "cell_type": "markdown",
   "metadata": {},
   "source": [
    "# 국민청원 데이터로 이진 분류하기"
   ]
  },
  {
   "cell_type": "markdown",
   "metadata": {},
   "source": [
    "* 예제로 응답여부를 0과 1로 예측합니다.\n",
    "* 응답여부 외에도 청원의 카테고리를 예측하는 분류를 해볼 수도 있을것 같아요. \n",
    "* 이 예제를 참고하여 응답여부외에 청원내용으로 평균 이상의 투표를 받을 것인지 여부를 예측해 보면 좋겠습니다."
   ]
  },
  {
   "cell_type": "code",
   "execution_count": 1,
   "metadata": {},
   "outputs": [
    {
     "name": "stdout",
     "output_type": "stream",
     "text": [
      "0.21.0\n",
      "1.14.0\n"
     ]
    }
   ],
   "source": [
    "import pandas as pd\n",
    "import numpy as np\n",
    "import re\n",
    "print(pd.__version__)\n",
    "print(np.__version__)"
   ]
  },
  {
   "cell_type": "markdown",
   "metadata": {},
   "source": [
    "# 데이터 로드하기"
   ]
  },
  {
   "cell_type": "code",
   "execution_count": 2,
   "metadata": {},
   "outputs": [
    {
     "data": {
      "text/plain": [
       "(192387, 8)"
      ]
     },
     "execution_count": 2,
     "metadata": {},
     "output_type": "execute_result"
    }
   ],
   "source": [
    "# 크롤링해 온 국민청원 데이터를 판다스를 통해 읽어옵니다.\n",
    "petitions = pd.read_csv('data/petition.csv', parse_dates=['start', 'end'])\n",
    "# 데이터의 크기가 어느정도인지 봅니다.\n",
    "petitions.shape"
   ]
  },
  {
   "cell_type": "code",
   "execution_count": 3,
   "metadata": {},
   "outputs": [
    {
     "data": {
      "text/html": [
       "<div>\n",
       "<style scoped>\n",
       "    .dataframe tbody tr th:only-of-type {\n",
       "        vertical-align: middle;\n",
       "    }\n",
       "\n",
       "    .dataframe tbody tr th {\n",
       "        vertical-align: top;\n",
       "    }\n",
       "\n",
       "    .dataframe thead th {\n",
       "        text-align: right;\n",
       "    }\n",
       "</style>\n",
       "<table border=\"1\" class=\"dataframe\">\n",
       "  <thead>\n",
       "    <tr style=\"text-align: right;\">\n",
       "      <th></th>\n",
       "      <th>article_id</th>\n",
       "      <th>answered</th>\n",
       "      <th>votes</th>\n",
       "    </tr>\n",
       "  </thead>\n",
       "  <tbody>\n",
       "    <tr>\n",
       "      <th>count</th>\n",
       "      <td>192387.000000</td>\n",
       "      <td>192387.000000</td>\n",
       "      <td>192387.000000</td>\n",
       "    </tr>\n",
       "    <tr>\n",
       "      <th>mean</th>\n",
       "      <td>113937.905035</td>\n",
       "      <td>0.000135</td>\n",
       "      <td>145.026748</td>\n",
       "    </tr>\n",
       "    <tr>\n",
       "      <th>std</th>\n",
       "      <td>70999.561497</td>\n",
       "      <td>0.011624</td>\n",
       "      <td>4382.942031</td>\n",
       "    </tr>\n",
       "    <tr>\n",
       "      <th>min</th>\n",
       "      <td>21.000000</td>\n",
       "      <td>0.000000</td>\n",
       "      <td>0.000000</td>\n",
       "    </tr>\n",
       "    <tr>\n",
       "      <th>25%</th>\n",
       "      <td>49908.500000</td>\n",
       "      <td>0.000000</td>\n",
       "      <td>1.000000</td>\n",
       "    </tr>\n",
       "    <tr>\n",
       "      <th>50%</th>\n",
       "      <td>111144.000000</td>\n",
       "      <td>0.000000</td>\n",
       "      <td>3.000000</td>\n",
       "    </tr>\n",
       "    <tr>\n",
       "      <th>75%</th>\n",
       "      <td>173456.500000</td>\n",
       "      <td>0.000000</td>\n",
       "      <td>10.000000</td>\n",
       "    </tr>\n",
       "    <tr>\n",
       "      <th>max</th>\n",
       "      <td>242902.000000</td>\n",
       "      <td>1.000000</td>\n",
       "      <td>615354.000000</td>\n",
       "    </tr>\n",
       "  </tbody>\n",
       "</table>\n",
       "</div>"
      ],
      "text/plain": [
       "          article_id       answered          votes\n",
       "count  192387.000000  192387.000000  192387.000000\n",
       "mean   113937.905035       0.000135     145.026748\n",
       "std     70999.561497       0.011624    4382.942031\n",
       "min        21.000000       0.000000       0.000000\n",
       "25%     49908.500000       0.000000       1.000000\n",
       "50%    111144.000000       0.000000       3.000000\n",
       "75%    173456.500000       0.000000      10.000000\n",
       "max    242902.000000       1.000000  615354.000000"
      ]
     },
     "execution_count": 3,
     "metadata": {},
     "output_type": "execute_result"
    }
   ],
   "source": [
    "petitions.describe()"
   ]
  },
  {
   "cell_type": "code",
   "execution_count": 4,
   "metadata": {},
   "outputs": [
    {
     "data": {
      "text/plain": [
       "(8235, 8)"
      ]
     },
     "execution_count": 4,
     "metadata": {},
     "output_type": "execute_result"
    }
   ],
   "source": [
    "# 전체 데이터 중 투표가 1000건 이상인 데이터를 기준으로 가져옵니다. 아웃라이어 데이터 제거를 위해 20만건 이상 데이터도 제거합니다.\n",
    "petition_remove_outlier = petitions.loc[(petitions['votes'] > 100) & (petitions['votes'] < 10000)]\n",
    "petition_remove_outlier.shape"
   ]
  },
  {
   "cell_type": "code",
   "execution_count": 5,
   "metadata": {},
   "outputs": [],
   "source": [
    "df = petition_remove_outlier.copy()"
   ]
  },
  {
   "cell_type": "code",
   "execution_count": 6,
   "metadata": {},
   "outputs": [
    {
     "data": {
      "text/html": [
       "<div>\n",
       "<style scoped>\n",
       "    .dataframe tbody tr th:only-of-type {\n",
       "        vertical-align: middle;\n",
       "    }\n",
       "\n",
       "    .dataframe tbody tr th {\n",
       "        vertical-align: top;\n",
       "    }\n",
       "\n",
       "    .dataframe thead th {\n",
       "        text-align: right;\n",
       "    }\n",
       "</style>\n",
       "<table border=\"1\" class=\"dataframe\">\n",
       "  <thead>\n",
       "    <tr style=\"text-align: right;\">\n",
       "      <th></th>\n",
       "      <th>article_id</th>\n",
       "      <th>answered</th>\n",
       "      <th>votes</th>\n",
       "    </tr>\n",
       "  </thead>\n",
       "  <tbody>\n",
       "    <tr>\n",
       "      <th>count</th>\n",
       "      <td>8235.000000</td>\n",
       "      <td>8235.0</td>\n",
       "      <td>8235.000000</td>\n",
       "    </tr>\n",
       "    <tr>\n",
       "      <th>mean</th>\n",
       "      <td>150340.415908</td>\n",
       "      <td>0.0</td>\n",
       "      <td>715.110383</td>\n",
       "    </tr>\n",
       "    <tr>\n",
       "      <th>std</th>\n",
       "      <td>67160.989853</td>\n",
       "      <td>0.0</td>\n",
       "      <td>1324.452564</td>\n",
       "    </tr>\n",
       "    <tr>\n",
       "      <th>min</th>\n",
       "      <td>28.000000</td>\n",
       "      <td>0.0</td>\n",
       "      <td>101.000000</td>\n",
       "    </tr>\n",
       "    <tr>\n",
       "      <th>25%</th>\n",
       "      <td>103623.500000</td>\n",
       "      <td>0.0</td>\n",
       "      <td>146.000000</td>\n",
       "    </tr>\n",
       "    <tr>\n",
       "      <th>50%</th>\n",
       "      <td>165952.000000</td>\n",
       "      <td>0.0</td>\n",
       "      <td>237.000000</td>\n",
       "    </tr>\n",
       "    <tr>\n",
       "      <th>75%</th>\n",
       "      <td>205690.500000</td>\n",
       "      <td>0.0</td>\n",
       "      <td>567.000000</td>\n",
       "    </tr>\n",
       "    <tr>\n",
       "      <th>max</th>\n",
       "      <td>242889.000000</td>\n",
       "      <td>0.0</td>\n",
       "      <td>9988.000000</td>\n",
       "    </tr>\n",
       "  </tbody>\n",
       "</table>\n",
       "</div>"
      ],
      "text/plain": [
       "          article_id  answered        votes\n",
       "count    8235.000000    8235.0  8235.000000\n",
       "mean   150340.415908       0.0   715.110383\n",
       "std     67160.989853       0.0  1324.452564\n",
       "min        28.000000       0.0   101.000000\n",
       "25%    103623.500000       0.0   146.000000\n",
       "50%    165952.000000       0.0   237.000000\n",
       "75%    205690.500000       0.0   567.000000\n",
       "max    242889.000000       0.0  9988.000000"
      ]
     },
     "execution_count": 6,
     "metadata": {},
     "output_type": "execute_result"
    }
   ],
   "source": [
    "df.describe()"
   ]
  },
  {
   "cell_type": "markdown",
   "metadata": {},
   "source": [
    "# 이진분류 대상 정하기\n",
    "* 답변 여부에 대해 분류해보는 실습을 해볼까 했지만 표준편차가 너무 크고 모수가 적어 분류 데이터로 적합하지 않습니다."
   ]
  },
  {
   "cell_type": "code",
   "execution_count": 7,
   "metadata": {},
   "outputs": [
    {
     "data": {
      "text/plain": [
       "(0, 8)"
      ]
     },
     "execution_count": 7,
     "metadata": {},
     "output_type": "execute_result"
    }
   ],
   "source": [
    "# 답변대상건이 몇 건인지 봅니다. \n",
    "df.loc[df['answered'] == 1].shape"
   ]
  },
  {
   "cell_type": "code",
   "execution_count": 8,
   "metadata": {},
   "outputs": [
    {
     "data": {
      "text/plain": [
       "<matplotlib.axes._subplots.AxesSubplot at 0x1051fb748>"
      ]
     },
     "execution_count": 8,
     "metadata": {},
     "output_type": "execute_result"
    },
    {
     "data": {
      "image/png": "[encoded data removed]",
      "text/plain": [
       "<matplotlib.figure.Figure at 0x1148c5f98>"
      ]
     },
     "metadata": {},
     "output_type": "display_data"
    }
   ],
   "source": [
    "%matplotlib inline \n",
    "df['votes'].plot.hist()"
   ]
  },
  {
   "cell_type": "markdown",
   "metadata": {},
   "source": [
    "# 투표수를 평균보다 높게 혹은 적게 받는지 예측해 보기"
   ]
  },
  {
   "cell_type": "code",
   "execution_count": 9,
   "metadata": {},
   "outputs": [],
   "source": [
    "# 기본값을 0으로 세팅\n",
    "df['votes_pos_neg'] = 0"
   ]
  },
  {
   "cell_type": "code",
   "execution_count": 10,
   "metadata": {},
   "outputs": [
    {
     "data": {
      "text/plain": [
       "715.1103825136612"
      ]
     },
     "execution_count": 10,
     "metadata": {},
     "output_type": "execute_result"
    }
   ],
   "source": [
    "# 평균 투표수를 구해 옵니다.\n",
    "votes_mean = df['votes'].mean()\n",
    "votes_mean"
   ]
  },
  {
   "cell_type": "code",
   "execution_count": 11,
   "metadata": {},
   "outputs": [],
   "source": [
    "# 투표수가 평균을 넘으면 1로 다시 세팅합니다.\n",
    "df['votes_pos_neg'] = (df['votes'] > votes_mean) == 1"
   ]
  },
  {
   "cell_type": "code",
   "execution_count": 12,
   "metadata": {},
   "outputs": [],
   "source": [
    "# 타입을 boolean 에서 int로 변경해 줍니다.\n",
    "df['votes_pos_neg'] = df['votes_pos_neg'].astype(int)"
   ]
  },
  {
   "cell_type": "code",
   "execution_count": 13,
   "metadata": {},
   "outputs": [
    {
     "data": {
      "text/html": [
       "<div>\n",
       "<style scoped>\n",
       "    .dataframe tbody tr th:only-of-type {\n",
       "        vertical-align: middle;\n",
       "    }\n",
       "\n",
       "    .dataframe tbody tr th {\n",
       "        vertical-align: top;\n",
       "    }\n",
       "\n",
       "    .dataframe thead th {\n",
       "        text-align: right;\n",
       "    }\n",
       "</style>\n",
       "<table border=\"1\" class=\"dataframe\">\n",
       "  <thead>\n",
       "    <tr style=\"text-align: right;\">\n",
       "      <th></th>\n",
       "      <th>article_id</th>\n",
       "      <th>start</th>\n",
       "      <th>end</th>\n",
       "      <th>answered</th>\n",
       "      <th>votes</th>\n",
       "      <th>category</th>\n",
       "      <th>title</th>\n",
       "      <th>content</th>\n",
       "      <th>votes_pos_neg</th>\n",
       "    </tr>\n",
       "  </thead>\n",
       "  <tbody>\n",
       "    <tr>\n",
       "      <th>7</th>\n",
       "      <td>28</td>\n",
       "      <td>2017-08-19</td>\n",
       "      <td>2017-08-26</td>\n",
       "      <td>0</td>\n",
       "      <td>2137</td>\n",
       "      <td>경제민주화</td>\n",
       "      <td>소액주주를 보호해주십시오</td>\n",
       "      <td>**  존경하옵는 문재인대통령님께\\n저는 중국원양자원이라는 KOSPI상장사의 소액 ...</td>\n",
       "      <td>1</td>\n",
       "    </tr>\n",
       "    <tr>\n",
       "      <th>13</th>\n",
       "      <td>34</td>\n",
       "      <td>2017-08-19</td>\n",
       "      <td>2017-09-18</td>\n",
       "      <td>0</td>\n",
       "      <td>679</td>\n",
       "      <td>기타</td>\n",
       "      <td>『국가유공자 등 예우 및 지원에 관한법률』상「6.25전몰군경 자녀수당」의 불합리한 ...</td>\n",
       "      <td>(현황)\\n우리들 아버지께서는 67여년전 북의 남침으로 조국이 위기에 처했을 때 젊...</td>\n",
       "      <td>0</td>\n",
       "    </tr>\n",
       "    <tr>\n",
       "      <th>16</th>\n",
       "      <td>37</td>\n",
       "      <td>2017-08-19</td>\n",
       "      <td>2017-09-18</td>\n",
       "      <td>0</td>\n",
       "      <td>415</td>\n",
       "      <td>기타</td>\n",
       "      <td>황우석박사님 연구재개 허용 촉구합니다.</td>\n",
       "      <td>국민의 70% 이상이 황우석박사님을 응원하고 지지하고 있습니다.\\n*2007년 1월...</td>\n",
       "      <td>0</td>\n",
       "    </tr>\n",
       "    <tr>\n",
       "      <th>18</th>\n",
       "      <td>40</td>\n",
       "      <td>2017-08-19</td>\n",
       "      <td>2017-09-18</td>\n",
       "      <td>0</td>\n",
       "      <td>218</td>\n",
       "      <td>외교/통일/국방</td>\n",
       "      <td>국가유공자등 예우및 지우너에 관한 법률 시행령 개정</td>\n",
       "      <td>지금부터 67년전 1950년 6.25전쟁때 조국 대한민국이 위태로운 시점에 우리들 ...</td>\n",
       "      <td>0</td>\n",
       "    </tr>\n",
       "    <tr>\n",
       "      <th>19</th>\n",
       "      <td>41</td>\n",
       "      <td>2017-08-19</td>\n",
       "      <td>2017-09-18</td>\n",
       "      <td>0</td>\n",
       "      <td>227</td>\n",
       "      <td>외교/통일/국방</td>\n",
       "      <td>국가유공자등 예우및 지우너에 관한 법률 시행령 개정</td>\n",
       "      <td>지금부터 67년전 1950년 6.25전쟁때 조국 대한민국이 위태로운 시점에 우리들 ...</td>\n",
       "      <td>0</td>\n",
       "    </tr>\n",
       "  </tbody>\n",
       "</table>\n",
       "</div>"
      ],
      "text/plain": [
       "    article_id      start        end  answered  votes  category  \\\n",
       "7           28 2017-08-19 2017-08-26         0   2137     경제민주화   \n",
       "13          34 2017-08-19 2017-09-18         0    679        기타   \n",
       "16          37 2017-08-19 2017-09-18         0    415        기타   \n",
       "18          40 2017-08-19 2017-09-18         0    218  외교/통일/국방   \n",
       "19          41 2017-08-19 2017-09-18         0    227  외교/통일/국방   \n",
       "\n",
       "                                                title  \\\n",
       "7                                       소액주주를 보호해주십시오   \n",
       "13  『국가유공자 등 예우 및 지원에 관한법률』상「6.25전몰군경 자녀수당」의 불합리한 ...   \n",
       "16                              황우석박사님 연구재개 허용 촉구합니다.   \n",
       "18                       국가유공자등 예우및 지우너에 관한 법률 시행령 개정   \n",
       "19                       국가유공자등 예우및 지우너에 관한 법률 시행령 개정   \n",
       "\n",
       "                                              content  votes_pos_neg  \n",
       "7   **  존경하옵는 문재인대통령님께\\n저는 중국원양자원이라는 KOSPI상장사의 소액 ...              1  \n",
       "13  (현황)\\n우리들 아버지께서는 67여년전 북의 남침으로 조국이 위기에 처했을 때 젊...              0  \n",
       "16  국민의 70% 이상이 황우석박사님을 응원하고 지지하고 있습니다.\\n*2007년 1월...              0  \n",
       "18  지금부터 67년전 1950년 6.25전쟁때 조국 대한민국이 위태로운 시점에 우리들 ...              0  \n",
       "19  지금부터 67년전 1950년 6.25전쟁때 조국 대한민국이 위태로운 시점에 우리들 ...              0  "
      ]
     },
     "execution_count": 13,
     "metadata": {},
     "output_type": "execute_result"
    }
   ],
   "source": [
    "df.head()"
   ]
  },
  {
   "cell_type": "code",
   "execution_count": 14,
   "metadata": {},
   "outputs": [],
   "source": [
    "# 샘플로 보고 싶은 인덱스의 번호를 넣어주세요.\n",
    "sample_index = 38"
   ]
  },
  {
   "cell_type": "code",
   "execution_count": 15,
   "metadata": {},
   "outputs": [
    {
     "data": {
      "text/plain": [
       "'영어회화전문강사제도는 유지되어야합니다.'"
      ]
     },
     "execution_count": 15,
     "metadata": {},
     "output_type": "execute_result"
    }
   ],
   "source": [
    "sample_title = df['title'][sample_index]\n",
    "sample_title"
   ]
  },
  {
   "cell_type": "code",
   "execution_count": 16,
   "metadata": {},
   "outputs": [
    {
     "data": {
      "text/plain": [
       "'1. 영전강의고용안정을 원합니다\\\\n2.1년단위계약직으로 임신 출산육아 매우 곤란합니다\\\\n3. 성과급 호봉인정 상여금 급식비지원 전혀없으며 연봉인상 또한 없습니다\\\\n4.인권위의 무기직으로 전환 권고받았습니다\\\\n5.공공부문 비정규직 없애는건 문정부의 공약이며 이에따라 영전강만 제외하는것은 불공평합니다\\\\n저희는 정교사나 정규직을 원하는것이 아닙니다.\\\\n이 일을 계속 하길 희망할 뿐입니다.  문재인대통령님께선 일자리창출을 매우 중요하게 생각하셨습니다.  일자리창출 만큼 중요한것이 일자리 유지입니다.  창출만 하고 유지가 되지 않는다면 그저  형식적인 정책일 뿐입니다. 하루빨리 결과가 나와  안정된 마음으로 일하고 싶습니다.  감사합니다.'"
      ]
     },
     "execution_count": 16,
     "metadata": {},
     "output_type": "execute_result"
    }
   ],
   "source": [
    "sample_content = petitions['content'][sample_index]\n",
    "sample_content"
   ]
  },
  {
   "cell_type": "markdown",
   "metadata": {},
   "source": [
    "# 전처리 하기 "
   ]
  },
  {
   "cell_type": "code",
   "execution_count": 17,
   "metadata": {},
   "outputs": [],
   "source": [
    "def preprocessing(text):\n",
    "    # 개행문자 제거\n",
    "    text = re.sub('\\\\\\\\n', ' ', text)\n",
    "    # 특수문자 제거\n",
    "    # 특수문자나 이모티콘 등은 때로는 의미를 갖기도 하지만 여기에서는 제거했습니다.\n",
    "    # text = re.sub('[?.,;:|\\)*~`’!^\\-_+<>@\\#$%&-=#}※]', '', text)\n",
    "    # 한글, 영문, 숫자만 남기고 모두 제거하도록 합니다.\n",
    "    # text = re.sub('[^가-힣ㄱ-ㅎㅏ-ㅣa-zA-Z0-9]', ' ', text)\n",
    "    # 한글, 영문만 남기고 모두 제거하도록 합니다.\n",
    "    text = re.sub('[^가-힣ㄱ-ㅎㅏ-ㅣa-zA-Z]', ' ', text)\n",
    "    return text"
   ]
  },
  {
   "cell_type": "code",
   "execution_count": 18,
   "metadata": {},
   "outputs": [],
   "source": [
    "# 불용어 제거\n",
    "def remove_stopwords(text):\n",
    "    tokens = text.split(' ')\n",
    "    stops = ['수', '현', '있는', '있습니다', '그', '년도', '합니다', '하는', '및', '제', '할', '하고', '더', '대한', '한', '그리고', '월', '저는', '없는', '입니다', '등', '일', '많은', '이런', '것은', '왜','같은', '같습니다', '없습니다', '위해', '한다']\n",
    "    meaningful_words = [w for w in tokens if not w in stops]\n",
    "    return ' '.join(meaningful_words)"
   ]
  },
  {
   "cell_type": "code",
   "execution_count": 19,
   "metadata": {},
   "outputs": [],
   "source": [
    "# 샘플데이터에 적용\n",
    "pre_sample_content = preprocessing(sample_content)"
   ]
  },
  {
   "cell_type": "code",
   "execution_count": 20,
   "metadata": {},
   "outputs": [],
   "source": [
    "pre_sample_content = remove_stopwords(pre_sample_content)"
   ]
  },
  {
   "cell_type": "code",
   "execution_count": 21,
   "metadata": {},
   "outputs": [
    {
     "name": "stdout",
     "output_type": "stream",
     "text": [
      "CPU times: user 531 ms, sys: 7.6 ms, total: 539 ms\n",
      "Wall time: 548 ms\n"
     ]
    }
   ],
   "source": [
    "%time df['content_preprocessing'] = df['content'].apply(preprocessing)"
   ]
  },
  {
   "cell_type": "code",
   "execution_count": 22,
   "metadata": {},
   "outputs": [
    {
     "name": "stdout",
     "output_type": "stream",
     "text": [
      "CPU times: user 1 s, sys: 9.58 ms, total: 1.01 s\n",
      "Wall time: 1.02 s\n"
     ]
    }
   ],
   "source": [
    "%time df['content_preprocessing2'] = df['content_preprocessing'].apply(remove_stopwords)"
   ]
  },
  {
   "cell_type": "markdown",
   "metadata": {},
   "source": [
    "# 학습세트와 테스트세트 만들기\n",
    "* 학습세트와 테스트세트를 7:3의 비율로 나눠 줍니다."
   ]
  },
  {
   "cell_type": "code",
   "execution_count": 23,
   "metadata": {},
   "outputs": [],
   "source": [
    "df = df.reindex()"
   ]
  },
  {
   "cell_type": "code",
   "execution_count": 24,
   "metadata": {},
   "outputs": [
    {
     "data": {
      "text/plain": [
       "(8235, 11)"
      ]
     },
     "execution_count": 24,
     "metadata": {},
     "output_type": "execute_result"
    }
   ],
   "source": [
    "df.shape"
   ]
  },
  {
   "cell_type": "code",
   "execution_count": 25,
   "metadata": {},
   "outputs": [
    {
     "data": {
      "text/plain": [
       "5764"
      ]
     },
     "execution_count": 25,
     "metadata": {},
     "output_type": "execute_result"
    }
   ],
   "source": [
    "split_count = int(df.shape[0] * 0.7)\n",
    "split_count"
   ]
  },
  {
   "cell_type": "code",
   "execution_count": 26,
   "metadata": {},
   "outputs": [
    {
     "data": {
      "text/plain": [
       "(5764, 11)"
      ]
     },
     "execution_count": 26,
     "metadata": {},
     "output_type": "execute_result"
    }
   ],
   "source": [
    "df_train = df[:split_count].copy()\n",
    "df_train.shape"
   ]
  },
  {
   "cell_type": "code",
   "execution_count": 27,
   "metadata": {},
   "outputs": [
    {
     "data": {
      "text/html": [
       "<div>\n",
       "<style scoped>\n",
       "    .dataframe tbody tr th:only-of-type {\n",
       "        vertical-align: middle;\n",
       "    }\n",
       "\n",
       "    .dataframe tbody tr th {\n",
       "        vertical-align: top;\n",
       "    }\n",
       "\n",
       "    .dataframe thead th {\n",
       "        text-align: right;\n",
       "    }\n",
       "</style>\n",
       "<table border=\"1\" class=\"dataframe\">\n",
       "  <thead>\n",
       "    <tr style=\"text-align: right;\">\n",
       "      <th></th>\n",
       "      <th>article_id</th>\n",
       "      <th>start</th>\n",
       "      <th>end</th>\n",
       "      <th>answered</th>\n",
       "      <th>votes</th>\n",
       "      <th>category</th>\n",
       "      <th>title</th>\n",
       "      <th>content</th>\n",
       "      <th>votes_pos_neg</th>\n",
       "      <th>content_preprocessing</th>\n",
       "      <th>content_preprocessing2</th>\n",
       "    </tr>\n",
       "  </thead>\n",
       "  <tbody>\n",
       "    <tr>\n",
       "      <th>7</th>\n",
       "      <td>28</td>\n",
       "      <td>2017-08-19</td>\n",
       "      <td>2017-08-26</td>\n",
       "      <td>0</td>\n",
       "      <td>2137</td>\n",
       "      <td>경제민주화</td>\n",
       "      <td>소액주주를 보호해주십시오</td>\n",
       "      <td>**  존경하옵는 문재인대통령님께\\n저는 중국원양자원이라는 KOSPI상장사의 소액 ...</td>\n",
       "      <td>1</td>\n",
       "      <td>존경하옵는 문재인대통령님께 저는 중국원양자원이라는 KOSPI상장사의 소액 주...</td>\n",
       "      <td>존경하옵는 문재인대통령님께 중국원양자원이라는 KOSPI상장사의 소액 주주입니...</td>\n",
       "    </tr>\n",
       "    <tr>\n",
       "      <th>13</th>\n",
       "      <td>34</td>\n",
       "      <td>2017-08-19</td>\n",
       "      <td>2017-09-18</td>\n",
       "      <td>0</td>\n",
       "      <td>679</td>\n",
       "      <td>기타</td>\n",
       "      <td>『국가유공자 등 예우 및 지원에 관한법률』상「6.25전몰군경 자녀수당」의 불합리한 ...</td>\n",
       "      <td>(현황)\\n우리들 아버지께서는 67여년전 북의 남침으로 조국이 위기에 처했을 때 젊...</td>\n",
       "      <td>0</td>\n",
       "      <td>현황  우리들 아버지께서는   여년전 북의 남침으로 조국이 위기에 처했을 때 젊은...</td>\n",
       "      <td>현황  우리들 아버지께서는   여년전 북의 남침으로 조국이 위기에 처했을 때 젊은...</td>\n",
       "    </tr>\n",
       "    <tr>\n",
       "      <th>16</th>\n",
       "      <td>37</td>\n",
       "      <td>2017-08-19</td>\n",
       "      <td>2017-09-18</td>\n",
       "      <td>0</td>\n",
       "      <td>415</td>\n",
       "      <td>기타</td>\n",
       "      <td>황우석박사님 연구재개 허용 촉구합니다.</td>\n",
       "      <td>국민의 70% 이상이 황우석박사님을 응원하고 지지하고 있습니다.\\n*2007년 1월...</td>\n",
       "      <td>0</td>\n",
       "      <td>국민의     이상이 황우석박사님을 응원하고 지지하고 있습니다       년  월 ...</td>\n",
       "      <td>국민의     이상이 황우석박사님을 응원하고 지지하고       년  중앙일보 여론...</td>\n",
       "    </tr>\n",
       "    <tr>\n",
       "      <th>18</th>\n",
       "      <td>40</td>\n",
       "      <td>2017-08-19</td>\n",
       "      <td>2017-09-18</td>\n",
       "      <td>0</td>\n",
       "      <td>218</td>\n",
       "      <td>외교/통일/국방</td>\n",
       "      <td>국가유공자등 예우및 지우너에 관한 법률 시행령 개정</td>\n",
       "      <td>지금부터 67년전 1950년 6.25전쟁때 조국 대한민국이 위태로운 시점에 우리들 ...</td>\n",
       "      <td>0</td>\n",
       "      <td>지금부터   년전     년     전쟁때 조국 대한민국이 위태로운 시점에 우리들 ...</td>\n",
       "      <td>지금부터   년전     년     전쟁때 조국 대한민국이 위태로운 시점에 우리들 ...</td>\n",
       "    </tr>\n",
       "    <tr>\n",
       "      <th>19</th>\n",
       "      <td>41</td>\n",
       "      <td>2017-08-19</td>\n",
       "      <td>2017-09-18</td>\n",
       "      <td>0</td>\n",
       "      <td>227</td>\n",
       "      <td>외교/통일/국방</td>\n",
       "      <td>국가유공자등 예우및 지우너에 관한 법률 시행령 개정</td>\n",
       "      <td>지금부터 67년전 1950년 6.25전쟁때 조국 대한민국이 위태로운 시점에 우리들 ...</td>\n",
       "      <td>0</td>\n",
       "      <td>지금부터   년전     년     전쟁때 조국 대한민국이 위태로운 시점에 우리들 ...</td>\n",
       "      <td>지금부터   년전     년     전쟁때 조국 대한민국이 위태로운 시점에 우리들 ...</td>\n",
       "    </tr>\n",
       "  </tbody>\n",
       "</table>\n",
       "</div>"
      ],
      "text/plain": [
       "    article_id      start        end  answered  votes  category  \\\n",
       "7           28 2017-08-19 2017-08-26         0   2137     경제민주화   \n",
       "13          34 2017-08-19 2017-09-18         0    679        기타   \n",
       "16          37 2017-08-19 2017-09-18         0    415        기타   \n",
       "18          40 2017-08-19 2017-09-18         0    218  외교/통일/국방   \n",
       "19          41 2017-08-19 2017-09-18         0    227  외교/통일/국방   \n",
       "\n",
       "                                                title  \\\n",
       "7                                       소액주주를 보호해주십시오   \n",
       "13  『국가유공자 등 예우 및 지원에 관한법률』상「6.25전몰군경 자녀수당」의 불합리한 ...   \n",
       "16                              황우석박사님 연구재개 허용 촉구합니다.   \n",
       "18                       국가유공자등 예우및 지우너에 관한 법률 시행령 개정   \n",
       "19                       국가유공자등 예우및 지우너에 관한 법률 시행령 개정   \n",
       "\n",
       "                                              content  votes_pos_neg  \\\n",
       "7   **  존경하옵는 문재인대통령님께\\n저는 중국원양자원이라는 KOSPI상장사의 소액 ...              1   \n",
       "13  (현황)\\n우리들 아버지께서는 67여년전 북의 남침으로 조국이 위기에 처했을 때 젊...              0   \n",
       "16  국민의 70% 이상이 황우석박사님을 응원하고 지지하고 있습니다.\\n*2007년 1월...              0   \n",
       "18  지금부터 67년전 1950년 6.25전쟁때 조국 대한민국이 위태로운 시점에 우리들 ...              0   \n",
       "19  지금부터 67년전 1950년 6.25전쟁때 조국 대한민국이 위태로운 시점에 우리들 ...              0   \n",
       "\n",
       "                                content_preprocessing  \\\n",
       "7       존경하옵는 문재인대통령님께 저는 중국원양자원이라는 KOSPI상장사의 소액 주...   \n",
       "13   현황  우리들 아버지께서는   여년전 북의 남침으로 조국이 위기에 처했을 때 젊은...   \n",
       "16  국민의     이상이 황우석박사님을 응원하고 지지하고 있습니다       년  월 ...   \n",
       "18  지금부터   년전     년     전쟁때 조국 대한민국이 위태로운 시점에 우리들 ...   \n",
       "19  지금부터   년전     년     전쟁때 조국 대한민국이 위태로운 시점에 우리들 ...   \n",
       "\n",
       "                               content_preprocessing2  \n",
       "7       존경하옵는 문재인대통령님께 중국원양자원이라는 KOSPI상장사의 소액 주주입니...  \n",
       "13   현황  우리들 아버지께서는   여년전 북의 남침으로 조국이 위기에 처했을 때 젊은...  \n",
       "16  국민의     이상이 황우석박사님을 응원하고 지지하고       년  중앙일보 여론...  \n",
       "18  지금부터   년전     년     전쟁때 조국 대한민국이 위태로운 시점에 우리들 ...  \n",
       "19  지금부터   년전     년     전쟁때 조국 대한민국이 위태로운 시점에 우리들 ...  "
      ]
     },
     "execution_count": 27,
     "metadata": {},
     "output_type": "execute_result"
    }
   ],
   "source": [
    "df_train.head()"
   ]
  },
  {
   "cell_type": "code",
   "execution_count": 28,
   "metadata": {},
   "outputs": [
    {
     "data": {
      "text/plain": [
       "(1348, 11)"
      ]
     },
     "execution_count": 28,
     "metadata": {},
     "output_type": "execute_result"
    }
   ],
   "source": [
    "# 학습 세트에서 투표수가 평균보다 많은 건\n",
    "df_train.loc[df_train['votes_pos_neg'] == 1].shape"
   ]
  },
  {
   "cell_type": "code",
   "execution_count": 29,
   "metadata": {},
   "outputs": [
    {
     "data": {
      "text/plain": [
       "(2471, 11)"
      ]
     },
     "execution_count": 29,
     "metadata": {},
     "output_type": "execute_result"
    }
   ],
   "source": [
    "df_test = df[split_count:].copy()\n",
    "df_test.shape"
   ]
  },
  {
   "cell_type": "code",
   "execution_count": 30,
   "metadata": {},
   "outputs": [
    {
     "data": {
      "text/html": [
       "<div>\n",
       "<style scoped>\n",
       "    .dataframe tbody tr th:only-of-type {\n",
       "        vertical-align: middle;\n",
       "    }\n",
       "\n",
       "    .dataframe tbody tr th {\n",
       "        vertical-align: top;\n",
       "    }\n",
       "\n",
       "    .dataframe thead th {\n",
       "        text-align: right;\n",
       "    }\n",
       "</style>\n",
       "<table border=\"1\" class=\"dataframe\">\n",
       "  <thead>\n",
       "    <tr style=\"text-align: right;\">\n",
       "      <th></th>\n",
       "      <th>article_id</th>\n",
       "      <th>start</th>\n",
       "      <th>end</th>\n",
       "      <th>answered</th>\n",
       "      <th>votes</th>\n",
       "      <th>category</th>\n",
       "      <th>title</th>\n",
       "      <th>content</th>\n",
       "      <th>votes_pos_neg</th>\n",
       "      <th>content_preprocessing</th>\n",
       "      <th>content_preprocessing2</th>\n",
       "    </tr>\n",
       "  </thead>\n",
       "  <tbody>\n",
       "    <tr>\n",
       "      <th>163102</th>\n",
       "      <td>201588</td>\n",
       "      <td>2018-04-16</td>\n",
       "      <td>2018-05-16</td>\n",
       "      <td>0</td>\n",
       "      <td>723</td>\n",
       "      <td>육아/교육</td>\n",
       "      <td>수능정시확대 반대</td>\n",
       "      <td>제4차산업혁명시대에 대학교육이 바뀌어야 합니다.\\n책이나 인터넷에 나오는 내용을 잘...</td>\n",
       "      <td>1</td>\n",
       "      <td>제 차산업혁명시대에 대학교육이 바뀌어야 합니다  책이나 인터넷에 나오는 내용을 잘 ...</td>\n",
       "      <td>차산업혁명시대에 대학교육이 바뀌어야  책이나 인터넷에 나오는 내용을 잘 활용하여 새...</td>\n",
       "    </tr>\n",
       "    <tr>\n",
       "      <th>163104</th>\n",
       "      <td>201590</td>\n",
       "      <td>2018-04-16</td>\n",
       "      <td>2018-05-16</td>\n",
       "      <td>0</td>\n",
       "      <td>176</td>\n",
       "      <td>외교/통일/국방</td>\n",
       "      <td>불어라!평화의봄바람:청소년이 남.북.미 정상에게 보내는 영상편지</td>\n",
       "      <td>세상의 모든 봄이 한반도에 올 것 같은, 4월\\n남측의 문재인 대통령\\n북측의 김정...</td>\n",
       "      <td>0</td>\n",
       "      <td>세상의 모든 봄이 한반도에 올 것 같은   월 남측의 문재인 대통령 북측의 김정은 ...</td>\n",
       "      <td>세상의 모든 봄이 한반도에 올 것   남측의 문재인 대통령 북측의 김정은 위원장 미...</td>\n",
       "    </tr>\n",
       "    <tr>\n",
       "      <th>163108</th>\n",
       "      <td>201596</td>\n",
       "      <td>2018-04-16</td>\n",
       "      <td>2018-05-16</td>\n",
       "      <td>0</td>\n",
       "      <td>160</td>\n",
       "      <td>기타</td>\n",
       "      <td>대한항공 이름변경하게 해주세요</td>\n",
       "      <td>대한항공 자매들 나라망신 아닙니까?\\n어디서 이런사람들한테 대한이라는 이름을 줍니까...</td>\n",
       "      <td>0</td>\n",
       "      <td>대한항공 자매들 나라망신 아닙니까  어디서 이런사람들한테 대한이라는 이름을 줍니까 ...</td>\n",
       "      <td>대한항공 자매들 나라망신 아닙니까  어디서 이런사람들한테 대한이라는 이름을 줍니까 ...</td>\n",
       "    </tr>\n",
       "    <tr>\n",
       "      <th>163121</th>\n",
       "      <td>201615</td>\n",
       "      <td>2018-04-16</td>\n",
       "      <td>2018-05-16</td>\n",
       "      <td>0</td>\n",
       "      <td>199</td>\n",
       "      <td>기타</td>\n",
       "      <td>대한항공 사태관련 국격훼손과 일가의 갑질.사명 회수등 강력요청.</td>\n",
       "      <td>뉴스를 볼때마다 울화통이 치밀어 오르네요. 해외뉴스에 연이어 나오며 나라망신을 시킨...</td>\n",
       "      <td>0</td>\n",
       "      <td>뉴스를 볼때마다 울화통이 치밀어 오르네요  해외뉴스에 연이어 나오며 나라망신을 시킨...</td>\n",
       "      <td>뉴스를 볼때마다 울화통이 치밀어 오르네요  해외뉴스에 연이어 나오며 나라망신을 시킨...</td>\n",
       "    </tr>\n",
       "    <tr>\n",
       "      <th>163129</th>\n",
       "      <td>201624</td>\n",
       "      <td>2018-04-16</td>\n",
       "      <td>2018-05-16</td>\n",
       "      <td>0</td>\n",
       "      <td>112</td>\n",
       "      <td>정치개혁</td>\n",
       "      <td>조선일보 폐지</td>\n",
       "      <td>김경수의원 의도적으로 정치적으로 의문점을 꼭 진행한것처럼 편향적인 보도를 하는 조신...</td>\n",
       "      <td>0</td>\n",
       "      <td>김경수의원 의도적으로 정치적으로 의문점을 꼭 진행한것처럼 편향적인 보도를 하는 조신...</td>\n",
       "      <td>김경수의원 의도적으로 정치적으로 의문점을 꼭 진행한것처럼 편향적인 보도를 조신일보는...</td>\n",
       "    </tr>\n",
       "  </tbody>\n",
       "</table>\n",
       "</div>"
      ],
      "text/plain": [
       "        article_id      start        end  answered  votes  category  \\\n",
       "163102      201588 2018-04-16 2018-05-16         0    723     육아/교육   \n",
       "163104      201590 2018-04-16 2018-05-16         0    176  외교/통일/국방   \n",
       "163108      201596 2018-04-16 2018-05-16         0    160        기타   \n",
       "163121      201615 2018-04-16 2018-05-16         0    199        기타   \n",
       "163129      201624 2018-04-16 2018-05-16         0    112      정치개혁   \n",
       "\n",
       "                                      title  \\\n",
       "163102                            수능정시확대 반대   \n",
       "163104  불어라!평화의봄바람:청소년이 남.북.미 정상에게 보내는 영상편지   \n",
       "163108                     대한항공 이름변경하게 해주세요   \n",
       "163121  대한항공 사태관련 국격훼손과 일가의 갑질.사명 회수등 강력요청.   \n",
       "163129                              조선일보 폐지   \n",
       "\n",
       "                                                  content  votes_pos_neg  \\\n",
       "163102  제4차산업혁명시대에 대학교육이 바뀌어야 합니다.\\n책이나 인터넷에 나오는 내용을 잘...              1   \n",
       "163104  세상의 모든 봄이 한반도에 올 것 같은, 4월\\n남측의 문재인 대통령\\n북측의 김정...              0   \n",
       "163108  대한항공 자매들 나라망신 아닙니까?\\n어디서 이런사람들한테 대한이라는 이름을 줍니까...              0   \n",
       "163121  뉴스를 볼때마다 울화통이 치밀어 오르네요. 해외뉴스에 연이어 나오며 나라망신을 시킨...              0   \n",
       "163129  김경수의원 의도적으로 정치적으로 의문점을 꼭 진행한것처럼 편향적인 보도를 하는 조신...              0   \n",
       "\n",
       "                                    content_preprocessing  \\\n",
       "163102  제 차산업혁명시대에 대학교육이 바뀌어야 합니다  책이나 인터넷에 나오는 내용을 잘 ...   \n",
       "163104  세상의 모든 봄이 한반도에 올 것 같은   월 남측의 문재인 대통령 북측의 김정은 ...   \n",
       "163108  대한항공 자매들 나라망신 아닙니까  어디서 이런사람들한테 대한이라는 이름을 줍니까 ...   \n",
       "163121  뉴스를 볼때마다 울화통이 치밀어 오르네요  해외뉴스에 연이어 나오며 나라망신을 시킨...   \n",
       "163129  김경수의원 의도적으로 정치적으로 의문점을 꼭 진행한것처럼 편향적인 보도를 하는 조신...   \n",
       "\n",
       "                                   content_preprocessing2  \n",
       "163102  차산업혁명시대에 대학교육이 바뀌어야  책이나 인터넷에 나오는 내용을 잘 활용하여 새...  \n",
       "163104  세상의 모든 봄이 한반도에 올 것   남측의 문재인 대통령 북측의 김정은 위원장 미...  \n",
       "163108  대한항공 자매들 나라망신 아닙니까  어디서 이런사람들한테 대한이라는 이름을 줍니까 ...  \n",
       "163121  뉴스를 볼때마다 울화통이 치밀어 오르네요  해외뉴스에 연이어 나오며 나라망신을 시킨...  \n",
       "163129  김경수의원 의도적으로 정치적으로 의문점을 꼭 진행한것처럼 편향적인 보도를 조신일보는...  "
      ]
     },
     "execution_count": 30,
     "metadata": {},
     "output_type": "execute_result"
    }
   ],
   "source": [
    "df_test.head()"
   ]
  },
  {
   "cell_type": "code",
   "execution_count": 31,
   "metadata": {},
   "outputs": [
    {
     "data": {
      "text/plain": [
       "(365, 11)"
      ]
     },
     "execution_count": 31,
     "metadata": {},
     "output_type": "execute_result"
    }
   ],
   "source": [
    "# 테스트 세트에서 투표수가 평균보다 많은 건\n",
    "df_test.loc[df_test['votes_pos_neg'] == 1].shape"
   ]
  },
  {
   "cell_type": "markdown",
   "metadata": {},
   "source": [
    "# 단어 벡터화 하기"
   ]
  },
  {
   "cell_type": "code",
   "execution_count": 32,
   "metadata": {},
   "outputs": [
    {
     "data": {
      "text/plain": [
       "CountVectorizer(analyzer='word', binary=False, decode_error='strict',\n",
       "        dtype=<class 'numpy.int64'>, encoding='utf-8', input='content',\n",
       "        lowercase=True, max_df=1.0, max_features=2000, min_df=2,\n",
       "        ngram_range=(1, 3), preprocessor=None, stop_words=None,\n",
       "        strip_accents=None, token_pattern='(?u)\\\\b\\\\w\\\\w+\\\\b',\n",
       "        tokenizer=None, vocabulary=None)"
      ]
     },
     "execution_count": 32,
     "metadata": {},
     "output_type": "execute_result"
    }
   ],
   "source": [
    "from sklearn.feature_extraction.text import CountVectorizer\n",
    "\n",
    "vectorizer = CountVectorizer(analyzer = 'word', # 캐릭터 단위로 벡터화 할 수도 있습니다.\n",
    "                             tokenizer = None, # 토크나이저를 따로 지정해 줄 수도 있습니다.\n",
    "                             preprocessor = None, # 전처리 도구\n",
    "                             stop_words = None, # 불용어 nltk등의 도구를 사용할 수도 있습니다.\n",
    "                             min_df = 2, # 토큰이 나타날 최소 문서 개수로 오타나 자주 나오지 않는 특수한 전문용어 제거에 좋다. \n",
    "                             ngram_range=(1, 3), # BOW의 단위를 1~3개로 지정합니다.\n",
    "                             max_features = 2000 # 만들 피처의 수, 단어의 수가 된다.\n",
    "                            )\n",
    "vectorizer"
   ]
  },
  {
   "cell_type": "code",
   "execution_count": 33,
   "metadata": {},
   "outputs": [
    {
     "name": "stdout",
     "output_type": "stream",
     "text": [
      "CPU times: user 12 s, sys: 513 ms, total: 12.5 s\n",
      "Wall time: 12.6 s\n"
     ]
    }
   ],
   "source": [
    "%%time \n",
    "train_feature_vector = vectorizer.fit_transform(df_train['content_preprocessing2'])\n",
    "train_feature_vector.shape"
   ]
  },
  {
   "cell_type": "code",
   "execution_count": 34,
   "metadata": {},
   "outputs": [
    {
     "name": "stdout",
     "output_type": "stream",
     "text": [
      "CPU times: user 3.78 s, sys: 123 ms, total: 3.9 s\n",
      "Wall time: 3.9 s\n"
     ]
    }
   ],
   "source": [
    "%%time \n",
    "test_feature_vector = vectorizer.fit_transform(df_test['content_preprocessing2'])\n",
    "test_feature_vector.shape"
   ]
  },
  {
   "cell_type": "code",
   "execution_count": 35,
   "metadata": {},
   "outputs": [
    {
     "name": "stdout",
     "output_type": "stream",
     "text": [
      "2000\n"
     ]
    },
    {
     "data": {
      "text/plain": [
       "['aid',\n",
       " 'blog',\n",
       " 'co',\n",
       " 'co kr',\n",
       " 'co kr news',\n",
       " 'com',\n",
       " 'com watch',\n",
       " 'go',\n",
       " 'go kr',\n",
       " 'go kr petitions']"
      ]
     },
     "execution_count": 35,
     "metadata": {},
     "output_type": "execute_result"
    }
   ],
   "source": [
    "vocab = vectorizer.get_feature_names()\n",
    "print(len(vocab))\n",
    "vocab[:10]"
   ]
  },
  {
   "cell_type": "code",
   "execution_count": 36,
   "metadata": {},
   "outputs": [
    {
     "data": {
      "text/html": [
       "<div>\n",
       "<style scoped>\n",
       "    .dataframe tbody tr th:only-of-type {\n",
       "        vertical-align: middle;\n",
       "    }\n",
       "\n",
       "    .dataframe tbody tr th {\n",
       "        vertical-align: top;\n",
       "    }\n",
       "\n",
       "    .dataframe thead th {\n",
       "        text-align: right;\n",
       "    }\n",
       "</style>\n",
       "<table border=\"1\" class=\"dataframe\">\n",
       "  <thead>\n",
       "    <tr style=\"text-align: right;\">\n",
       "      <th></th>\n",
       "      <th>aid</th>\n",
       "      <th>blog</th>\n",
       "      <th>co</th>\n",
       "      <th>co kr</th>\n",
       "      <th>co kr news</th>\n",
       "      <th>com</th>\n",
       "      <th>com watch</th>\n",
       "      <th>go</th>\n",
       "      <th>go kr</th>\n",
       "      <th>go kr petitions</th>\n",
       "      <th>...</th>\n",
       "      <th>후에</th>\n",
       "      <th>훨씬</th>\n",
       "      <th>휴게시간을</th>\n",
       "      <th>희망을</th>\n",
       "      <th>힘든</th>\n",
       "      <th>힘들게</th>\n",
       "      <th>힘들어</th>\n",
       "      <th>힘없는</th>\n",
       "      <th>힘을</th>\n",
       "      <th>힘이</th>\n",
       "    </tr>\n",
       "  </thead>\n",
       "  <tbody>\n",
       "    <tr>\n",
       "      <th>0</th>\n",
       "      <td>81</td>\n",
       "      <td>155</td>\n",
       "      <td>77</td>\n",
       "      <td>58</td>\n",
       "      <td>58</td>\n",
       "      <td>215</td>\n",
       "      <td>202</td>\n",
       "      <td>82</td>\n",
       "      <td>366</td>\n",
       "      <td>66</td>\n",
       "      <td>...</td>\n",
       "      <td>155</td>\n",
       "      <td>151</td>\n",
       "      <td>210</td>\n",
       "      <td>138</td>\n",
       "      <td>65</td>\n",
       "      <td>64</td>\n",
       "      <td>77</td>\n",
       "      <td>100</td>\n",
       "      <td>161</td>\n",
       "      <td>104</td>\n",
       "    </tr>\n",
       "  </tbody>\n",
       "</table>\n",
       "<p>1 rows × 2000 columns</p>\n",
       "</div>"
      ],
      "text/plain": [
       "   aid  blog  co  co kr  co kr news  com  com watch  go  go kr  \\\n",
       "0   81   155  77     58          58  215        202  82    366   \n",
       "\n",
       "   go kr petitions ...    후에   훨씬  휴게시간을  희망을  힘든  힘들게  힘들어  힘없는   힘을   힘이  \n",
       "0               66 ...   155  151    210  138  65   64   77  100  161  104  \n",
       "\n",
       "[1 rows x 2000 columns]"
      ]
     },
     "execution_count": 36,
     "metadata": {},
     "output_type": "execute_result"
    }
   ],
   "source": [
    "dist = np.sum(train_feature_vector, axis=0)\n",
    "\n",
    "pd.DataFrame(dist, columns=vocab)"
   ]
  },
  {
   "cell_type": "code",
   "execution_count": 37,
   "metadata": {},
   "outputs": [
    {
     "data": {
      "text/plain": [
       "TfidfTransformer(norm='l2', smooth_idf=False, sublinear_tf=False,\n",
       "         use_idf=True)"
      ]
     },
     "execution_count": 37,
     "metadata": {},
     "output_type": "execute_result"
    }
   ],
   "source": [
    "from sklearn.feature_extraction.text import TfidfTransformer\n",
    "transformer = TfidfTransformer(smooth_idf=False)\n",
    "transformer"
   ]
  },
  {
   "cell_type": "code",
   "execution_count": 38,
   "metadata": {},
   "outputs": [
    {
     "name": "stdout",
     "output_type": "stream",
     "text": [
      "CPU times: user 14.2 ms, sys: 5.64 ms, total: 19.8 ms\n",
      "Wall time: 20.4 ms\n"
     ]
    }
   ],
   "source": [
    "%%time \n",
    "train_feature_tfidf = transformer.fit_transform(train_feature_vector)\n",
    "train_feature_tfidf.shape"
   ]
  },
  {
   "cell_type": "code",
   "execution_count": 39,
   "metadata": {},
   "outputs": [
    {
     "name": "stdout",
     "output_type": "stream",
     "text": [
      "CPU times: user 5.17 ms, sys: 2.47 ms, total: 7.64 ms\n",
      "Wall time: 5.47 ms\n"
     ]
    }
   ],
   "source": [
    "%%time \n",
    "test_feature_tfidf = transformer.fit_transform(test_feature_vector)\n",
    "test_feature_tfidf.shape"
   ]
  },
  {
   "cell_type": "code",
   "execution_count": 40,
   "metadata": {},
   "outputs": [
    {
     "data": {
      "text/plain": [
       "(2471, 2000)"
      ]
     },
     "execution_count": 40,
     "metadata": {},
     "output_type": "execute_result"
    }
   ],
   "source": [
    "test_feature_tfidf.shape"
   ]
  },
  {
   "cell_type": "markdown",
   "metadata": {},
   "source": [
    "# 랜덤 포레스트로 학습시키기\n",
    "* 공식문서 : http://scikit-learn.org/stable/modules/generated/sklearn.ensemble.RandomForestClassifier.html"
   ]
  },
  {
   "cell_type": "code",
   "execution_count": 41,
   "metadata": {},
   "outputs": [
    {
     "data": {
      "text/plain": [
       "RandomForestClassifier(bootstrap=True, class_weight=None, criterion='gini',\n",
       "            max_depth=None, max_features='auto', max_leaf_nodes=None,\n",
       "            min_impurity_decrease=0.0, min_impurity_split=None,\n",
       "            min_samples_leaf=1, min_samples_split=2,\n",
       "            min_weight_fraction_leaf=0.0, n_estimators=100, n_jobs=-1,\n",
       "            oob_score=False, random_state=2018, verbose=0,\n",
       "            warm_start=False)"
      ]
     },
     "execution_count": 41,
     "metadata": {},
     "output_type": "execute_result"
    }
   ],
   "source": [
    "from sklearn.ensemble import RandomForestClassifier\n",
    "\n",
    "# 랜덤포레스트 분류기를 사용\n",
    "forest = RandomForestClassifier(\n",
    "    n_estimators = 100, n_jobs = -1, random_state=2018)\n",
    "forest"
   ]
  },
  {
   "cell_type": "code",
   "execution_count": 42,
   "metadata": {},
   "outputs": [
    {
     "name": "stdout",
     "output_type": "stream",
     "text": [
      "CPU times: user 8.56 s, sys: 72.9 ms, total: 8.63 s\n",
      "Wall time: 2.98 s\n"
     ]
    }
   ],
   "source": [
    "# 학습에 사용할 y_label 을 넣어준다.\n",
    "y_label = df_train['votes_pos_neg']\n",
    "%time forest = forest.fit(train_feature_tfidf, y_label)"
   ]
  },
  {
   "cell_type": "markdown",
   "metadata": {},
   "source": [
    "# 평가하기"
   ]
  },
  {
   "cell_type": "code",
   "execution_count": 43,
   "metadata": {},
   "outputs": [
    {
     "data": {
      "text/plain": [
       "array([0.78577624, 0.77103209, 0.76669558, 0.74848222, 0.74392361])"
      ]
     },
     "execution_count": 43,
     "metadata": {},
     "output_type": "execute_result"
    }
   ],
   "source": [
    "from sklearn.model_selection import KFold\n",
    "from sklearn.model_selection import cross_val_score\n",
    "k_fold = KFold(n_splits=5, shuffle=True, random_state=0)\n",
    "\n",
    "scoring = 'accuracy'\n",
    "score = cross_val_score(forest, train_feature_tfidf, y_label, cv=k_fold, n_jobs=-1, scoring=scoring)\n",
    "score"
   ]
  },
  {
   "cell_type": "code",
   "execution_count": 44,
   "metadata": {},
   "outputs": [
    {
     "data": {
      "text/plain": [
       "76.32"
      ]
     },
     "execution_count": 44,
     "metadata": {},
     "output_type": "execute_result"
    }
   ],
   "source": [
    "round(np.mean(score)*100,2)"
   ]
  },
  {
   "cell_type": "markdown",
   "metadata": {},
   "source": [
    "# 예측"
   ]
  },
  {
   "cell_type": "code",
   "execution_count": 45,
   "metadata": {},
   "outputs": [
    {
     "data": {
      "text/plain": [
       "array([0, 0, 0, 0, 0, 0, 0, 0, 0, 0])"
      ]
     },
     "execution_count": 45,
     "metadata": {},
     "output_type": "execute_result"
    }
   ],
   "source": [
    "# 테스트 데이터를 넣고 예측한다.\n",
    "y_pred = forest.predict(test_feature_tfidf)\n",
    "y_pred[:10]"
   ]
  },
  {
   "cell_type": "code",
   "execution_count": 46,
   "metadata": {},
   "outputs": [
    {
     "data": {
      "text/plain": [
       "(2471,)"
      ]
     },
     "execution_count": 46,
     "metadata": {},
     "output_type": "execute_result"
    }
   ],
   "source": [
    "y_pred.shape"
   ]
  },
  {
   "cell_type": "code",
   "execution_count": 47,
   "metadata": {},
   "outputs": [
    {
     "data": {
      "text/html": [
       "<div>\n",
       "<style scoped>\n",
       "    .dataframe tbody tr th:only-of-type {\n",
       "        vertical-align: middle;\n",
       "    }\n",
       "\n",
       "    .dataframe tbody tr th {\n",
       "        vertical-align: top;\n",
       "    }\n",
       "\n",
       "    .dataframe thead th {\n",
       "        text-align: right;\n",
       "    }\n",
       "</style>\n",
       "<table border=\"1\" class=\"dataframe\">\n",
       "  <thead>\n",
       "    <tr style=\"text-align: right;\">\n",
       "      <th></th>\n",
       "      <th>votes_pos_neg_pred</th>\n",
       "    </tr>\n",
       "  </thead>\n",
       "  <tbody>\n",
       "    <tr>\n",
       "      <th>0</th>\n",
       "      <td>0</td>\n",
       "    </tr>\n",
       "    <tr>\n",
       "      <th>1</th>\n",
       "      <td>0</td>\n",
       "    </tr>\n",
       "    <tr>\n",
       "      <th>2</th>\n",
       "      <td>0</td>\n",
       "    </tr>\n",
       "    <tr>\n",
       "      <th>3</th>\n",
       "      <td>0</td>\n",
       "    </tr>\n",
       "    <tr>\n",
       "      <th>4</th>\n",
       "      <td>0</td>\n",
       "    </tr>\n",
       "  </tbody>\n",
       "</table>\n",
       "</div>"
      ],
      "text/plain": [
       "   votes_pos_neg_pred\n",
       "0                   0\n",
       "1                   0\n",
       "2                   0\n",
       "3                   0\n",
       "4                   0"
      ]
     },
     "execution_count": 47,
     "metadata": {},
     "output_type": "execute_result"
    }
   ],
   "source": [
    "# 예측 결과를 저장하기 위해 데이터프레임에 담아 준다.\n",
    "output = pd.DataFrame(data={'votes_pos_neg_pred':y_pred})\n",
    "output.head()"
   ]
  },
  {
   "cell_type": "code",
   "execution_count": 48,
   "metadata": {},
   "outputs": [
    {
     "data": {
      "text/plain": [
       "0    2452\n",
       "1      19\n",
       "Name: votes_pos_neg_pred, dtype: int64"
      ]
     },
     "execution_count": 48,
     "metadata": {},
     "output_type": "execute_result"
    }
   ],
   "source": [
    "# 0과 1이 어떻게 집계 되었는지 확인한다.\n",
    "# 실제 데이터에는 답변 대상 건이 있는데 없는 것으로 예측되었다.\n",
    "output['votes_pos_neg_pred'].value_counts()"
   ]
  },
  {
   "cell_type": "code",
   "execution_count": 49,
   "metadata": {},
   "outputs": [],
   "source": [
    "df_test['votes_pos_neg_pred'] = y_pred"
   ]
  },
  {
   "cell_type": "code",
   "execution_count": 50,
   "metadata": {},
   "outputs": [
    {
     "data": {
      "text/html": [
       "<div>\n",
       "<style scoped>\n",
       "    .dataframe tbody tr th:only-of-type {\n",
       "        vertical-align: middle;\n",
       "    }\n",
       "\n",
       "    .dataframe tbody tr th {\n",
       "        vertical-align: top;\n",
       "    }\n",
       "\n",
       "    .dataframe thead th {\n",
       "        text-align: right;\n",
       "    }\n",
       "</style>\n",
       "<table border=\"1\" class=\"dataframe\">\n",
       "  <thead>\n",
       "    <tr style=\"text-align: right;\">\n",
       "      <th></th>\n",
       "      <th>article_id</th>\n",
       "      <th>start</th>\n",
       "      <th>end</th>\n",
       "      <th>answered</th>\n",
       "      <th>votes</th>\n",
       "      <th>category</th>\n",
       "      <th>title</th>\n",
       "      <th>content</th>\n",
       "      <th>votes_pos_neg</th>\n",
       "      <th>content_preprocessing</th>\n",
       "      <th>content_preprocessing2</th>\n",
       "      <th>votes_pos_neg_pred</th>\n",
       "      <th>pred_diff</th>\n",
       "    </tr>\n",
       "  </thead>\n",
       "  <tbody>\n",
       "    <tr>\n",
       "      <th>163102</th>\n",
       "      <td>201588</td>\n",
       "      <td>2018-04-16</td>\n",
       "      <td>2018-05-16</td>\n",
       "      <td>0</td>\n",
       "      <td>723</td>\n",
       "      <td>육아/교육</td>\n",
       "      <td>수능정시확대 반대</td>\n",
       "      <td>제4차산업혁명시대에 대학교육이 바뀌어야 합니다.\\n책이나 인터넷에 나오는 내용을 잘...</td>\n",
       "      <td>1</td>\n",
       "      <td>제 차산업혁명시대에 대학교육이 바뀌어야 합니다  책이나 인터넷에 나오는 내용을 잘 ...</td>\n",
       "      <td>차산업혁명시대에 대학교육이 바뀌어야  책이나 인터넷에 나오는 내용을 잘 활용하여 새...</td>\n",
       "      <td>0</td>\n",
       "      <td>1</td>\n",
       "    </tr>\n",
       "    <tr>\n",
       "      <th>163104</th>\n",
       "      <td>201590</td>\n",
       "      <td>2018-04-16</td>\n",
       "      <td>2018-05-16</td>\n",
       "      <td>0</td>\n",
       "      <td>176</td>\n",
       "      <td>외교/통일/국방</td>\n",
       "      <td>불어라!평화의봄바람:청소년이 남.북.미 정상에게 보내는 영상편지</td>\n",
       "      <td>세상의 모든 봄이 한반도에 올 것 같은, 4월\\n남측의 문재인 대통령\\n북측의 김정...</td>\n",
       "      <td>0</td>\n",
       "      <td>세상의 모든 봄이 한반도에 올 것 같은   월 남측의 문재인 대통령 북측의 김정은 ...</td>\n",
       "      <td>세상의 모든 봄이 한반도에 올 것   남측의 문재인 대통령 북측의 김정은 위원장 미...</td>\n",
       "      <td>0</td>\n",
       "      <td>0</td>\n",
       "    </tr>\n",
       "    <tr>\n",
       "      <th>163108</th>\n",
       "      <td>201596</td>\n",
       "      <td>2018-04-16</td>\n",
       "      <td>2018-05-16</td>\n",
       "      <td>0</td>\n",
       "      <td>160</td>\n",
       "      <td>기타</td>\n",
       "      <td>대한항공 이름변경하게 해주세요</td>\n",
       "      <td>대한항공 자매들 나라망신 아닙니까?\\n어디서 이런사람들한테 대한이라는 이름을 줍니까...</td>\n",
       "      <td>0</td>\n",
       "      <td>대한항공 자매들 나라망신 아닙니까  어디서 이런사람들한테 대한이라는 이름을 줍니까 ...</td>\n",
       "      <td>대한항공 자매들 나라망신 아닙니까  어디서 이런사람들한테 대한이라는 이름을 줍니까 ...</td>\n",
       "      <td>0</td>\n",
       "      <td>0</td>\n",
       "    </tr>\n",
       "    <tr>\n",
       "      <th>163121</th>\n",
       "      <td>201615</td>\n",
       "      <td>2018-04-16</td>\n",
       "      <td>2018-05-16</td>\n",
       "      <td>0</td>\n",
       "      <td>199</td>\n",
       "      <td>기타</td>\n",
       "      <td>대한항공 사태관련 국격훼손과 일가의 갑질.사명 회수등 강력요청.</td>\n",
       "      <td>뉴스를 볼때마다 울화통이 치밀어 오르네요. 해외뉴스에 연이어 나오며 나라망신을 시킨...</td>\n",
       "      <td>0</td>\n",
       "      <td>뉴스를 볼때마다 울화통이 치밀어 오르네요  해외뉴스에 연이어 나오며 나라망신을 시킨...</td>\n",
       "      <td>뉴스를 볼때마다 울화통이 치밀어 오르네요  해외뉴스에 연이어 나오며 나라망신을 시킨...</td>\n",
       "      <td>0</td>\n",
       "      <td>0</td>\n",
       "    </tr>\n",
       "    <tr>\n",
       "      <th>163129</th>\n",
       "      <td>201624</td>\n",
       "      <td>2018-04-16</td>\n",
       "      <td>2018-05-16</td>\n",
       "      <td>0</td>\n",
       "      <td>112</td>\n",
       "      <td>정치개혁</td>\n",
       "      <td>조선일보 폐지</td>\n",
       "      <td>김경수의원 의도적으로 정치적으로 의문점을 꼭 진행한것처럼 편향적인 보도를 하는 조신...</td>\n",
       "      <td>0</td>\n",
       "      <td>김경수의원 의도적으로 정치적으로 의문점을 꼭 진행한것처럼 편향적인 보도를 하는 조신...</td>\n",
       "      <td>김경수의원 의도적으로 정치적으로 의문점을 꼭 진행한것처럼 편향적인 보도를 조신일보는...</td>\n",
       "      <td>0</td>\n",
       "      <td>0</td>\n",
       "    </tr>\n",
       "  </tbody>\n",
       "</table>\n",
       "</div>"
      ],
      "text/plain": [
       "        article_id      start        end  answered  votes  category  \\\n",
       "163102      201588 2018-04-16 2018-05-16         0    723     육아/교육   \n",
       "163104      201590 2018-04-16 2018-05-16         0    176  외교/통일/국방   \n",
       "163108      201596 2018-04-16 2018-05-16         0    160        기타   \n",
       "163121      201615 2018-04-16 2018-05-16         0    199        기타   \n",
       "163129      201624 2018-04-16 2018-05-16         0    112      정치개혁   \n",
       "\n",
       "                                      title  \\\n",
       "163102                            수능정시확대 반대   \n",
       "163104  불어라!평화의봄바람:청소년이 남.북.미 정상에게 보내는 영상편지   \n",
       "163108                     대한항공 이름변경하게 해주세요   \n",
       "163121  대한항공 사태관련 국격훼손과 일가의 갑질.사명 회수등 강력요청.   \n",
       "163129                              조선일보 폐지   \n",
       "\n",
       "                                                  content  votes_pos_neg  \\\n",
       "163102  제4차산업혁명시대에 대학교육이 바뀌어야 합니다.\\n책이나 인터넷에 나오는 내용을 잘...              1   \n",
       "163104  세상의 모든 봄이 한반도에 올 것 같은, 4월\\n남측의 문재인 대통령\\n북측의 김정...              0   \n",
       "163108  대한항공 자매들 나라망신 아닙니까?\\n어디서 이런사람들한테 대한이라는 이름을 줍니까...              0   \n",
       "163121  뉴스를 볼때마다 울화통이 치밀어 오르네요. 해외뉴스에 연이어 나오며 나라망신을 시킨...              0   \n",
       "163129  김경수의원 의도적으로 정치적으로 의문점을 꼭 진행한것처럼 편향적인 보도를 하는 조신...              0   \n",
       "\n",
       "                                    content_preprocessing  \\\n",
       "163102  제 차산업혁명시대에 대학교육이 바뀌어야 합니다  책이나 인터넷에 나오는 내용을 잘 ...   \n",
       "163104  세상의 모든 봄이 한반도에 올 것 같은   월 남측의 문재인 대통령 북측의 김정은 ...   \n",
       "163108  대한항공 자매들 나라망신 아닙니까  어디서 이런사람들한테 대한이라는 이름을 줍니까 ...   \n",
       "163121  뉴스를 볼때마다 울화통이 치밀어 오르네요  해외뉴스에 연이어 나오며 나라망신을 시킨...   \n",
       "163129  김경수의원 의도적으로 정치적으로 의문점을 꼭 진행한것처럼 편향적인 보도를 하는 조신...   \n",
       "\n",
       "                                   content_preprocessing2  votes_pos_neg_pred  \\\n",
       "163102  차산업혁명시대에 대학교육이 바뀌어야  책이나 인터넷에 나오는 내용을 잘 활용하여 새...                   0   \n",
       "163104  세상의 모든 봄이 한반도에 올 것   남측의 문재인 대통령 북측의 김정은 위원장 미...                   0   \n",
       "163108  대한항공 자매들 나라망신 아닙니까  어디서 이런사람들한테 대한이라는 이름을 줍니까 ...                   0   \n",
       "163121  뉴스를 볼때마다 울화통이 치밀어 오르네요  해외뉴스에 연이어 나오며 나라망신을 시킨...                   0   \n",
       "163129  김경수의원 의도적으로 정치적으로 의문점을 꼭 진행한것처럼 편향적인 보도를 조신일보는...                   0   \n",
       "\n",
       "        pred_diff  \n",
       "163102          1  \n",
       "163104          0  \n",
       "163108          0  \n",
       "163121          0  \n",
       "163129          0  "
      ]
     },
     "execution_count": 50,
     "metadata": {},
     "output_type": "execute_result"
    }
   ],
   "source": [
    "df_test['pred_diff'] = df_test['votes_pos_neg'] - df_test['votes_pos_neg_pred']\n",
    "df_test.head()"
   ]
  },
  {
   "cell_type": "code",
   "execution_count": 51,
   "metadata": {},
   "outputs": [
    {
     "data": {
      "text/plain": [
       " 0    2105\n",
       " 1     356\n",
       "-1      10\n",
       "Name: pred_diff, dtype: int64"
      ]
     },
     "execution_count": 51,
     "metadata": {},
     "output_type": "execute_result"
    }
   ],
   "source": [
    "pred_diff = df_test['pred_diff'].value_counts()\n",
    "pred_diff"
   ]
  },
  {
   "cell_type": "code",
   "execution_count": 52,
   "metadata": {},
   "outputs": [
    {
     "name": "stdout",
     "output_type": "stream",
     "text": [
      "전체 2471건의 데이터 중 2105건 예측\n"
     ]
    }
   ],
   "source": [
    "print('전체 {}건의 데이터 중 {}건 예측'.format(y_pred.shape[0], pred_diff[0]))"
   ]
  },
  {
   "cell_type": "code",
   "execution_count": 53,
   "metadata": {},
   "outputs": [
    {
     "name": "stdout",
     "output_type": "stream",
     "text": [
      "예측 비율 85.18818292189397\n"
     ]
    }
   ],
   "source": [
    "acc = ( pred_diff[0] / y_pred.shape[0] ) *100 \n",
    "print('예측 비율 {}'.format(acc))"
   ]
  },
  {
   "cell_type": "code",
   "execution_count": null,
   "metadata": {},
   "outputs": [],
   "source": []
  }
 ],
 "metadata": {
  "kernelspec": {
   "display_name": "Python 3",
   "language": "python",
   "name": "python3"
  },
  "language_info": {
   "codemirror_mode": {
    "name": "ipython",
    "version": 3
   },
   "file_extension": ".py",
   "mimetype": "text/x-python",
   "name": "python",
   "nbconvert_exporter": "python",
   "pygments_lexer": "ipython3",
   "version": "3.6.1"
  }
 },
 "nbformat": 4,
 "nbformat_minor": 2
}
