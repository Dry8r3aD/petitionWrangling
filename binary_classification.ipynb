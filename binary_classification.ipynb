{
 "cells": [
  {
   "cell_type": "markdown",
   "metadata": {},
   "source": [
    "# 국민청원 데이터로 이진 분류하기"
   ]
  },
  {
   "cell_type": "markdown",
   "metadata": {},
   "source": [
    "* 예제로 응답여부를 0과 1로 예측합니다.\n",
    "* 응답여부 외에도 청원의 카테고리를 예측하는 분류를 해볼 수도 있을것 같아요. \n",
    "* 이 예제를 참고하여 응답여부외에 청원내용으로 평균 이상의 투표를 받을 것인지 여부를 예측해 보면 좋겠습니다."
   ]
  },
  {
   "cell_type": "code",
   "execution_count": 1,
   "metadata": {},
   "outputs": [
    {
     "name": "stdout",
     "output_type": "stream",
     "text": [
      "0.21.0\n",
      "1.14.0\n"
     ]
    }
   ],
   "source": [
    "import pandas as pd\n",
    "import numpy as np\n",
    "import re\n",
    "print(pd.__version__)\n",
    "print(np.__version__)"
   ]
  },
  {
   "cell_type": "markdown",
   "metadata": {},
   "source": [
    "# 데이터 로드하기"
   ]
  },
  {
   "cell_type": "code",
   "execution_count": 2,
   "metadata": {},
   "outputs": [
    {
     "data": {
      "text/plain": [
       "(192387, 7)"
      ]
     },
     "execution_count": 2,
     "metadata": {},
     "output_type": "execute_result"
    }
   ],
   "source": [
    "# 크롤링해 온 국민청원 데이터를 판다스를 통해 읽어온다.\n",
    "petitions = pd.read_csv('data/petition.csv', index_col=0, \\\n",
    "                        parse_dates=['start', 'end'])\n",
    "# 데이터의 크기가 어느정도인지 본다.\n",
    "petitions.shape"
   ]
  },
  {
   "cell_type": "code",
   "execution_count": 3,
   "metadata": {},
   "outputs": [
    {
     "data": {
      "text/plain": [
       "(1687, 7)"
      ]
     },
     "execution_count": 3,
     "metadata": {},
     "output_type": "execute_result"
    }
   ],
   "source": [
    "# 전체 데이터 중 투표가 1000건 이상인 데이터를 기준으로 가져온다.\n",
    "df = petitions.loc[petitions['votes'] > 1000]\n",
    "df.shape"
   ]
  },
  {
   "cell_type": "code",
   "execution_count": 4,
   "metadata": {},
   "outputs": [
    {
     "data": {
      "text/plain": [
       "(26, 7)"
      ]
     },
     "execution_count": 4,
     "metadata": {},
     "output_type": "execute_result"
    }
   ],
   "source": [
    "# 답변 대상 건이 몇 건인지 본다.\n",
    "df.loc[df['answered'] == 1].shape"
   ]
  },
  {
   "cell_type": "code",
   "execution_count": 5,
   "metadata": {},
   "outputs": [
    {
     "data": {
      "text/html": [
       "<div>\n",
       "<style scoped>\n",
       "    .dataframe tbody tr th:only-of-type {\n",
       "        vertical-align: middle;\n",
       "    }\n",
       "\n",
       "    .dataframe tbody tr th {\n",
       "        vertical-align: top;\n",
       "    }\n",
       "\n",
       "    .dataframe thead th {\n",
       "        text-align: right;\n",
       "    }\n",
       "</style>\n",
       "<table border=\"1\" class=\"dataframe\">\n",
       "  <thead>\n",
       "    <tr style=\"text-align: right;\">\n",
       "      <th></th>\n",
       "      <th>start</th>\n",
       "      <th>end</th>\n",
       "      <th>answered</th>\n",
       "      <th>votes</th>\n",
       "      <th>category</th>\n",
       "      <th>title</th>\n",
       "      <th>content</th>\n",
       "    </tr>\n",
       "    <tr>\n",
       "      <th>article_id</th>\n",
       "      <th></th>\n",
       "      <th></th>\n",
       "      <th></th>\n",
       "      <th></th>\n",
       "      <th></th>\n",
       "      <th></th>\n",
       "      <th></th>\n",
       "    </tr>\n",
       "  </thead>\n",
       "  <tbody>\n",
       "    <tr>\n",
       "      <th>28</th>\n",
       "      <td>2017-08-19</td>\n",
       "      <td>2017-08-26</td>\n",
       "      <td>0</td>\n",
       "      <td>2137</td>\n",
       "      <td>경제민주화</td>\n",
       "      <td>소액주주를 보호해주십시오</td>\n",
       "      <td>**  존경하옵는 문재인대통령님께\\n저는 중국원양자원이라는 KOSPI상장사의 소액 ...</td>\n",
       "    </tr>\n",
       "    <tr>\n",
       "      <th>43</th>\n",
       "      <td>2017-08-19</td>\n",
       "      <td>2017-09-18</td>\n",
       "      <td>0</td>\n",
       "      <td>11293</td>\n",
       "      <td>육아/교육</td>\n",
       "      <td>기간제 교사의 정규직화를 반대합니다.</td>\n",
       "      <td>대통령님, 안녕하세요. 저는 임용을 준비하고 수험생입니다. 처음 기간제 정규직화 된...</td>\n",
       "    </tr>\n",
       "    <tr>\n",
       "      <th>46</th>\n",
       "      <td>2017-08-19</td>\n",
       "      <td>2017-09-18</td>\n",
       "      <td>0</td>\n",
       "      <td>1933</td>\n",
       "      <td>육아/교육</td>\n",
       "      <td>기간제교사의 정규직화를 반대합니다.</td>\n",
       "      <td>대통령님, 안녕하세요. 저는 임용을 준비하고 수험생입니다. 처음 기간제 정규직화 된...</td>\n",
       "    </tr>\n",
       "    <tr>\n",
       "      <th>50</th>\n",
       "      <td>2017-08-19</td>\n",
       "      <td>2017-10-18</td>\n",
       "      <td>0</td>\n",
       "      <td>1251</td>\n",
       "      <td>일자리</td>\n",
       "      <td>치과위생사 국가고시 날짜 변경 억울합니다</td>\n",
       "      <td>안녕하십니까? 대통령님 간단하게 제소개 부터 하겠습니다. 저는 치위생과 3학년 학생...</td>\n",
       "    </tr>\n",
       "    <tr>\n",
       "      <th>61</th>\n",
       "      <td>2017-08-19</td>\n",
       "      <td>2017-08-26</td>\n",
       "      <td>0</td>\n",
       "      <td>1185</td>\n",
       "      <td>일자리</td>\n",
       "      <td>영어회화전문강사제도는 유지되어야합니다.</td>\n",
       "      <td>1. 영전강의고용안정을 원합니다\\n2.1년단위계약직으로 임신 출산육아 매우 곤란합니...</td>\n",
       "    </tr>\n",
       "  </tbody>\n",
       "</table>\n",
       "</div>"
      ],
      "text/plain": [
       "                start        end  answered  votes category  \\\n",
       "article_id                                                   \n",
       "28         2017-08-19 2017-08-26         0   2137    경제민주화   \n",
       "43         2017-08-19 2017-09-18         0  11293    육아/교육   \n",
       "46         2017-08-19 2017-09-18         0   1933    육아/교육   \n",
       "50         2017-08-19 2017-10-18         0   1251      일자리   \n",
       "61         2017-08-19 2017-08-26         0   1185      일자리   \n",
       "\n",
       "                             title  \\\n",
       "article_id                           \n",
       "28                   소액주주를 보호해주십시오   \n",
       "43            기간제 교사의 정규직화를 반대합니다.   \n",
       "46             기간제교사의 정규직화를 반대합니다.   \n",
       "50          치과위생사 국가고시 날짜 변경 억울합니다   \n",
       "61           영어회화전문강사제도는 유지되어야합니다.   \n",
       "\n",
       "                                                      content  \n",
       "article_id                                                     \n",
       "28          **  존경하옵는 문재인대통령님께\\n저는 중국원양자원이라는 KOSPI상장사의 소액 ...  \n",
       "43          대통령님, 안녕하세요. 저는 임용을 준비하고 수험생입니다. 처음 기간제 정규직화 된...  \n",
       "46          대통령님, 안녕하세요. 저는 임용을 준비하고 수험생입니다. 처음 기간제 정규직화 된...  \n",
       "50          안녕하십니까? 대통령님 간단하게 제소개 부터 하겠습니다. 저는 치위생과 3학년 학생...  \n",
       "61          1. 영전강의고용안정을 원합니다\\n2.1년단위계약직으로 임신 출산육아 매우 곤란합니...  "
      ]
     },
     "execution_count": 5,
     "metadata": {},
     "output_type": "execute_result"
    }
   ],
   "source": [
    "df.head()"
   ]
  },
  {
   "cell_type": "code",
   "execution_count": 6,
   "metadata": {},
   "outputs": [],
   "source": [
    "# 샘플로 보고 싶은 인덱스의 번호를 넣어주세요.\n",
    "sample_index = 28"
   ]
  },
  {
   "cell_type": "code",
   "execution_count": 7,
   "metadata": {},
   "outputs": [
    {
     "data": {
      "text/plain": [
       "'소액주주를 보호해주십시오'"
      ]
     },
     "execution_count": 7,
     "metadata": {},
     "output_type": "execute_result"
    }
   ],
   "source": [
    "sample_title = df['title'][sample_index]\n",
    "sample_title"
   ]
  },
  {
   "cell_type": "code",
   "execution_count": 8,
   "metadata": {},
   "outputs": [
    {
     "data": {
      "text/plain": [
       "'**  존경하옵는 문재인대통령님께\\\\n저는 중국원양자원이라는 KOSPI상장사의 소액 주주입니다. 중국원양자원(이하 중원)은 이번 재회계감사에서 의견거절이라는 감사인 판단이 내려져 꿈에도 생각못한 상장폐지를 목전에 두고 있습니다.\\\\n상장폐지가되면 국내에 상장하여 천문학적인 금액을 취득하여 회사의 규모를 키우고 개인자산을 불린 후 자신의 지분도  다 팔아서 이득을 챙긴 중국인 장화리 사장은 정리매매때 휴지조각의 비용으로 자신의 지분을 다시 사들이고 대주주로서의 지위를 다시 획득하여 온전히 자신의 기업으로 만들수 있습니다.\\\\n결국 한국 국민들의 피땀어린 투자금으로 중국인 사장의 부를 채워주지만 이에 대해 한국의 금융당국 및 상장과 운영의 주체인 거래소는 누구도 이에대한 책임없이 이를 그냥 덮어버리고만 말것입니다.\\\\n이로인해 약 2만 5천의 국내소액주주는 피눈물을 흘리며 고통속에 살게 될 것입니다.\\\\n주식투자는 개인의 판단하에 이루어지는 것이나 투자에 대한 개인의 책임을 묻기전에 그 과정은 규정과 상식에 맞게 공정하고 정의로워야 할 것입니다. 이는 존경하는 문대통령님의 말씀이라 가슴깊이 새기고 있었으나 현재 우리나라의 금융 시스템, 특히 거래소와 회계감사는 그렇지 못한 것 같습니다.\\\\n이렇게 생각하게된 이유는 이번 회계감사의 주된 의견거절의 이유 때문입니다\\\\n이번 신한회계법인의 추측적이고 터무니없는 의견거절로 전재산이 한순간에 물거품으로 사라질 위기에 처한 본인을 비롯한 많은 사람들이 죽음이라는 극단적인 선택앞에 내몰려져 억울함과 원통함에 피눈물을 흘리고 있습니다. .\\\\n기업의 사업성이나 계속 존속여부를 점검하는 감사자인 회계법인은 오직 밝혀진 사실과 그에 따른 증거만을 근거로 공정하게 기업의 존속여부에 대한 의견을 내야하고 유추할 경우에도 당연히 관련 법이나 판례에 근거하여야 합니다.\\\\n그러나 신한회계법인은 법또는 제도권으로 확정되지 않은 추정사항을 의견거절의\\'결정적 이유\\'로 명시하였는바 이는 감사자의 \\'의견거절\\'에 따른 참혹한 결과로 볼때 25000명의 국민들과 그 가족들은 공정한 감사결과라 절대로 인정할수 없습니다.\\\\n이런 고통의 원인은 법 제도나 규정에 근거를 두지 않고 자의적인 추측에 따라 작성, 발표한 감사인의 감사보고서 \"의견 거절\" 때문입니다. 한국 증권거래소에 상장된 중국원양자원에 투자한 우리 국민 25,000명과 수많은 가족들은 부당한 감사인의 의견 거절로 절망에 처하고 삶의 의욕과 희망을 모두 잃어가고 있습니다.\\\\n분명 투자는 개개인의 책임입니다.\\\\n그런데 최근 언론을 통해 중대하게 다루어졌듯이 국민 노후를 책임지는 국민연금 역시 증권 시장의 공정성과 투명성에 크게 의존하고 있습니다. 때문에 증권 시장의 공정성과 투명성이 확보되지 않으면, 증권시장에 의존하여 국민의 노후를 책임지는 국민연금 역시 국민의 재산을 지켜낼 수 없고 결국에는 이리저리 부당하게 뜯겨나가서 몇 줌 안 되는 푼돈만 국민들에게 남을 것입니다. 마찬가지로 은행, 증권, 보험사를 통해 어떤 형태로든 금융 상품에 가입되어 있는 수많은 금융 소비자 역시 이런 불공정한 금융 질서의 피해자가 될 수밖에 없습니다. 이런 심대한 피해를 입힐 수 있는 증권시장의 부당함이 우리 금융시장에 새로운 전례로 남게 될 일을 앞두고 있습니다. 한 번 이런 불공정성이 뿌리내리면 그 부당함은 우리나라 금융 시장에서 독버섯처럼 세력을 뻗어나갈 것입니다. 국민 2만 5천 명의 재산이 몰수되도록 하는 회계 감사 법인의 부당한 감사 의견이 개인 투자자 2만 5천 명들의 피눈물로만 끝나지 않을 이유가 여기에 있습니다.\\\\n기업 회계 기록의 적정성이나 회사의 계속 존속 여부를 점검하는 회계 감사 법인은 오직 밝혀진 사실과 이를 뒷받침하는 증거를 근거로 회계 장부가 공정하게 기록되었는지 의견을 표명해야 하고, 추정이 필요할 경우에도 회계 기준에서 규정하고 있는 방법을 준수해야 한다고 명시되어 있습니다. 왜냐하면 회계 감사 의견 자체가 기업의 사활을 결정지을 수 있는 대출 가능 여부, 회사채 발행 가능 여부, 증권 시장에서 상장 유지와 상장 폐지에 있어서 결정적이기 때문입니다.\\\\n그러나 신한회계법인은 어떤 규정이나 법에도 근거를 두지 않고 추측과 예단을 감사 의견 거절의 \\'결정적 근거\\'로 명시하였는 바, 이는 감사인의 \\'의견거절\\'로 인해 25,000명의 재산이 부당한 상장 폐지로 몰수되는 참혹한 결과에 비추어 볼 때 너무도 무책임하며 법적 근거를 갖추지 못한 심각하게 불공정한 처사로 25,000명의 국민들과 그 가족들은 적법한 감사 결과로 절대 인정할 수 없습니다.\\\\n감사인 (신한회계법인)이 감사 의견을 \"거절\"로 표명한 근거는 3가지입니다.\\\\n(1) 증권선물위원회의 올 해 7월 정례 회의에서 회사 대표이사를 검찰에 고발하기로 결의한 것.\\\\n(2) 우발부채와 소송사건이 재무제표에 미칠 영향에 대하여 충분한 감사 증거를 회사에서 제공하지 않았다는 것.\\\\n(3) 유동부채가 유동자산보다 1,282,797,603 HKD 많고 (1,999억 원) 자본금이 222,176,074 HKD 잠식 (346억 원)되었다는 것.\\\\n사유의 부당함을 하나씩 짚어보겠습니다.\\\\n의견 거절 사유 (1)은 증권선물위원회 회의에서 중국원양자원 대표이사 고발을 1달 전 (7월 19일) 결의한 것을 감사 의견 거절의 근거로 내세웠습니다. 2011년부터 매년 2차례씩 회사 내부 서류를 샅샅히 들여다보며 매 반기와 연말 감사를 직접 수행하고 총 12차례에 걸쳐 회계 장부가 적정하게 작성되었다고 적정 의견을 표명했던 회계 감사인이 (신한회계법인) 법원의 유죄 판결도 아니고 검찰의 기소도 아닌 \\'검찰 고발 결의\\'를 1달 전에 증권선물위원회가 했던 것을 사유로 작년 말 기준 작성되었던 회사의 회계 장부를 믿지 못하는 이유라고 내세웠습니다.\\\\n2011년부터 매년 2차례씩 회계 장부와 증빙 서류를 샅샅히 확인하고 조사, 검토한 회계 법인이 손에 넣고 직접 눈으로 확인했던 그 많은 증빙 서류들은 놔둔 채, 상급 감독기관의 회의에서 대표이사 검찰에 고발 결의 사항을 감사 의견 거절의 근거로 삼은 것입니다. 지난 6년 동안 12차례의 감사 과정에 입수했던 수 많은 회계 서류로는 감사 \"의견 거절\"을 표명할 수 없었지만, 상급 감독기관에서 대표이사 검찰 고발을 결의한 결정을 사유로 감사 의견 거절을 낸 것에 주목해주시기 바랍니다.\\\\n더구나 우리나라 증권 시장의 전례를 보았을 때 대표이사가 검찰에 고발되어 실제로 3억 원의 벌금형을 선고받은 셀트리온의 경우 회사의 감사 의견에는 전혀 영향이 없었던 점에서 감사인의 의견 거절 사유 (1)은 법이나 규정에 전혀 근거를 두지 않은 내용입니다.\\\\n의견 거절 사유 (2) 역시 회사 (법인)에 대한 우발부채 및 소송사건이 아닌 회사의 대표이사 개인에 대한 우발부채와 소송사건을 문제 삼은 것으로, 회사 측과 감사인 (신한회계법인)이 각각 회사가 있는 외국 현지 로펌을 선임해 의견서를 제출받은 결과, 회사 측 로펌에서 문제가 없다는 의견을 낸 바 있습니다.\\\\n의견 거절 사유 (3)은 자본잠식 (자본잠식률 12%)이 회계 감사 의견 표명과는 무관함에도 불구하고 감사 의견 거절 사유로 내세웠습니다. 한 편 KRX 한국거래소에서는 자본잠식률 50% 이상 2년 연속 유지될 경우를 상장 폐지 사유로 규정하고 있습니다. 감사 의견 거절 사유로 12%의 자본잠식을 내세우는 것은 어디에서도 근거를 찾을 수 없는 처사입니다. 지금도 코스닥 시장에는 53개사의 부분 자본 잠식 회사들이 등록되어 있습니다.\\\\n또한 올 해 4월에는 유동부채의 유동자산 초과액이 1,999억 원에서 85억 원으로 줄어드는 후속 사건이 있었습니다. 그런데 감사인은 감사 시점 7개월 뒤인 올 7월에 생긴 후속 사건은 감사 의견 거절 사유로 전면에 내세우면서도 그보다 3달 앞서 있었던 후속 사건은 감사 의견에 전혀 반영하지 않고 있습니다. 규정에 맞지 않는 근거를 내세우면서 그마저도 형평성을 크게 잃은, 부당한 감사 의견입니다.\\\\n국내 주주 25,000명의 재산 합계 수 천억 원이 하루 아침에 없어질 상황에 놓인 중국원양자원의 상장 폐지 여부는 감사인의 감사 의견에 의해 결정됩니다. 감사인 신한회계법인은 2011년부터 6년 동안 의심의 눈초리로 국내의 통상적인 회계 감사보다 훨씬 엄격하게 감사를 수행해왔고, 그 엄격한 잣대에도 회사의 회계 장부에서는 오점이 발견되지 않았습니다. 그런데 지난 6년 동안의 감사에서 수집했던 증거로는 \"감사 의견 거절\" 표명을 하지 못했던 감사인이 법이나 제도에 근거하지 않은 부당한 의견 거절 표명으로 국내 투자자 25,000명의 생계를 사지에 몰아넣고 있습니다.\\\\n회사는 현재 지난 약 3년간 선원의 파업과 어업조황의 악화 및 낮은 어가로 인해 좋은 실적을 못내었고 동시에 이러한 악조건속에서 선단수를 늘리는 모험을 감행해 더 적자폭이 늘어났습니다. 그러나 현재 어가가 회복되고 있고 늘어난 조업선단이 자리잡아  장화리사장은 올 하반기부터는 500억 이상의 순이익을 자신하고 그에따른 순이익의 20% 배당을 기대하고 있었으며 또한, 우리나라를 포함 전세계적으로 원양어업의 환경이 좋아지고 있으며,\\\\n원양업체들의 매출및 이익이 전년대비 향상되고 있습니다.\\\\n이런 와중에 이러한 부적절하고 정당하지 못하며 형평에 맞지않는 재감사 결과로 인해 상장주체인 거래소에서 대한민국에 상장시킨 “중국원양자원” 이라는 회사에\\\\n원양어업의 발전 가능성을 보고 투자한, 수십년간 성실히 살면서 아끼고 아껴서\\\\n모은 소액주주들의 소중한 재산이 한순간에 휴지조각이 될 현실에 처해 너무나도 가슴이 아프며, 소액주주들의 삶 자체가 존폐위기에 놓여 있습니다.\\\\n거래소의 심리 제도는 날선 칼날처럼 예리해야 하지만 한편으로는 투명성(공정성)과 보편성(정당성), 형평성을 유지하여 미래의 성장성이 인정되는 기업이 도태되거나 어느한쪽이 일방적으로 억울하게 피해을 당하는 일이 없도록 하는 방패의 역할도 함께 수행해야 한다고 생각 합니다.\\\\n중국원양자원 에서 과거에 일어났던 일련의 사건에 대해서만 집중하고 미래에 그려나갈 모습들에 대해서는 상대적으로 등한시 특히나, 투자자들의 권익과 입장에\\\\n대해서는 가장 후순위로 밀어놓고 이에 대한 투자자들의 의견이나 읍소에선 아랑곳하지 않는다면, 대다수의 국민들은 누굴믿고 투자를 하겠습니까.\\\\n현재 상장폐지제도에서 “투자자보호” 라고 하는 기치에 맞게 진정한 투자자보호를\\\\n위하여 공정하고 형평성있는 심사가 이루어질수 있도록 간청 드립니다.\\\\n또한, 무엇보다 재감사결과에 대한 공정한 정정을 원하며\\\\n만에하나 이루어지지않는다면\\\\n최소한 대한민국 국민인 소액주주들의 피해를 최소화하기위해 거래소 당국자분들께서 개선기간을 1년이상 다시 부여해주시는 융통성을 발휘해주시기를 바랍니다.\\\\n1년이상의 개선기간 부여로 인해 국민의 어떠한 추가적인 다른 피해는 없으면서 회사가 약속한 이익의 개선이 이루어지기를 바랄수 있고 최악의 경우 회사의 실적이 돌이킬수 없게되더라도 주총에서 장화리 사장의 해임등 안을 모색해서 국부의 유출을 막을 수 있기 때문입니다. 대한민국의 투자자를 위한 거래소라면 최소한의 억울한 투자자 피해를 막기위한 이러한 결정은 당연히 이뤄져야할 것이라고 믿습니다.\\\\n부디 한 소시민의 눈물어린 목소리에 귀기울여 주시고 대통령님이 바라시는 정의로운 사회에 맞는 판단을 해 주실것을 온 마음을 다해 부탁드립니다.\\\\n긴글 읽어주셔서 감사합니다.'"
      ]
     },
     "execution_count": 8,
     "metadata": {},
     "output_type": "execute_result"
    }
   ],
   "source": [
    "sample_content = petitions['content'][sample_index]\n",
    "sample_content"
   ]
  },
  {
   "cell_type": "markdown",
   "metadata": {},
   "source": [
    "# 전처리 하기 "
   ]
  },
  {
   "cell_type": "code",
   "execution_count": 9,
   "metadata": {},
   "outputs": [],
   "source": [
    "def preprocessing(text):\n",
    "    # 개행문자 제거\n",
    "    text = re.sub('\\\\\\\\n', ' ', text)\n",
    "    # 특수문자 제거\n",
    "    # 특수문자나 이모티콘 등은 때로는 의미를 갖기도 하지만 여기에서는 제거했습니다.\n",
    "    # text = re.sub('[?.,;:|\\)*~`’!^\\-_+<>@\\#$%&-=#}※]', '', text)\n",
    "    # 한글, 영문, 숫자만 남기고 모두 제거하도록 합니다.\n",
    "    # text = re.sub('[^가-힣ㄱ-ㅎㅏ-ㅣa-zA-Z0-9]', ' ', text)\n",
    "    # 한글, 영문만 남기고 모두 제거하도록 합니다.\n",
    "    text = re.sub('[^가-힣ㄱ-ㅎㅏ-ㅣa-zA-Z]', ' ', text)\n",
    "    return text"
   ]
  },
  {
   "cell_type": "code",
   "execution_count": 10,
   "metadata": {},
   "outputs": [],
   "source": [
    "def remove_stopwords(text):\n",
    "    tokens = text.split(' ')\n",
    "    stops = ['수', '현', '있는', '있습니다', '그', '년도', '합니다', '하는', '및', '제', '할', '하고', '더', '대한', '한', '그리고', '월', '저는', '없는', '입니다', '등', '일', '많은', '이런', '것은', '왜','같은', '같습니다', '없습니다', '위해', '한다']\n",
    "    # stops_right = ['있습니다', '합니다', '하는', '없는', '입니다','같습니다', '없습니다', '한다']\n",
    "    # 불용어 제거\n",
    "    meaningful_words = [w for w in tokens if not w in stops]\n",
    "    return ' '.join(meaningful_words)"
   ]
  },
  {
   "cell_type": "code",
   "execution_count": 11,
   "metadata": {},
   "outputs": [],
   "source": [
    "pre_sample_content = preprocessing(sample_content)"
   ]
  },
  {
   "cell_type": "code",
   "execution_count": 12,
   "metadata": {},
   "outputs": [
    {
     "data": {
      "text/plain": [
       "'    존경하옵는 문재인대통령님께 중국원양자원이라는 KOSPI상장사의 소액 주주입니다  중국원양자원 이하 중원 은 이번 재회계감사에서 의견거절이라는 감사인 판단이 내려져 꿈에도 생각못한 상장폐지를 목전에 두고  상장폐지가되면 국내에 상장하여 천문학적인 금액을 취득하여 회사의 규모를 키우고 개인자산을 불린 후 자신의 지분도  다 팔아서 이득을 챙긴 중국인 장화리 사장은 정리매매때 휴지조각의 비용으로 자신의 지분을 다시 사들이고 대주주로서의 지위를 다시 획득하여 온전히 자신의 기업으로 만들수  결국 한국 국민들의 피땀어린 투자금으로 중국인 사장의 부를 채워주지만 이에 대해 한국의 금융당국 상장과 운영의 주체인 거래소는 누구도 이에대한 책임없이 이를 그냥 덮어버리고만 말것입니다  이로인해 약  만  천의 국내소액주주는 피눈물을 흘리며 고통속에 살게 될 것입니다  주식투자는 개인의 판단하에 이루어지는 것이나 투자에 개인의 책임을 묻기전에 과정은 규정과 상식에 맞게 공정하고 정의로워야 것입니다  이는 존경하는 문대통령님의 말씀이라 가슴깊이 새기고 있었으나 현재 우리나라의 금융 시스템  특히 거래소와 회계감사는 그렇지 못한 것  이렇게 생각하게된 이유는 이번 회계감사의 주된 의견거절의 이유 때문입니다 이번 신한회계법인의 추측적이고 터무니없는 의견거절로 전재산이 한순간에 물거품으로 사라질 위기에 처한 본인을 비롯한 사람들이 죽음이라는 극단적인 선택앞에 내몰려져 억울함과 원통함에 피눈물을 흘리고    기업의 사업성이나 계속 존속여부를 점검하는 감사자인 회계법인은 오직 밝혀진 사실과 그에 따른 증거만을 근거로 공정하게 기업의 존속여부에 의견을 내야하고 유추할 경우에도 당연히 관련 법이나 판례에 근거하여야  그러나 신한회계법인은 법또는 제도권으로 확정되지 않은 추정사항을 의견거절의 결정적 이유 로 명시하였는바 이는 감사자의  의견거절 에 따른 참혹한 결과로 볼때      명의 국민들과 가족들은 공정한 감사결과라 절대로 인정할수  고통의 원인은 법 제도나 규정에 근거를 두지 않고 자의적인 추측에 따라 작성  발표한 감사인의 감사보고서  의견 거절  때문입니다  한국 증권거래소에 상장된 중국원양자원에 투자한 우리 국민       명과 수많은 가족들은 부당한 감사인의 의견 거절로 절망에 처하고 삶의 의욕과 희망을 모두 잃어가고  분명 투자는 개개인의 책임입니다  그런데 최근 언론을 통해 중대하게 다루어졌듯이 국민 노후를 책임지는 국민연금 역시 증권 시장의 공정성과 투명성에 크게 의존하고  때문에 증권 시장의 공정성과 투명성이 확보되지 않으면  증권시장에 의존하여 국민의 노후를 책임지는 국민연금 역시 국민의 재산을 지켜낼 없고 결국에는 이리저리 부당하게 뜯겨나가서 몇 줌 안 되는 푼돈만 국민들에게 남을 것입니다  마찬가지로 은행  증권  보험사를 통해 어떤 형태로든 금융 상품에 가입되어 수많은 금융 소비자 역시 불공정한 금융 질서의 피해자가 될 수밖에  심대한 피해를 입힐 증권시장의 부당함이 우리 금융시장에 새로운 전례로 남게 될 일을 앞두고  번 불공정성이 뿌리내리면 부당함은 우리나라 금융 시장에서 독버섯처럼 세력을 뻗어나갈 것입니다  국민  만  천 명의 재산이 몰수되도록 회계 감사 법인의 부당한 감사 의견이 개인 투자자  만  천 명들의 피눈물로만 끝나지 않을 이유가 여기에  기업 회계 기록의 적정성이나 회사의 계속 존속 여부를 점검하는 회계 감사 법인은 오직 밝혀진 사실과 이를 뒷받침하는 증거를 근거로 회계 장부가 공정하게 기록되었는지 의견을 표명해야  추정이 필요할 경우에도 회계 기준에서 규정하고 방법을 준수해야 한다고 명시되어  왜냐하면 회계 감사 의견 자체가 기업의 사활을 결정지을 대출 가능 여부  회사채 발행 가능 여부  증권 시장에서 상장 유지와 상장 폐지에 있어서 결정적이기 때문입니다  그러나 신한회계법인은 어떤 규정이나 법에도 근거를 두지 않고 추측과 예단을 감사 의견 거절의  결정적 근거 로 명시하였는 바  이는 감사인의  의견거절 로 인해       명의 재산이 부당한 상장 폐지로 몰수되는 참혹한 결과에 비추어 볼 때 너무도 무책임하며 법적 근거를 갖추지 못한 심각하게 불공정한 처사로       명의 국민들과 가족들은 적법한 감사 결과로 절대 인정할  감사인  신한회계법인 이 감사 의견을  거절 로 표명한 근거는  가지입니다      증권선물위원회의 올 해  정례 회의에서 회사 대표이사를 검찰에 고발하기로 결의한 것      우발부채와 소송사건이 재무제표에 미칠 영향에 대하여 충분한 감사 증거를 회사에서 제공하지 않았다는 것      유동부채가 유동자산보다               HKD 많고       억 원  자본금이             HKD 잠식     억 원 되었다는 것  사유의 부당함을 하나씩 짚어보겠습니다  의견 거절 사유    은 증권선물위원회 회의에서 중국원양자원 대표이사 고발을  달 전      결의한 것을 감사 의견 거절의 근거로 내세웠습니다      년부터 매년  차례씩 회사 내부 서류를 샅샅히 들여다보며 매 반기와 연말 감사를 직접 수행하고 총   차례에 걸쳐 회계 장부가 적정하게 작성되었다고 적정 의견을 표명했던 회계 감사인이  신한회계법인  법원의 유죄 판결도 아니고 검찰의 기소도 아닌  검찰 고발 결의 를  달 전에 증권선물위원회가 했던 것을 사유로 작년 말 기준 작성되었던 회사의 회계 장부를 믿지 못하는 이유라고 내세웠습니다      년부터 매년  차례씩 회계 장부와 증빙 서류를 샅샅히 확인하고 조사  검토한 회계 법인이 손에 넣고 직접 눈으로 확인했던 증빙 서류들은 놔둔 채  상급 감독기관의 회의에서 대표이사 검찰에 고발 결의 사항을 감사 의견 거절의 근거로 삼은 것입니다  지난  년 동안   차례의 감사 과정에 입수했던 회계 서류로는 감사  의견 거절 을 표명할 없었지만  상급 감독기관에서 대표이사 검찰 고발을 결의한 결정을 사유로 감사 의견 거절을 낸 것에 주목해주시기 바랍니다  더구나 우리나라 증권 시장의 전례를 보았을 때 대표이사가 검찰에 고발되어 실제로  억 원의 벌금형을 선고받은 셀트리온의 경우 회사의 감사 의견에는 전혀 영향이 없었던 점에서 감사인의 의견 거절 사유    은 법이나 규정에 전혀 근거를 두지 않은 내용입니다  의견 거절 사유     역시 회사  법인 에 우발부채 소송사건이 아닌 회사의 대표이사 개인에 우발부채와 소송사건을 문제 삼은 것으로  회사 측과 감사인  신한회계법인 이 각각 회사가 외국 현지 로펌을 선임해 의견서를 제출받은 결과  회사 측 로펌에서 문제가 없다는 의견을 낸 바  의견 거절 사유    은 자본잠식  자본잠식률     이 회계 감사 의견 표명과는 무관함에도 불구하고 감사 의견 거절 사유로 내세웠습니다  편 KRX 한국거래소에서는 자본잠식률     이상  년 연속 유지될 경우를 상장 폐지 사유로 규정하고  감사 의견 거절 사유로    의 자본잠식을 내세우는 어디에서도 근거를 찾을 처사입니다  지금도 코스닥 시장에는   개사의 부분 자본 잠식 회사들이 등록되어  또한 올 해  월에는 유동부채의 유동자산 초과액이      억 원에서   억 원으로 줄어드는 후속 사건이 있었습니다  그런데 감사인은 감사 시점  개월 뒤인 올  월에 생긴 후속 사건은 감사 의견 거절 사유로 전면에 내세우면서도 그보다  달 앞서 있었던 후속 사건은 감사 의견에 전혀 반영하지 않고  규정에 맞지 않는 근거를 내세우면서 그마저도 형평성을 크게 잃은  부당한 감사 의견입니다  국내 주주       명의 재산 합계 천억 원이 하루 아침에 없어질 상황에 놓인 중국원양자원의 상장 폐지 여부는 감사인의 감사 의견에 의해 결정됩니다  감사인 신한회계법인은     년부터  년 동안 의심의 눈초리로 국내의 통상적인 회계 감사보다 훨씬 엄격하게 감사를 수행해왔고  엄격한 잣대에도 회사의 회계 장부에서는 오점이 발견되지 않았습니다  그런데 지난  년 동안의 감사에서 수집했던 증거로는  감사 의견 거절  표명을 하지 못했던 감사인이 법이나 제도에 근거하지 않은 부당한 의견 거절 표명으로 국내 투자자       명의 생계를 사지에 몰아넣고  회사는 현재 지난 약  년간 선원의 파업과 어업조황의 악화 낮은 어가로 인해 좋은 실적을 못내었고 동시에 이러한 악조건속에서 선단수를 늘리는 모험을 감행해 적자폭이 늘어났습니다  그러나 현재 어가가 회복되고 있고 늘어난 조업선단이 자리잡아  장화리사장은 올 하반기부터는    억 이상의 순이익을 자신하고 그에따른 순이익의     배당을 기대하고 있었으며 또한  우리나라를 포함 전세계적으로 원양어업의 환경이 좋아지고 있으며  원양업체들의 매출및 이익이 전년대비 향상되고  와중에 이러한 부적절하고 정당하지 못하며 형평에 맞지않는 재감사 결과로 인해 상장주체인 거래소에서 대한민국에 상장시킨  중국원양자원  이라는 회사에 원양어업의 발전 가능성을 보고 투자한  수십년간 성실히 살면서 아끼고 아껴서 모은 소액주주들의 소중한 재산이 한순간에 휴지조각이 될 현실에 처해 너무나도 가슴이 아프며  소액주주들의 삶 자체가 존폐위기에 놓여  거래소의 심리 제도는 날선 칼날처럼 예리해야 하지만 한편으로는 투명성 공정성 과 보편성 정당성   형평성을 유지하여 미래의 성장성이 인정되는 기업이 도태되거나 어느한쪽이 일방적으로 억울하게 피해을 당하는 일이 없도록 방패의 역할도 함께 수행해야 한다고 생각  중국원양자원 에서 과거에 일어났던 일련의 사건에 대해서만 집중하고 미래에 그려나갈 모습들에 대해서는 상대적으로 등한시 특히나  투자자들의 권익과 입장에 대해서는 가장 후순위로 밀어놓고 이에 투자자들의 의견이나 읍소에선 아랑곳하지 않는다면  대다수의 국민들은 누굴믿고 투자를 하겠습니까  현재 상장폐지제도에서  투자자보호  라고 기치에 맞게 진정한 투자자보호를 위하여 공정하고 형평성있는 심사가 이루어질수 있도록 간청 드립니다  또한  무엇보다 재감사결과에 공정한 정정을 원하며 만에하나 이루어지지않는다면 최소한 대한민국 국민인 소액주주들의 피해를 최소화하기위해 거래소 당국자분들께서 개선기간을  년이상 다시 부여해주시는 융통성을 발휘해주시기를 바랍니다   년이상의 개선기간 부여로 인해 국민의 어떠한 추가적인 다른 피해는 없으면서 회사가 약속한 이익의 개선이 이루어지기를 바랄수 있고 최악의 경우 회사의 실적이 돌이킬수 없게되더라도 주총에서 장화리 사장의 해임등 안을 모색해서 국부의 유출을 막을 있기 때문입니다  대한민국의 투자자를 위한 거래소라면 최소한의 억울한 투자자 피해를 막기위한 이러한 결정은 당연히 이뤄져야할 것이라고 믿습니다  부디 소시민의 눈물어린 목소리에 귀기울여 주시고 대통령님이 바라시는 정의로운 사회에 맞는 판단을 해 주실것을 온 마음을 다해 부탁드립니다  긴글 읽어주셔서 감사합니다 '"
      ]
     },
     "execution_count": 12,
     "metadata": {},
     "output_type": "execute_result"
    }
   ],
   "source": [
    "remove_stopwords(pre_sample_content)"
   ]
  },
  {
   "cell_type": "code",
   "execution_count": 13,
   "metadata": {},
   "outputs": [
    {
     "name": "stdout",
     "output_type": "stream",
     "text": [
      "CPU times: user 241 ms, sys: 70.6 ms, total: 311 ms\n",
      "Wall time: 321 ms\n"
     ]
    },
    {
     "name": "stderr",
     "output_type": "stream",
     "text": [
      "/Users/corazzon/codes/jupyter/lib/python3.6/site-packages/ipykernel_launcher.py:1: SettingWithCopyWarning: \n",
      "A value is trying to be set on a copy of a slice from a DataFrame.\n",
      "Try using .loc[row_indexer,col_indexer] = value instead\n",
      "\n",
      "See the caveats in the documentation: http://pandas.pydata.org/pandas-docs/stable/indexing.html#indexing-view-versus-copy\n",
      "  \"\"\"Entry point for launching an IPython kernel.\n"
     ]
    }
   ],
   "source": [
    "%time df['content_preprocessing'] = df['content'].apply(preprocessing)"
   ]
  },
  {
   "cell_type": "code",
   "execution_count": 14,
   "metadata": {},
   "outputs": [
    {
     "name": "stdout",
     "output_type": "stream",
     "text": [
      "CPU times: user 356 ms, sys: 36 ms, total: 392 ms\n",
      "Wall time: 397 ms\n"
     ]
    },
    {
     "name": "stderr",
     "output_type": "stream",
     "text": [
      "/Users/corazzon/codes/jupyter/lib/python3.6/site-packages/ipykernel_launcher.py:1: SettingWithCopyWarning: \n",
      "A value is trying to be set on a copy of a slice from a DataFrame.\n",
      "Try using .loc[row_indexer,col_indexer] = value instead\n",
      "\n",
      "See the caveats in the documentation: http://pandas.pydata.org/pandas-docs/stable/indexing.html#indexing-view-versus-copy\n",
      "  \"\"\"Entry point for launching an IPython kernel.\n"
     ]
    }
   ],
   "source": [
    "%time df['content_preprocessing2'] = df['content_preprocessing'].apply(remove_stopwords)"
   ]
  },
  {
   "cell_type": "code",
   "execution_count": 15,
   "metadata": {},
   "outputs": [
    {
     "data": {
      "text/plain": [
       "<matplotlib.axes._subplots.AxesSubplot at 0x115868438>"
      ]
     },
     "execution_count": 15,
     "metadata": {},
     "output_type": "execute_result"
    },
    {
     "data": {
      "image/png": "[encoded data removed]",
      "text/plain": [
       "<matplotlib.figure.Figure at 0x11577c5f8>"
      ]
     },
     "metadata": {},
     "output_type": "display_data"
    }
   ],
   "source": [
    "%matplotlib inline\n",
    "df['votes'].plot.hist()"
   ]
  },
  {
   "cell_type": "code",
   "execution_count": 16,
   "metadata": {},
   "outputs": [
    {
     "data": {
      "text/plain": [
       "(1649, 9)"
      ]
     },
     "execution_count": 16,
     "metadata": {},
     "output_type": "execute_result"
    }
   ],
   "source": [
    "df_4 = df.loc[df['votes'] < 200000]\n",
    "df_4.shape"
   ]
  },
  {
   "cell_type": "code",
   "execution_count": 17,
   "metadata": {},
   "outputs": [
    {
     "data": {
      "text/plain": [
       "<matplotlib.axes._subplots.AxesSubplot at 0x115880400>"
      ]
     },
     "execution_count": 17,
     "metadata": {},
     "output_type": "execute_result"
    },
    {
     "data": {
      "image/png": "[encoded data removed]",
      "text/plain": [
       "<matplotlib.figure.Figure at 0x10532ce48>"
      ]
     },
     "metadata": {},
     "output_type": "display_data"
    }
   ],
   "source": [
    "df_4['votes'].plot.hist()"
   ]
  },
  {
   "cell_type": "code",
   "execution_count": 18,
   "metadata": {},
   "outputs": [],
   "source": [
    "# 아웃라이어 데이터를 제거하고 다시 df를 만들어 줍니다.\n",
    "df = df_4"
   ]
  },
  {
   "cell_type": "markdown",
   "metadata": {},
   "source": [
    "# 학습세트와 테스트세트 만들기\n",
    "* 학습세트와 테스트세트를 7:3의 비율로 나눠 줍니다."
   ]
  },
  {
   "cell_type": "code",
   "execution_count": 19,
   "metadata": {},
   "outputs": [],
   "source": [
    "df = df.reindex()"
   ]
  },
  {
   "cell_type": "code",
   "execution_count": 20,
   "metadata": {},
   "outputs": [
    {
     "data": {
      "text/plain": [
       "(1649, 9)"
      ]
     },
     "execution_count": 20,
     "metadata": {},
     "output_type": "execute_result"
    }
   ],
   "source": [
    "df.shape"
   ]
  },
  {
   "cell_type": "code",
   "execution_count": 21,
   "metadata": {},
   "outputs": [
    {
     "data": {
      "text/plain": [
       "1154"
      ]
     },
     "execution_count": 21,
     "metadata": {},
     "output_type": "execute_result"
    }
   ],
   "source": [
    "split_count = int(df.shape[0] * 0.7)\n",
    "split_count"
   ]
  },
  {
   "cell_type": "code",
   "execution_count": 22,
   "metadata": {},
   "outputs": [
    {
     "data": {
      "text/plain": [
       "(1154, 9)"
      ]
     },
     "execution_count": 22,
     "metadata": {},
     "output_type": "execute_result"
    }
   ],
   "source": [
    "df_train = df[:split_count]\n",
    "df_train.shape"
   ]
  },
  {
   "cell_type": "code",
   "execution_count": 23,
   "metadata": {},
   "outputs": [
    {
     "data": {
      "text/html": [
       "<div>\n",
       "<style scoped>\n",
       "    .dataframe tbody tr th:only-of-type {\n",
       "        vertical-align: middle;\n",
       "    }\n",
       "\n",
       "    .dataframe tbody tr th {\n",
       "        vertical-align: top;\n",
       "    }\n",
       "\n",
       "    .dataframe thead th {\n",
       "        text-align: right;\n",
       "    }\n",
       "</style>\n",
       "<table border=\"1\" class=\"dataframe\">\n",
       "  <thead>\n",
       "    <tr style=\"text-align: right;\">\n",
       "      <th></th>\n",
       "      <th>start</th>\n",
       "      <th>end</th>\n",
       "      <th>answered</th>\n",
       "      <th>votes</th>\n",
       "      <th>category</th>\n",
       "      <th>title</th>\n",
       "      <th>content</th>\n",
       "      <th>content_preprocessing</th>\n",
       "      <th>content_preprocessing2</th>\n",
       "    </tr>\n",
       "    <tr>\n",
       "      <th>article_id</th>\n",
       "      <th></th>\n",
       "      <th></th>\n",
       "      <th></th>\n",
       "      <th></th>\n",
       "      <th></th>\n",
       "      <th></th>\n",
       "      <th></th>\n",
       "      <th></th>\n",
       "      <th></th>\n",
       "    </tr>\n",
       "  </thead>\n",
       "  <tbody>\n",
       "    <tr>\n",
       "      <th>28</th>\n",
       "      <td>2017-08-19</td>\n",
       "      <td>2017-08-26</td>\n",
       "      <td>0</td>\n",
       "      <td>2137</td>\n",
       "      <td>경제민주화</td>\n",
       "      <td>소액주주를 보호해주십시오</td>\n",
       "      <td>**  존경하옵는 문재인대통령님께\\n저는 중국원양자원이라는 KOSPI상장사의 소액 ...</td>\n",
       "      <td>존경하옵는 문재인대통령님께 저는 중국원양자원이라는 KOSPI상장사의 소액 주...</td>\n",
       "      <td>존경하옵는 문재인대통령님께 중국원양자원이라는 KOSPI상장사의 소액 주주입니...</td>\n",
       "    </tr>\n",
       "    <tr>\n",
       "      <th>43</th>\n",
       "      <td>2017-08-19</td>\n",
       "      <td>2017-09-18</td>\n",
       "      <td>0</td>\n",
       "      <td>11293</td>\n",
       "      <td>육아/교육</td>\n",
       "      <td>기간제 교사의 정규직화를 반대합니다.</td>\n",
       "      <td>대통령님, 안녕하세요. 저는 임용을 준비하고 수험생입니다. 처음 기간제 정규직화 된...</td>\n",
       "      <td>대통령님  안녕하세요  저는 임용을 준비하고 수험생입니다  처음 기간제 정규직화 된...</td>\n",
       "      <td>대통령님  안녕하세요  임용을 준비하고 수험생입니다  처음 기간제 정규직화 된다고 ...</td>\n",
       "    </tr>\n",
       "    <tr>\n",
       "      <th>46</th>\n",
       "      <td>2017-08-19</td>\n",
       "      <td>2017-09-18</td>\n",
       "      <td>0</td>\n",
       "      <td>1933</td>\n",
       "      <td>육아/교육</td>\n",
       "      <td>기간제교사의 정규직화를 반대합니다.</td>\n",
       "      <td>대통령님, 안녕하세요. 저는 임용을 준비하고 수험생입니다. 처음 기간제 정규직화 된...</td>\n",
       "      <td>대통령님  안녕하세요  저는 임용을 준비하고 수험생입니다  처음 기간제 정규직화 된...</td>\n",
       "      <td>대통령님  안녕하세요  임용을 준비하고 수험생입니다  처음 기간제 정규직화 된다고 ...</td>\n",
       "    </tr>\n",
       "    <tr>\n",
       "      <th>50</th>\n",
       "      <td>2017-08-19</td>\n",
       "      <td>2017-10-18</td>\n",
       "      <td>0</td>\n",
       "      <td>1251</td>\n",
       "      <td>일자리</td>\n",
       "      <td>치과위생사 국가고시 날짜 변경 억울합니다</td>\n",
       "      <td>안녕하십니까? 대통령님 간단하게 제소개 부터 하겠습니다. 저는 치위생과 3학년 학생...</td>\n",
       "      <td>안녕하십니까  대통령님 간단하게 제소개 부터 하겠습니다  저는 치위생과  학년 학생...</td>\n",
       "      <td>안녕하십니까  대통령님 간단하게 제소개 부터 하겠습니다  치위생과  학년 학생입니다...</td>\n",
       "    </tr>\n",
       "    <tr>\n",
       "      <th>61</th>\n",
       "      <td>2017-08-19</td>\n",
       "      <td>2017-08-26</td>\n",
       "      <td>0</td>\n",
       "      <td>1185</td>\n",
       "      <td>일자리</td>\n",
       "      <td>영어회화전문강사제도는 유지되어야합니다.</td>\n",
       "      <td>1. 영전강의고용안정을 원합니다\\n2.1년단위계약직으로 임신 출산육아 매우 곤란합니...</td>\n",
       "      <td>영전강의고용안정을 원합니다    년단위계약직으로 임신 출산육아 매우 곤란합니다...</td>\n",
       "      <td>영전강의고용안정을 원합니다    년단위계약직으로 임신 출산육아 매우 곤란합니다...</td>\n",
       "    </tr>\n",
       "  </tbody>\n",
       "</table>\n",
       "</div>"
      ],
      "text/plain": [
       "                start        end  answered  votes category  \\\n",
       "article_id                                                   \n",
       "28         2017-08-19 2017-08-26         0   2137    경제민주화   \n",
       "43         2017-08-19 2017-09-18         0  11293    육아/교육   \n",
       "46         2017-08-19 2017-09-18         0   1933    육아/교육   \n",
       "50         2017-08-19 2017-10-18         0   1251      일자리   \n",
       "61         2017-08-19 2017-08-26         0   1185      일자리   \n",
       "\n",
       "                             title  \\\n",
       "article_id                           \n",
       "28                   소액주주를 보호해주십시오   \n",
       "43            기간제 교사의 정규직화를 반대합니다.   \n",
       "46             기간제교사의 정규직화를 반대합니다.   \n",
       "50          치과위생사 국가고시 날짜 변경 억울합니다   \n",
       "61           영어회화전문강사제도는 유지되어야합니다.   \n",
       "\n",
       "                                                      content  \\\n",
       "article_id                                                      \n",
       "28          **  존경하옵는 문재인대통령님께\\n저는 중국원양자원이라는 KOSPI상장사의 소액 ...   \n",
       "43          대통령님, 안녕하세요. 저는 임용을 준비하고 수험생입니다. 처음 기간제 정규직화 된...   \n",
       "46          대통령님, 안녕하세요. 저는 임용을 준비하고 수험생입니다. 처음 기간제 정규직화 된...   \n",
       "50          안녕하십니까? 대통령님 간단하게 제소개 부터 하겠습니다. 저는 치위생과 3학년 학생...   \n",
       "61          1. 영전강의고용안정을 원합니다\\n2.1년단위계약직으로 임신 출산육아 매우 곤란합니...   \n",
       "\n",
       "                                        content_preprocessing  \\\n",
       "article_id                                                      \n",
       "28              존경하옵는 문재인대통령님께 저는 중국원양자원이라는 KOSPI상장사의 소액 주...   \n",
       "43          대통령님  안녕하세요  저는 임용을 준비하고 수험생입니다  처음 기간제 정규직화 된...   \n",
       "46          대통령님  안녕하세요  저는 임용을 준비하고 수험생입니다  처음 기간제 정규직화 된...   \n",
       "50          안녕하십니까  대통령님 간단하게 제소개 부터 하겠습니다  저는 치위생과  학년 학생...   \n",
       "61             영전강의고용안정을 원합니다    년단위계약직으로 임신 출산육아 매우 곤란합니다...   \n",
       "\n",
       "                                       content_preprocessing2  \n",
       "article_id                                                     \n",
       "28              존경하옵는 문재인대통령님께 중국원양자원이라는 KOSPI상장사의 소액 주주입니...  \n",
       "43          대통령님  안녕하세요  임용을 준비하고 수험생입니다  처음 기간제 정규직화 된다고 ...  \n",
       "46          대통령님  안녕하세요  임용을 준비하고 수험생입니다  처음 기간제 정규직화 된다고 ...  \n",
       "50          안녕하십니까  대통령님 간단하게 제소개 부터 하겠습니다  치위생과  학년 학생입니다...  \n",
       "61             영전강의고용안정을 원합니다    년단위계약직으로 임신 출산육아 매우 곤란합니다...  "
      ]
     },
     "execution_count": 23,
     "metadata": {},
     "output_type": "execute_result"
    }
   ],
   "source": [
    "df_train.head()"
   ]
  },
  {
   "cell_type": "code",
   "execution_count": 24,
   "metadata": {},
   "outputs": [
    {
     "data": {
      "text/plain": [
       "(0, 9)"
      ]
     },
     "execution_count": 24,
     "metadata": {},
     "output_type": "execute_result"
    }
   ],
   "source": [
    "# 학습 세트의 답변 대상 건이 몇 건인지 본다.\n",
    "df_train.loc[df_train['answered'] == 1].shape"
   ]
  },
  {
   "cell_type": "code",
   "execution_count": 25,
   "metadata": {},
   "outputs": [
    {
     "data": {
      "text/plain": [
       "(495, 9)"
      ]
     },
     "execution_count": 25,
     "metadata": {},
     "output_type": "execute_result"
    }
   ],
   "source": [
    "df_test = df[split_count:]\n",
    "df_test.shape"
   ]
  },
  {
   "cell_type": "code",
   "execution_count": 26,
   "metadata": {},
   "outputs": [
    {
     "data": {
      "text/html": [
       "<div>\n",
       "<style scoped>\n",
       "    .dataframe tbody tr th:only-of-type {\n",
       "        vertical-align: middle;\n",
       "    }\n",
       "\n",
       "    .dataframe tbody tr th {\n",
       "        vertical-align: top;\n",
       "    }\n",
       "\n",
       "    .dataframe thead th {\n",
       "        text-align: right;\n",
       "    }\n",
       "</style>\n",
       "<table border=\"1\" class=\"dataframe\">\n",
       "  <thead>\n",
       "    <tr style=\"text-align: right;\">\n",
       "      <th></th>\n",
       "      <th>start</th>\n",
       "      <th>end</th>\n",
       "      <th>answered</th>\n",
       "      <th>votes</th>\n",
       "      <th>category</th>\n",
       "      <th>title</th>\n",
       "      <th>content</th>\n",
       "      <th>content_preprocessing</th>\n",
       "      <th>content_preprocessing2</th>\n",
       "    </tr>\n",
       "    <tr>\n",
       "      <th>article_id</th>\n",
       "      <th></th>\n",
       "      <th></th>\n",
       "      <th></th>\n",
       "      <th></th>\n",
       "      <th></th>\n",
       "      <th></th>\n",
       "      <th></th>\n",
       "      <th></th>\n",
       "      <th></th>\n",
       "    </tr>\n",
       "  </thead>\n",
       "  <tbody>\n",
       "    <tr>\n",
       "      <th>178954</th>\n",
       "      <td>2018-03-28</td>\n",
       "      <td>2018-04-27</td>\n",
       "      <td>0</td>\n",
       "      <td>2030</td>\n",
       "      <td>안전/환경</td>\n",
       "      <td>김부겸 행정안전부 장관님께 정확한  사실관계 확인 부탁드립니다.</td>\n",
       "      <td>道 기획조정실, 일방적 사업 축소 반발 일자 신규채용 관련 감사도\\n소방관들 “업무...</td>\n",
       "      <td>기획조정실  일방적 사업 축소 반발 일자 신규채용 관련 감사도 소방관들  업무영...</td>\n",
       "      <td>기획조정실  일방적 사업 축소 반발 일자 신규채용 관련 감사도 소방관들  업무영...</td>\n",
       "    </tr>\n",
       "    <tr>\n",
       "      <th>179146</th>\n",
       "      <td>2018-03-29</td>\n",
       "      <td>2018-04-28</td>\n",
       "      <td>0</td>\n",
       "      <td>16216</td>\n",
       "      <td>보건복지</td>\n",
       "      <td>저희 엄마 사망의 진실을 알려주십시오</td>\n",
       "      <td>저는 며칠 전 병원에서 엄마를 잃었습니다.\\n그런데 병원측의 너무나 어처구니 없는 ...</td>\n",
       "      <td>저는 며칠 전 병원에서 엄마를 잃었습니다  그런데 병원측의 너무나 어처구니 없는 대...</td>\n",
       "      <td>며칠 전 병원에서 엄마를 잃었습니다  그런데 병원측의 너무나 어처구니 대처로 억울하...</td>\n",
       "    </tr>\n",
       "    <tr>\n",
       "      <th>179162</th>\n",
       "      <td>2018-03-29</td>\n",
       "      <td>2018-04-28</td>\n",
       "      <td>0</td>\n",
       "      <td>6698</td>\n",
       "      <td>육아/교육</td>\n",
       "      <td>총신대 사태의 희생양이된 학생들을 전과자로 만들어서는 결코 안됩니다.</td>\n",
       "      <td>간섭하려는 총회와 간섭 받지 않으려는 재단 사이의 갈등을 책임자들이 대화로 풀 수 ...</td>\n",
       "      <td>간섭하려는 총회와 간섭 받지 않으려는 재단 사이의 갈등을 책임자들이 대화로 풀 수 ...</td>\n",
       "      <td>간섭하려는 총회와 간섭 받지 않으려는 재단 사이의 갈등을 책임자들이 대화로 풀 없어...</td>\n",
       "    </tr>\n",
       "    <tr>\n",
       "      <th>179317</th>\n",
       "      <td>2018-03-29</td>\n",
       "      <td>2018-04-28</td>\n",
       "      <td>0</td>\n",
       "      <td>1018</td>\n",
       "      <td>교통/건축/국토</td>\n",
       "      <td>무책임한 집주인 및 임대사업자에 대한 대책을 마련해주세요</td>\n",
       "      <td>요즘 깡통전세 등 전세 세입자의 전재산으로 볼 수 있는 전세 보증금을 보장 받지 못...</td>\n",
       "      <td>요즘 깡통전세 등 전세 세입자의 전재산으로 볼 수 있는 전세 보증금을 보장 받지 못...</td>\n",
       "      <td>요즘 깡통전세 전세 세입자의 전재산으로 볼 전세 보증금을 보장 받지 못하는 사례가 ...</td>\n",
       "    </tr>\n",
       "    <tr>\n",
       "      <th>179421</th>\n",
       "      <td>2018-03-29</td>\n",
       "      <td>2018-04-28</td>\n",
       "      <td>0</td>\n",
       "      <td>2052</td>\n",
       "      <td>반려동물</td>\n",
       "      <td>동물보호법 강화 부탁드립니다</td>\n",
       "      <td>\"한 나라의 위대성과 그 도덕성은 동물들을 다루는 태도로 판단할 수 있다. 나는 나...</td>\n",
       "      <td>한 나라의 위대성과 그 도덕성은 동물들을 다루는 태도로 판단할 수 있다  나는 나...</td>\n",
       "      <td>나라의 위대성과 도덕성은 동물들을 다루는 태도로 판단할 있다  나는 나약한 동물일...</td>\n",
       "    </tr>\n",
       "  </tbody>\n",
       "</table>\n",
       "</div>"
      ],
      "text/plain": [
       "                start        end  answered  votes  category  \\\n",
       "article_id                                                    \n",
       "178954     2018-03-28 2018-04-27         0   2030     안전/환경   \n",
       "179146     2018-03-29 2018-04-28         0  16216      보건복지   \n",
       "179162     2018-03-29 2018-04-28         0   6698     육아/교육   \n",
       "179317     2018-03-29 2018-04-28         0   1018  교통/건축/국토   \n",
       "179421     2018-03-29 2018-04-28         0   2052      반려동물   \n",
       "\n",
       "                                             title  \\\n",
       "article_id                                           \n",
       "178954         김부겸 행정안전부 장관님께 정확한  사실관계 확인 부탁드립니다.   \n",
       "179146                        저희 엄마 사망의 진실을 알려주십시오   \n",
       "179162      총신대 사태의 희생양이된 학생들을 전과자로 만들어서는 결코 안됩니다.   \n",
       "179317             무책임한 집주인 및 임대사업자에 대한 대책을 마련해주세요   \n",
       "179421                             동물보호법 강화 부탁드립니다   \n",
       "\n",
       "                                                      content  \\\n",
       "article_id                                                      \n",
       "178954      道 기획조정실, 일방적 사업 축소 반발 일자 신규채용 관련 감사도\\n소방관들 “업무...   \n",
       "179146      저는 며칠 전 병원에서 엄마를 잃었습니다.\\n그런데 병원측의 너무나 어처구니 없는 ...   \n",
       "179162      간섭하려는 총회와 간섭 받지 않으려는 재단 사이의 갈등을 책임자들이 대화로 풀 수 ...   \n",
       "179317      요즘 깡통전세 등 전세 세입자의 전재산으로 볼 수 있는 전세 보증금을 보장 받지 못...   \n",
       "179421      \"한 나라의 위대성과 그 도덕성은 동물들을 다루는 태도로 판단할 수 있다. 나는 나...   \n",
       "\n",
       "                                        content_preprocessing  \\\n",
       "article_id                                                      \n",
       "178954        기획조정실  일방적 사업 축소 반발 일자 신규채용 관련 감사도 소방관들  업무영...   \n",
       "179146      저는 며칠 전 병원에서 엄마를 잃었습니다  그런데 병원측의 너무나 어처구니 없는 대...   \n",
       "179162      간섭하려는 총회와 간섭 받지 않으려는 재단 사이의 갈등을 책임자들이 대화로 풀 수 ...   \n",
       "179317      요즘 깡통전세 등 전세 세입자의 전재산으로 볼 수 있는 전세 보증금을 보장 받지 못...   \n",
       "179421       한 나라의 위대성과 그 도덕성은 동물들을 다루는 태도로 판단할 수 있다  나는 나...   \n",
       "\n",
       "                                       content_preprocessing2  \n",
       "article_id                                                     \n",
       "178954        기획조정실  일방적 사업 축소 반발 일자 신규채용 관련 감사도 소방관들  업무영...  \n",
       "179146      며칠 전 병원에서 엄마를 잃었습니다  그런데 병원측의 너무나 어처구니 대처로 억울하...  \n",
       "179162      간섭하려는 총회와 간섭 받지 않으려는 재단 사이의 갈등을 책임자들이 대화로 풀 없어...  \n",
       "179317      요즘 깡통전세 전세 세입자의 전재산으로 볼 전세 보증금을 보장 받지 못하는 사례가 ...  \n",
       "179421       나라의 위대성과 도덕성은 동물들을 다루는 태도로 판단할 있다  나는 나약한 동물일...  "
      ]
     },
     "execution_count": 26,
     "metadata": {},
     "output_type": "execute_result"
    }
   ],
   "source": [
    "df_test.head()"
   ]
  },
  {
   "cell_type": "code",
   "execution_count": 27,
   "metadata": {},
   "outputs": [
    {
     "data": {
      "text/plain": [
       "(0, 9)"
      ]
     },
     "execution_count": 27,
     "metadata": {},
     "output_type": "execute_result"
    }
   ],
   "source": [
    "# 테스트 세트의 답변 대상 건이 몇 건인지 본다.\n",
    "df_test.loc[df_test['answered'] == 1].shape"
   ]
  },
  {
   "cell_type": "markdown",
   "metadata": {},
   "source": [
    "# 단어 벡터화 하기"
   ]
  },
  {
   "cell_type": "code",
   "execution_count": 28,
   "metadata": {},
   "outputs": [
    {
     "data": {
      "text/plain": [
       "CountVectorizer(analyzer='word', binary=False, decode_error='strict',\n",
       "        dtype=<class 'numpy.int64'>, encoding='utf-8', input='content',\n",
       "        lowercase=True, max_df=1.0, max_features=2000, min_df=2,\n",
       "        ngram_range=(1, 3), preprocessor=None, stop_words=None,\n",
       "        strip_accents=None, token_pattern='(?u)\\\\b\\\\w\\\\w+\\\\b',\n",
       "        tokenizer=None, vocabulary=None)"
      ]
     },
     "execution_count": 28,
     "metadata": {},
     "output_type": "execute_result"
    }
   ],
   "source": [
    "from sklearn.feature_extraction.text import CountVectorizer\n",
    "\n",
    "vectorizer = CountVectorizer(analyzer = 'word', # 캐릭터 단위로 벡터화 할 수도 있습니다.\n",
    "                             tokenizer = None, # 토크나이저를 따로 지정해 줄 수도 있습니다.\n",
    "                             preprocessor = None, # 전처리 도구\n",
    "                             stop_words = None, # 불용어 nltk등의 도구를 사용할 수도 있습니다.\n",
    "                             min_df = 2, # 토큰이 나타날 최소 문서 개수로 오타나 자주 나오지 않는 특수한 전문용어 제거에 좋다. \n",
    "                             ngram_range=(1, 3), # BOW의 단위를 1~3개로 지정합니다.\n",
    "                             max_features = 2000 # 만들 피처의 수, 단어의 수가 된다.\n",
    "                            )\n",
    "vectorizer"
   ]
  },
  {
   "cell_type": "code",
   "execution_count": 29,
   "metadata": {},
   "outputs": [
    {
     "name": "stdout",
     "output_type": "stream",
     "text": [
      "CPU times: user 3.73 s, sys: 207 ms, total: 3.94 s\n",
      "Wall time: 4.58 s\n"
     ]
    }
   ],
   "source": [
    "%%time \n",
    "train_feature_vector = vectorizer.fit_transform(df_train['content_preprocessing2'])\n",
    "train_feature_vector.shape"
   ]
  },
  {
   "cell_type": "code",
   "execution_count": 30,
   "metadata": {},
   "outputs": [
    {
     "name": "stdout",
     "output_type": "stream",
     "text": [
      "CPU times: user 1.58 s, sys: 78.2 ms, total: 1.66 s\n",
      "Wall time: 1.95 s\n"
     ]
    }
   ],
   "source": [
    "%%time \n",
    "test_feature_vector = vectorizer.fit_transform(df_test['content_preprocessing2'])\n",
    "test_feature_vector.shape"
   ]
  },
  {
   "cell_type": "code",
   "execution_count": 31,
   "metadata": {},
   "outputs": [
    {
     "name": "stdout",
     "output_type": "stream",
     "text": [
      "2000\n"
     ]
    },
    {
     "data": {
      "text/plain": [
       "['aid',\n",
       " 'and',\n",
       " 'article',\n",
       " 'articleview',\n",
       " 'as',\n",
       " 'co',\n",
       " 'co kr',\n",
       " 'co kr news',\n",
       " 'com',\n",
       " 'com main']"
      ]
     },
     "execution_count": 31,
     "metadata": {},
     "output_type": "execute_result"
    }
   ],
   "source": [
    "vocab = vectorizer.get_feature_names()\n",
    "print(len(vocab))\n",
    "vocab[:10]"
   ]
  },
  {
   "cell_type": "code",
   "execution_count": 32,
   "metadata": {},
   "outputs": [
    {
     "data": {
      "text/html": [
       "<div>\n",
       "<style scoped>\n",
       "    .dataframe tbody tr th:only-of-type {\n",
       "        vertical-align: middle;\n",
       "    }\n",
       "\n",
       "    .dataframe tbody tr th {\n",
       "        vertical-align: top;\n",
       "    }\n",
       "\n",
       "    .dataframe thead th {\n",
       "        text-align: right;\n",
       "    }\n",
       "</style>\n",
       "<table border=\"1\" class=\"dataframe\">\n",
       "  <thead>\n",
       "    <tr style=\"text-align: right;\">\n",
       "      <th></th>\n",
       "      <th>aid</th>\n",
       "      <th>and</th>\n",
       "      <th>article</th>\n",
       "      <th>articleview</th>\n",
       "      <th>as</th>\n",
       "      <th>co</th>\n",
       "      <th>co kr</th>\n",
       "      <th>co kr news</th>\n",
       "      <th>com</th>\n",
       "      <th>com main</th>\n",
       "      <th>...</th>\n",
       "      <th>후에</th>\n",
       "      <th>훨씬</th>\n",
       "      <th>휴게시간</th>\n",
       "      <th>휴게시간을</th>\n",
       "      <th>힘든</th>\n",
       "      <th>힘들게</th>\n",
       "      <th>힘들어</th>\n",
       "      <th>힘없는</th>\n",
       "      <th>힘을</th>\n",
       "      <th>힘이</th>\n",
       "    </tr>\n",
       "  </thead>\n",
       "  <tbody>\n",
       "    <tr>\n",
       "      <th>0</th>\n",
       "      <td>39</td>\n",
       "      <td>32</td>\n",
       "      <td>61</td>\n",
       "      <td>48</td>\n",
       "      <td>48</td>\n",
       "      <td>19</td>\n",
       "      <td>109</td>\n",
       "      <td>103</td>\n",
       "      <td>47</td>\n",
       "      <td>199</td>\n",
       "      <td>...</td>\n",
       "      <td>42</td>\n",
       "      <td>33</td>\n",
       "      <td>68</td>\n",
       "      <td>31</td>\n",
       "      <td>20</td>\n",
       "      <td>18</td>\n",
       "      <td>21</td>\n",
       "      <td>18</td>\n",
       "      <td>42</td>\n",
       "      <td>25</td>\n",
       "    </tr>\n",
       "  </tbody>\n",
       "</table>\n",
       "<p>1 rows × 2000 columns</p>\n",
       "</div>"
      ],
      "text/plain": [
       "   aid  and  article  articleview  as  co  co kr  co kr news  com  com main  \\\n",
       "0   39   32       61           48  48  19    109         103   47       199   \n",
       "\n",
       "  ...  후에  훨씬  휴게시간  휴게시간을  힘든  힘들게  힘들어  힘없는  힘을  힘이  \n",
       "0 ...  42  33    68     31  20   18   21   18  42  25  \n",
       "\n",
       "[1 rows x 2000 columns]"
      ]
     },
     "execution_count": 32,
     "metadata": {},
     "output_type": "execute_result"
    }
   ],
   "source": [
    "dist = np.sum(train_feature_vector, axis=0)\n",
    "\n",
    "pd.DataFrame(dist, columns=vocab)"
   ]
  },
  {
   "cell_type": "code",
   "execution_count": 33,
   "metadata": {},
   "outputs": [
    {
     "data": {
      "text/plain": [
       "TfidfTransformer(norm='l2', smooth_idf=False, sublinear_tf=False,\n",
       "         use_idf=True)"
      ]
     },
     "execution_count": 33,
     "metadata": {},
     "output_type": "execute_result"
    }
   ],
   "source": [
    "from sklearn.feature_extraction.text import TfidfTransformer\n",
    "transformer = TfidfTransformer(smooth_idf=False)\n",
    "transformer"
   ]
  },
  {
   "cell_type": "code",
   "execution_count": 34,
   "metadata": {},
   "outputs": [
    {
     "name": "stdout",
     "output_type": "stream",
     "text": [
      "CPU times: user 4.42 ms, sys: 2.71 ms, total: 7.13 ms\n",
      "Wall time: 5.99 ms\n"
     ]
    }
   ],
   "source": [
    "%%time \n",
    "train_feature_tfidf = transformer.fit_transform(train_feature_vector)\n",
    "train_feature_tfidf.shape"
   ]
  },
  {
   "cell_type": "code",
   "execution_count": 35,
   "metadata": {},
   "outputs": [
    {
     "name": "stdout",
     "output_type": "stream",
     "text": [
      "CPU times: user 3.46 ms, sys: 1.73 ms, total: 5.19 ms\n",
      "Wall time: 4.63 ms\n"
     ]
    }
   ],
   "source": [
    "%%time \n",
    "test_feature_tfidf = transformer.fit_transform(test_feature_vector)\n",
    "test_feature_tfidf.shape"
   ]
  },
  {
   "cell_type": "code",
   "execution_count": 36,
   "metadata": {},
   "outputs": [
    {
     "data": {
      "text/plain": [
       "(495, 2000)"
      ]
     },
     "execution_count": 36,
     "metadata": {},
     "output_type": "execute_result"
    }
   ],
   "source": [
    "test_feature_tfidf.shape"
   ]
  },
  {
   "cell_type": "markdown",
   "metadata": {},
   "source": [
    "# 학습시키기"
   ]
  },
  {
   "cell_type": "code",
   "execution_count": 37,
   "metadata": {},
   "outputs": [
    {
     "data": {
      "text/plain": [
       "RandomForestClassifier(bootstrap=True, class_weight=None, criterion='gini',\n",
       "            max_depth=None, max_features='auto', max_leaf_nodes=None,\n",
       "            min_impurity_decrease=0.0, min_impurity_split=None,\n",
       "            min_samples_leaf=1, min_samples_split=2,\n",
       "            min_weight_fraction_leaf=0.0, n_estimators=100, n_jobs=-1,\n",
       "            oob_score=False, random_state=2018, verbose=0,\n",
       "            warm_start=False)"
      ]
     },
     "execution_count": 37,
     "metadata": {},
     "output_type": "execute_result"
    }
   ],
   "source": [
    "from sklearn.ensemble import RandomForestClassifier\n",
    "\n",
    "# 랜덤포레스트 분류기를 사용\n",
    "forest = RandomForestClassifier(\n",
    "    n_estimators = 100, n_jobs = -1, random_state=2018)\n",
    "forest"
   ]
  },
  {
   "cell_type": "code",
   "execution_count": 38,
   "metadata": {},
   "outputs": [
    {
     "name": "stdout",
     "output_type": "stream",
     "text": [
      "CPU times: user 160 ms, sys: 31.6 ms, total: 191 ms\n",
      "Wall time: 196 ms\n"
     ]
    }
   ],
   "source": [
    "# 학습에 사용할 y_label 을 넣어준다.\n",
    "y_label = df_train['answered']\n",
    "%time forest = forest.fit(train_feature_tfidf, y_label)"
   ]
  },
  {
   "cell_type": "markdown",
   "metadata": {},
   "source": [
    "# 정확도 측정"
   ]
  },
  {
   "cell_type": "code",
   "execution_count": 39,
   "metadata": {},
   "outputs": [
    {
     "data": {
      "text/plain": [
       "array([1., 1., 1., 1., 1., 1., 1., 1., 1., 1.])"
      ]
     },
     "execution_count": 39,
     "metadata": {},
     "output_type": "execute_result"
    }
   ],
   "source": [
    "from sklearn.model_selection import KFold\n",
    "from sklearn.model_selection import cross_val_score\n",
    "k_fold = KFold(n_splits=10, shuffle=True, random_state=0)\n",
    "\n",
    "scoring = 'accuracy'\n",
    "score = cross_val_score(forest, train_feature_tfidf, y_label, cv=k_fold, n_jobs=-1, scoring=scoring)\n",
    "score"
   ]
  },
  {
   "cell_type": "code",
   "execution_count": 40,
   "metadata": {},
   "outputs": [
    {
     "data": {
      "text/plain": [
       "100.0"
      ]
     },
     "execution_count": 40,
     "metadata": {},
     "output_type": "execute_result"
    }
   ],
   "source": [
    "round(np.mean(score)*100,2)"
   ]
  },
  {
   "cell_type": "markdown",
   "metadata": {},
   "source": [
    "# 예측"
   ]
  },
  {
   "cell_type": "code",
   "execution_count": 41,
   "metadata": {},
   "outputs": [
    {
     "data": {
      "text/plain": [
       "array([0, 0, 0, 0, 0, 0, 0, 0, 0, 0])"
      ]
     },
     "execution_count": 41,
     "metadata": {},
     "output_type": "execute_result"
    }
   ],
   "source": [
    "# 테스트 데이터를 넣고 예측한다.\n",
    "y_pred = forest.predict(test_feature_tfidf)\n",
    "y_pred[:10]"
   ]
  },
  {
   "cell_type": "code",
   "execution_count": 42,
   "metadata": {},
   "outputs": [
    {
     "data": {
      "text/html": [
       "<div>\n",
       "<style scoped>\n",
       "    .dataframe tbody tr th:only-of-type {\n",
       "        vertical-align: middle;\n",
       "    }\n",
       "\n",
       "    .dataframe tbody tr th {\n",
       "        vertical-align: top;\n",
       "    }\n",
       "\n",
       "    .dataframe thead th {\n",
       "        text-align: right;\n",
       "    }\n",
       "</style>\n",
       "<table border=\"1\" class=\"dataframe\">\n",
       "  <thead>\n",
       "    <tr style=\"text-align: right;\">\n",
       "      <th></th>\n",
       "      <th>answered</th>\n",
       "    </tr>\n",
       "  </thead>\n",
       "  <tbody>\n",
       "    <tr>\n",
       "      <th>0</th>\n",
       "      <td>0</td>\n",
       "    </tr>\n",
       "    <tr>\n",
       "      <th>1</th>\n",
       "      <td>0</td>\n",
       "    </tr>\n",
       "    <tr>\n",
       "      <th>2</th>\n",
       "      <td>0</td>\n",
       "    </tr>\n",
       "    <tr>\n",
       "      <th>3</th>\n",
       "      <td>0</td>\n",
       "    </tr>\n",
       "    <tr>\n",
       "      <th>4</th>\n",
       "      <td>0</td>\n",
       "    </tr>\n",
       "  </tbody>\n",
       "</table>\n",
       "</div>"
      ],
      "text/plain": [
       "   answered\n",
       "0         0\n",
       "1         0\n",
       "2         0\n",
       "3         0\n",
       "4         0"
      ]
     },
     "execution_count": 42,
     "metadata": {},
     "output_type": "execute_result"
    }
   ],
   "source": [
    "# 예측 결과를 저장하기 위해 데이터프레임에 담아 준다.\n",
    "output = pd.DataFrame(data={'answered':y_pred})\n",
    "output.head()"
   ]
  },
  {
   "cell_type": "code",
   "execution_count": 43,
   "metadata": {},
   "outputs": [
    {
     "data": {
      "text/plain": [
       "0    495\n",
       "Name: answered, dtype: int64"
      ]
     },
     "execution_count": 43,
     "metadata": {},
     "output_type": "execute_result"
    }
   ],
   "source": [
    "# 0과 1이 어떻게 집계 되었는지 확인한다.\n",
    "# 실제 데이터에는 답변 대상 건이 있는데 없는 것으로 예측되었다.\n",
    "output['answered'].value_counts()"
   ]
  },
  {
   "cell_type": "code",
   "execution_count": 44,
   "metadata": {},
   "outputs": [
    {
     "data": {
      "text/plain": [
       "(495,)"
      ]
     },
     "execution_count": 44,
     "metadata": {},
     "output_type": "execute_result"
    }
   ],
   "source": [
    "y_test = df_test['answered']\n",
    "y_test.shape"
   ]
  },
  {
   "cell_type": "code",
   "execution_count": 45,
   "metadata": {},
   "outputs": [
    {
     "data": {
      "text/plain": [
       "(495,)"
      ]
     },
     "execution_count": 45,
     "metadata": {},
     "output_type": "execute_result"
    }
   ],
   "source": [
    "y_pred.shape"
   ]
  },
  {
   "cell_type": "code",
   "execution_count": null,
   "metadata": {},
   "outputs": [],
   "source": []
  }
 ],
 "metadata": {
  "kernelspec": {
   "display_name": "Python 3",
   "language": "python",
   "name": "python3"
  },
  "language_info": {
   "codemirror_mode": {
    "name": "ipython",
    "version": 3
   },
   "file_extension": ".py",
   "mimetype": "text/x-python",
   "name": "python",
   "nbconvert_exporter": "python",
   "pygments_lexer": "ipython3",
   "version": "3.6.1"
  }
 },
 "nbformat": 4,
 "nbformat_minor": 2
}
