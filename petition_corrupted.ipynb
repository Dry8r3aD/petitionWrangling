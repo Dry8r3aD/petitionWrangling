{
 "cells": [
  {
   "cell_type": "markdown",
   "metadata": {},
   "source": [
    "# 청와대 국민청원 데이터\n",
    "## 결측치 다루기 \n",
    "* 데이터 출처 : https://github.com/akngs/petitions\n",
    "* 전체 행 중에서 5%는 임의 필드 1개에 결측치 삽입\n",
    "* 범주(category)가 '육아/교육'이고 투표수(votes)가 50건 초과이면 20% 확률로 투표수에 결측치 넣기\n",
    "* 나머지는 전체 데이터와 동일\n",
    "\n",
    "=> 위와 같이 임의로 만들어진 결측치를 다뤄본다."
   ]
  },
  {
   "cell_type": "code",
   "execution_count": 1,
   "metadata": {},
   "outputs": [],
   "source": [
    "# 출력데이터가 지저분하게 보이지 않도록 warnings을 불러왔다.\n",
    "import warnings\n",
    "warnings.filterwarnings('ignore')"
   ]
  },
  {
   "cell_type": "code",
   "execution_count": 2,
   "metadata": {},
   "outputs": [
    {
     "name": "stdout",
     "output_type": "stream",
     "text": [
      "0.21.0\n",
      "1.14.0\n"
     ]
    }
   ],
   "source": [
    "import pandas as pd\n",
    "import numpy as np\n",
    "from plotnine import *\n",
    "print(pd.__version__)\n",
    "print(np.__version__)"
   ]
  },
  {
   "cell_type": "code",
   "execution_count": 3,
   "metadata": {},
   "outputs": [
    {
     "data": {
      "text/plain": [
       "(159770, 8)"
      ]
     },
     "execution_count": 3,
     "metadata": {},
     "output_type": "execute_result"
    }
   ],
   "source": [
    "petitions = pd.read_csv('data/petition_corrupted.csv')\n",
    "# 데이터의 크기가 어느정도인지 본다.\n",
    "petitions.shape"
   ]
  },
  {
   "cell_type": "code",
   "execution_count": 4,
   "metadata": {},
   "outputs": [
    {
     "data": {
      "text/html": [
       "<div>\n",
       "<style scoped>\n",
       "    .dataframe tbody tr th:only-of-type {\n",
       "        vertical-align: middle;\n",
       "    }\n",
       "\n",
       "    .dataframe tbody tr th {\n",
       "        vertical-align: top;\n",
       "    }\n",
       "\n",
       "    .dataframe thead th {\n",
       "        text-align: right;\n",
       "    }\n",
       "</style>\n",
       "<table border=\"1\" class=\"dataframe\">\n",
       "  <thead>\n",
       "    <tr style=\"text-align: right;\">\n",
       "      <th></th>\n",
       "      <th>21</th>\n",
       "      <th>2017-08-19</th>\n",
       "      <th>2017-11-17</th>\n",
       "      <th>0</th>\n",
       "      <th>9</th>\n",
       "      <th>안전/환경</th>\n",
       "      <th>스텔라 데이지호에 대한 제안입니다.</th>\n",
       "      <th>스텔라 데이지호에 대한 제안입니다.\\n3월31일 스텔라 데이지호가 침몰하고 5달째가 되고 있습니다.\\n저는 우리가 너무 일찍 포기한 것이 아닌가 하는 생각을 갖고 있습니다.\\n그리고, 추후 이 사고에 대한 확실한 해결이 없다면 나중에는 문재인 정부에 커다란 부담이 될 수도 있다는 생각에 이 글을 쓰게 되었습니다.\\n가족들이 지금까지 갖고 있는 희망은 발견되지 않은 구명벌(땟목)에 선원들이 살아있지 않을까 하는 겁니다.\\n생존 훈련받은 선원들이 대부분이고 구명벌에는 지붕과 생존도구가 구비되어있기 때문에 오랜 기간 버틸 수 있을 거라 보는 겁니다.\\n이전 정권이 대선이전에 서둘러 수색을 중단한 탓도 있고, 정권교체 후 재수색이 있었지만,\\n태평양, 3000m 수심이라는 데서, 애초 우리가 마음속에서 너무 일찍 포기한 게 아닌가 하는 생각이 듭니다.\\n멕시코에서는 14개월 동안 표류하다 구조된 어부도 있고,\\n과태말라에서 요트가 전복되어 태평양을 117일간 표류하던 어떤 부부가 한국어선에 의해 구조되는 일도 있었다는데,\\n구명벌을 찾을 때 까지 포기하면 안된다고 생각합니다.\\n구명벌이 침몰당시 분리된 것이 맞는지 확인하고,\\n선박의 침몰 원인을 찾기 위해서도 심해를 탐사할 수 있는 장비를 통한 수색도 필요하다고 생각합니다.\\n선박의 침몰에 대해서는 선사의 노후선박 개조와 사전 균열 등, 의혹이 제기되고 있는 상황입니다.\\n구명벌이 선박에서 분리되지 못했다면 구명벌 수색은 필요 없는 것이 되고 침몰원인만 확인하면 되는 것입니다.\\n물론 불가능하거나 실패할 수도 있지만 적어도 정부가 할 수 있는 모든 걸 했다는 것을 보여줘야 한다고 봅니다.\\n침몰 당시 자동발신 조난신호의 위치나 수동발신 조난신호 발생위치가 확인되고 있고, AIS나 레이다, 인공위성사진 등을 이용하면 침몰위치 특정은 어려운 것이 아니고,\\n현재 유인 심해 탐사정의 심해탐사기록이 일본 6500m, 중국 7,062m인 걸 보면 아주 불가능한 일은 아닐 수도 있다고 봅니다.\\n애초에 사고가 발생했을 때 해수부는 국방부에 협조를 구해서 구조용 군함과 헬기를 지원 받고, 주변국과의 협조로 전방위적인 구명벌 수색을 했어야 한다고 봅니다.\\n하지만, 지금은 구명벌이 조류와 바람에 의해 어디로 흘러갔을지 모르기 때문에 좀 더 넓은 지역에 대한 지속적인 구조용 선박과 헬기에 의한 수색과 주변 무인도에 대한 수색이 필요하다고 봅니다.\\n나중에라도 구명벌이 발견되고 죽어있는 시신만 발견되었을 때 국가가 아무것도 안하고 있었다면 그 비난은 모두 현 정부에 주어지게 될 것이기 때문입니다.\\n물론, 정부가 욕을 먹는 것은 작은 겁니다.\\n중요한건 “사람이 먼저다”라는 가치를 지키는 것입니다.\\n이런 공간을 마련해 주셔서 감사합니다.</th>\n",
       "    </tr>\n",
       "  </thead>\n",
       "  <tbody>\n",
       "    <tr>\n",
       "      <th>0</th>\n",
       "      <td>22</td>\n",
       "      <td>2017-08-19</td>\n",
       "      <td>2017-11-17</td>\n",
       "      <td>0</td>\n",
       "      <td>17.0</td>\n",
       "      <td>기타</td>\n",
       "      <td>비리제보처를 만들어주세요.</td>\n",
       "      <td>현 정부에 국민들이 가장 원하는 것은 부패척결입니다.  우리 사회에 각종 비리들이 ...</td>\n",
       "    </tr>\n",
       "    <tr>\n",
       "      <th>1</th>\n",
       "      <td>23</td>\n",
       "      <td>2017-08-19</td>\n",
       "      <td>2017-09-03</td>\n",
       "      <td>0</td>\n",
       "      <td>0.0</td>\n",
       "      <td>미래</td>\n",
       "      <td>제2의 개성공단</td>\n",
       "      <td>만일 하시는 대통령님 및 각 부처 장관님,주무관님들 안녕하세요!!\\n전남 목포에서 ...</td>\n",
       "    </tr>\n",
       "    <tr>\n",
       "      <th>2</th>\n",
       "      <td>24</td>\n",
       "      <td>2017-08-19</td>\n",
       "      <td>2017-08-26</td>\n",
       "      <td>0</td>\n",
       "      <td>53.0</td>\n",
       "      <td>일자리</td>\n",
       "      <td>공공기관 무조건적인 정규직전환을 반대합니다.</td>\n",
       "      <td>현정부에서 정규직 일자리를 늘리는 것에 찬성합니다. 그런데 공공기관 비정규직들은 인...</td>\n",
       "    </tr>\n",
       "  </tbody>\n",
       "</table>\n",
       "</div>"
      ],
      "text/plain": [
       "   21  2017-08-19  2017-11-17  0     9 안전/환경       스텔라 데이지호에 대한 제안입니다.  \\\n",
       "0  22  2017-08-19  2017-11-17  0  17.0    기타            비리제보처를 만들어주세요.   \n",
       "1  23  2017-08-19  2017-09-03  0   0.0    미래                  제2의 개성공단   \n",
       "2  24  2017-08-19  2017-08-26  0  53.0   일자리  공공기관 무조건적인 정규직전환을 반대합니다.   \n",
       "\n",
       "  스텔라 데이지호에 대한 제안입니다.\\n3월31일 스텔라 데이지호가 침몰하고 5달째가 되고 있습니다.\\n저는 우리가 너무 일찍 포기한 것이 아닌가 하는 생각을 갖고 있습니다.\\n그리고, 추후 이 사고에 대한 확실한 해결이 없다면 나중에는 문재인 정부에 커다란 부담이 될 수도 있다는 생각에 이 글을 쓰게 되었습니다.\\n가족들이 지금까지 갖고 있는 희망은 발견되지 않은 구명벌(땟목)에 선원들이 살아있지 않을까 하는 겁니다.\\n생존 훈련받은 선원들이 대부분이고 구명벌에는 지붕과 생존도구가 구비되어있기 때문에 오랜 기간 버틸 수 있을 거라 보는 겁니다.\\n이전 정권이 대선이전에 서둘러 수색을 중단한 탓도 있고, 정권교체 후 재수색이 있었지만,\\n태평양, 3000m 수심이라는 데서, 애초 우리가 마음속에서 너무 일찍 포기한 게 아닌가 하는 생각이 듭니다.\\n멕시코에서는 14개월 동안 표류하다 구조된 어부도 있고,\\n과태말라에서 요트가 전복되어 태평양을 117일간 표류하던 어떤 부부가 한국어선에 의해 구조되는 일도 있었다는데,\\n구명벌을 찾을 때 까지 포기하면 안된다고 생각합니다.\\n구명벌이 침몰당시 분리된 것이 맞는지 확인하고,\\n선박의 침몰 원인을 찾기 위해서도 심해를 탐사할 수 있는 장비를 통한 수색도 필요하다고 생각합니다.\\n선박의 침몰에 대해서는 선사의 노후선박 개조와 사전 균열 등, 의혹이 제기되고 있는 상황입니다.\\n구명벌이 선박에서 분리되지 못했다면 구명벌 수색은 필요 없는 것이 되고 침몰원인만 확인하면 되는 것입니다.\\n물론 불가능하거나 실패할 수도 있지만 적어도 정부가 할 수 있는 모든 걸 했다는 것을 보여줘야 한다고 봅니다.\\n침몰 당시 자동발신 조난신호의 위치나 수동발신 조난신호 발생위치가 확인되고 있고, AIS나 레이다, 인공위성사진 등을 이용하면 침몰위치 특정은 어려운 것이 아니고,\\n현재 유인 심해 탐사정의 심해탐사기록이 일본 6500m, 중국 7,062m인 걸 보면 아주 불가능한 일은 아닐 수도 있다고 봅니다.\\n애초에 사고가 발생했을 때 해수부는 국방부에 협조를 구해서 구조용 군함과 헬기를 지원 받고, 주변국과의 협조로 전방위적인 구명벌 수색을 했어야 한다고 봅니다.\\n하지만, 지금은 구명벌이 조류와 바람에 의해 어디로 흘러갔을지 모르기 때문에 좀 더 넓은 지역에 대한 지속적인 구조용 선박과 헬기에 의한 수색과 주변 무인도에 대한 수색이 필요하다고 봅니다.\\n나중에라도 구명벌이 발견되고 죽어있는 시신만 발견되었을 때 국가가 아무것도 안하고 있었다면 그 비난은 모두 현 정부에 주어지게 될 것이기 때문입니다.\\n물론, 정부가 욕을 먹는 것은 작은 겁니다.\\n중요한건 “사람이 먼저다”라는 가치를 지키는 것입니다.\\n이런 공간을 마련해 주셔서 감사합니다.  \n",
       "0  현 정부에 국민들이 가장 원하는 것은 부패척결입니다.  우리 사회에 각종 비리들이 ...                                                                                                                                                                                                                                                                                                                                                                                                                                                                                                                                                                                                                                                                                                                                                                                                                                                                                                                                                                                                                                                                                                                                                                                                                                                                                                                                                 \n",
       "1  만일 하시는 대통령님 및 각 부처 장관님,주무관님들 안녕하세요!!\\n전남 목포에서 ...                                                                                                                                                                                                                                                                                                                                                                                                                                                                                                                                                                                                                                                                                                                                                                                                                                                                                                                                                                                                                                                                                                                                                                                                                                                                                                                                                 \n",
       "2  현정부에서 정규직 일자리를 늘리는 것에 찬성합니다. 그런데 공공기관 비정규직들은 인...                                                                                                                                                                                                                                                                                                                                                                                                                                                                                                                                                                                                                                                                                                                                                                                                                                                                                                                                                                                                                                                                                                                                                                                                                                                                                                                                                 "
      ]
     },
     "execution_count": 4,
     "metadata": {},
     "output_type": "execute_result"
    }
   ],
   "source": [
    "# 위에서 3개의 데이터만 따로 추출헤 본다.\n",
    "# 그런데 컬럼명이 없는 것을 알 수 있다. 그래서 컬럼명을 지정해 주고 다시 불러오도록 한다.\n",
    "petitions.head(3)"
   ]
  },
  {
   "cell_type": "markdown",
   "metadata": {},
   "source": [
    "### 컬럼명 지정"
   ]
  },
  {
   "cell_type": "code",
   "execution_count": 5,
   "metadata": {},
   "outputs": [
    {
     "data": {
      "text/html": [
       "<div>\n",
       "<style scoped>\n",
       "    .dataframe tbody tr th:only-of-type {\n",
       "        vertical-align: middle;\n",
       "    }\n",
       "\n",
       "    .dataframe tbody tr th {\n",
       "        vertical-align: top;\n",
       "    }\n",
       "\n",
       "    .dataframe thead th {\n",
       "        text-align: right;\n",
       "    }\n",
       "</style>\n",
       "<table border=\"1\" class=\"dataframe\">\n",
       "  <thead>\n",
       "    <tr style=\"text-align: right;\">\n",
       "      <th></th>\n",
       "      <th>article_id</th>\n",
       "      <th>start</th>\n",
       "      <th>end</th>\n",
       "      <th>answered</th>\n",
       "      <th>votes</th>\n",
       "      <th>category</th>\n",
       "      <th>title</th>\n",
       "      <th>content</th>\n",
       "    </tr>\n",
       "  </thead>\n",
       "  <tbody>\n",
       "    <tr>\n",
       "      <th>0</th>\n",
       "      <td>21</td>\n",
       "      <td>2017-08-19</td>\n",
       "      <td>2017-11-17</td>\n",
       "      <td>0</td>\n",
       "      <td>9.0</td>\n",
       "      <td>안전/환경</td>\n",
       "      <td>스텔라 데이지호에 대한 제안입니다.</td>\n",
       "      <td>스텔라 데이지호에 대한 제안입니다.\\n3월31일 스텔라 데이지호가 침몰하고 5달째가...</td>\n",
       "    </tr>\n",
       "    <tr>\n",
       "      <th>1</th>\n",
       "      <td>22</td>\n",
       "      <td>2017-08-19</td>\n",
       "      <td>2017-11-17</td>\n",
       "      <td>0</td>\n",
       "      <td>17.0</td>\n",
       "      <td>기타</td>\n",
       "      <td>비리제보처를 만들어주세요.</td>\n",
       "      <td>현 정부에 국민들이 가장 원하는 것은 부패척결입니다.  우리 사회에 각종 비리들이 ...</td>\n",
       "    </tr>\n",
       "    <tr>\n",
       "      <th>2</th>\n",
       "      <td>23</td>\n",
       "      <td>2017-08-19</td>\n",
       "      <td>2017-09-03</td>\n",
       "      <td>0</td>\n",
       "      <td>0.0</td>\n",
       "      <td>미래</td>\n",
       "      <td>제2의 개성공단</td>\n",
       "      <td>만일 하시는 대통령님 및 각 부처 장관님,주무관님들 안녕하세요!!\\n전남 목포에서 ...</td>\n",
       "    </tr>\n",
       "    <tr>\n",
       "      <th>3</th>\n",
       "      <td>24</td>\n",
       "      <td>2017-08-19</td>\n",
       "      <td>2017-08-26</td>\n",
       "      <td>0</td>\n",
       "      <td>53.0</td>\n",
       "      <td>일자리</td>\n",
       "      <td>공공기관 무조건적인 정규직전환을 반대합니다.</td>\n",
       "      <td>현정부에서 정규직 일자리를 늘리는 것에 찬성합니다. 그런데 공공기관 비정규직들은 인...</td>\n",
       "    </tr>\n",
       "    <tr>\n",
       "      <th>4</th>\n",
       "      <td>25</td>\n",
       "      <td>2017-08-19</td>\n",
       "      <td>2017-09-03</td>\n",
       "      <td>0</td>\n",
       "      <td>0.0</td>\n",
       "      <td>미래</td>\n",
       "      <td>제2의 개성공단</td>\n",
       "      <td>만일 하시는 대통령님 및 각 부처 장관님,주무관님들 안녕하세요!!\\n전남 목포에서 ...</td>\n",
       "    </tr>\n",
       "  </tbody>\n",
       "</table>\n",
       "</div>"
      ],
      "text/plain": [
       "   article_id       start         end  answered  votes category  \\\n",
       "0          21  2017-08-19  2017-11-17         0    9.0    안전/환경   \n",
       "1          22  2017-08-19  2017-11-17         0   17.0       기타   \n",
       "2          23  2017-08-19  2017-09-03         0    0.0       미래   \n",
       "3          24  2017-08-19  2017-08-26         0   53.0      일자리   \n",
       "4          25  2017-08-19  2017-09-03         0    0.0       미래   \n",
       "\n",
       "                      title                                            content  \n",
       "0       스텔라 데이지호에 대한 제안입니다.  스텔라 데이지호에 대한 제안입니다.\\n3월31일 스텔라 데이지호가 침몰하고 5달째가...  \n",
       "1            비리제보처를 만들어주세요.  현 정부에 국민들이 가장 원하는 것은 부패척결입니다.  우리 사회에 각종 비리들이 ...  \n",
       "2                  제2의 개성공단  만일 하시는 대통령님 및 각 부처 장관님,주무관님들 안녕하세요!!\\n전남 목포에서 ...  \n",
       "3  공공기관 무조건적인 정규직전환을 반대합니다.  현정부에서 정규직 일자리를 늘리는 것에 찬성합니다. 그런데 공공기관 비정규직들은 인...  \n",
       "4                  제2의 개성공단  만일 하시는 대통령님 및 각 부처 장관님,주무관님들 안녕하세요!!\\n전남 목포에서 ...  "
      ]
     },
     "execution_count": 5,
     "metadata": {},
     "output_type": "execute_result"
    }
   ],
   "source": [
    "column_names = ['article_id','start','end','answered','votes','category','title','content']\n",
    "petitions = pd.read_csv('data/petition_corrupted.csv', names = column_names, header=None)\n",
    "petitions.head()"
   ]
  },
  {
   "cell_type": "markdown",
   "metadata": {},
   "source": [
    "* 컬럼명은 위와 같이 지정해 줄 수도 있지만, 하나씩 타이핑하기 귀찮다면 우리에겐 `petition_sampled.csv`가 있으니 해당 csv에서 샘플 컬럼을 불러오도록 한다.\n",
    "* data 폴더에 있는 샘플 파일명을 확인한다."
   ]
  },
  {
   "cell_type": "code",
   "execution_count": 6,
   "metadata": {},
   "outputs": [
    {
     "name": "stdout",
     "output_type": "stream",
     "text": [
      "petition.csv            petition_corrupted.csv  petition_sampled.csv\n"
     ]
    }
   ],
   "source": [
    "%ls data"
   ]
  },
  {
   "cell_type": "code",
   "execution_count": 7,
   "metadata": {},
   "outputs": [
    {
     "name": "stdout",
     "output_type": "stream",
     "text": [
      "(8029, 8)\n"
     ]
    },
    {
     "data": {
      "text/html": [
       "<div>\n",
       "<style scoped>\n",
       "    .dataframe tbody tr th:only-of-type {\n",
       "        vertical-align: middle;\n",
       "    }\n",
       "\n",
       "    .dataframe tbody tr th {\n",
       "        vertical-align: top;\n",
       "    }\n",
       "\n",
       "    .dataframe thead th {\n",
       "        text-align: right;\n",
       "    }\n",
       "</style>\n",
       "<table border=\"1\" class=\"dataframe\">\n",
       "  <thead>\n",
       "    <tr style=\"text-align: right;\">\n",
       "      <th></th>\n",
       "      <th>article_id</th>\n",
       "      <th>start</th>\n",
       "      <th>end</th>\n",
       "      <th>answered</th>\n",
       "      <th>votes</th>\n",
       "      <th>category</th>\n",
       "      <th>title</th>\n",
       "      <th>content</th>\n",
       "    </tr>\n",
       "  </thead>\n",
       "  <tbody>\n",
       "    <tr>\n",
       "      <th>0</th>\n",
       "      <td>58</td>\n",
       "      <td>2017-08-19</td>\n",
       "      <td>2017-11-17</td>\n",
       "      <td>0</td>\n",
       "      <td>21</td>\n",
       "      <td>일자리</td>\n",
       "      <td>국토교통부와 한국주택협회가 행한 부당한 행위와 권력남용에 대한 내용을 청원드립니다.</td>\n",
       "      <td>안녕하세요? 존경하고 지지하는 문재인 대통령님!\\n저는 성남시 분당구 정자동 주택전...</td>\n",
       "    </tr>\n",
       "    <tr>\n",
       "      <th>1</th>\n",
       "      <td>63</td>\n",
       "      <td>2017-08-20</td>\n",
       "      <td>2017-09-04</td>\n",
       "      <td>0</td>\n",
       "      <td>1</td>\n",
       "      <td>보건복지</td>\n",
       "      <td>살려주세요..</td>\n",
       "      <td>안녕하십니까?\\n저는 올해 63세된 홀로 사는 늙은 여자입니다...\\n작년 중복날 ...</td>\n",
       "    </tr>\n",
       "    <tr>\n",
       "      <th>2</th>\n",
       "      <td>136</td>\n",
       "      <td>2017-08-20</td>\n",
       "      <td>2017-11-18</td>\n",
       "      <td>0</td>\n",
       "      <td>4</td>\n",
       "      <td>육아/교육</td>\n",
       "      <td>고등학교 교육 내용 수준을 낮춰주시고 실용적인 내용을 담아주세요!</td>\n",
       "      <td>저는 광주에 사는 중3 학생입니다. 고등학교 가기 직전의 학년이라 어느 때보다 고등...</td>\n",
       "    </tr>\n",
       "    <tr>\n",
       "      <th>3</th>\n",
       "      <td>141</td>\n",
       "      <td>2017-08-20</td>\n",
       "      <td>2017-08-27</td>\n",
       "      <td>0</td>\n",
       "      <td>0</td>\n",
       "      <td>기타</td>\n",
       "      <td>한국문화에 창조적요소를 심자</td>\n",
       "      <td>안녕하십니까\\n저는 92년 한국을 알게된  종국동포 입니다.\\n[저는 한 중소기업에...</td>\n",
       "    </tr>\n",
       "    <tr>\n",
       "      <th>4</th>\n",
       "      <td>148</td>\n",
       "      <td>2017-08-20</td>\n",
       "      <td>2017-11-18</td>\n",
       "      <td>0</td>\n",
       "      <td>7</td>\n",
       "      <td>외교/통일/국방</td>\n",
       "      <td>다문화정책 및 할랄 인증 제도</td>\n",
       "      <td>대한민국과 국민을 위해 밤낮 없이 수고하시는 대통령을 비롯한 위정자 분들께\\n대한민...</td>\n",
       "    </tr>\n",
       "  </tbody>\n",
       "</table>\n",
       "</div>"
      ],
      "text/plain": [
       "   article_id       start         end  answered  votes  category  \\\n",
       "0          58  2017-08-19  2017-11-17         0     21       일자리   \n",
       "1          63  2017-08-20  2017-09-04         0      1      보건복지   \n",
       "2         136  2017-08-20  2017-11-18         0      4     육아/교육   \n",
       "3         141  2017-08-20  2017-08-27         0      0        기타   \n",
       "4         148  2017-08-20  2017-11-18         0      7  외교/통일/국방   \n",
       "\n",
       "                                            title  \\\n",
       "0  국토교통부와 한국주택협회가 행한 부당한 행위와 권력남용에 대한 내용을 청원드립니다.   \n",
       "1                                         살려주세요..   \n",
       "2            고등학교 교육 내용 수준을 낮춰주시고 실용적인 내용을 담아주세요!   \n",
       "3                                 한국문화에 창조적요소를 심자   \n",
       "4                                다문화정책 및 할랄 인증 제도   \n",
       "\n",
       "                                             content  \n",
       "0  안녕하세요? 존경하고 지지하는 문재인 대통령님!\\n저는 성남시 분당구 정자동 주택전...  \n",
       "1  안녕하십니까?\\n저는 올해 63세된 홀로 사는 늙은 여자입니다...\\n작년 중복날 ...  \n",
       "2  저는 광주에 사는 중3 학생입니다. 고등학교 가기 직전의 학년이라 어느 때보다 고등...  \n",
       "3  안녕하십니까\\n저는 92년 한국을 알게된  종국동포 입니다.\\n[저는 한 중소기업에...  \n",
       "4  대한민국과 국민을 위해 밤낮 없이 수고하시는 대통령을 비롯한 위정자 분들께\\n대한민...  "
      ]
     },
     "execution_count": 7,
     "metadata": {},
     "output_type": "execute_result"
    }
   ],
   "source": [
    "# 샘플파일에는 컬럼이 존재한다.\n",
    "petition_sample = pd.read_csv('data/petition_sampled.csv')\n",
    "print(petition_sample.shape)\n",
    "petition_sample.head()"
   ]
  },
  {
   "cell_type": "code",
   "execution_count": 8,
   "metadata": {},
   "outputs": [],
   "source": [
    "# 컬럼명을 지정해 준다\n",
    "petition_columns = petition_sample.columns"
   ]
  },
  {
   "cell_type": "code",
   "execution_count": 9,
   "metadata": {},
   "outputs": [
    {
     "data": {
      "text/html": [
       "<div>\n",
       "<style scoped>\n",
       "    .dataframe tbody tr th:only-of-type {\n",
       "        vertical-align: middle;\n",
       "    }\n",
       "\n",
       "    .dataframe tbody tr th {\n",
       "        vertical-align: top;\n",
       "    }\n",
       "\n",
       "    .dataframe thead th {\n",
       "        text-align: right;\n",
       "    }\n",
       "</style>\n",
       "<table border=\"1\" class=\"dataframe\">\n",
       "  <thead>\n",
       "    <tr style=\"text-align: right;\">\n",
       "      <th></th>\n",
       "      <th>article_id</th>\n",
       "      <th>start</th>\n",
       "      <th>end</th>\n",
       "      <th>answered</th>\n",
       "      <th>votes</th>\n",
       "      <th>category</th>\n",
       "      <th>title</th>\n",
       "      <th>content</th>\n",
       "    </tr>\n",
       "  </thead>\n",
       "  <tbody>\n",
       "    <tr>\n",
       "      <th>0</th>\n",
       "      <td>21</td>\n",
       "      <td>2017-08-19</td>\n",
       "      <td>2017-11-17</td>\n",
       "      <td>0</td>\n",
       "      <td>9.0</td>\n",
       "      <td>안전/환경</td>\n",
       "      <td>스텔라 데이지호에 대한 제안입니다.</td>\n",
       "      <td>스텔라 데이지호에 대한 제안입니다.\\n3월31일 스텔라 데이지호가 침몰하고 5달째가...</td>\n",
       "    </tr>\n",
       "    <tr>\n",
       "      <th>1</th>\n",
       "      <td>22</td>\n",
       "      <td>2017-08-19</td>\n",
       "      <td>2017-11-17</td>\n",
       "      <td>0</td>\n",
       "      <td>17.0</td>\n",
       "      <td>기타</td>\n",
       "      <td>비리제보처를 만들어주세요.</td>\n",
       "      <td>현 정부에 국민들이 가장 원하는 것은 부패척결입니다.  우리 사회에 각종 비리들이 ...</td>\n",
       "    </tr>\n",
       "    <tr>\n",
       "      <th>2</th>\n",
       "      <td>23</td>\n",
       "      <td>2017-08-19</td>\n",
       "      <td>2017-09-03</td>\n",
       "      <td>0</td>\n",
       "      <td>0.0</td>\n",
       "      <td>미래</td>\n",
       "      <td>제2의 개성공단</td>\n",
       "      <td>만일 하시는 대통령님 및 각 부처 장관님,주무관님들 안녕하세요!!\\n전남 목포에서 ...</td>\n",
       "    </tr>\n",
       "    <tr>\n",
       "      <th>3</th>\n",
       "      <td>24</td>\n",
       "      <td>2017-08-19</td>\n",
       "      <td>2017-08-26</td>\n",
       "      <td>0</td>\n",
       "      <td>53.0</td>\n",
       "      <td>일자리</td>\n",
       "      <td>공공기관 무조건적인 정규직전환을 반대합니다.</td>\n",
       "      <td>현정부에서 정규직 일자리를 늘리는 것에 찬성합니다. 그런데 공공기관 비정규직들은 인...</td>\n",
       "    </tr>\n",
       "    <tr>\n",
       "      <th>4</th>\n",
       "      <td>25</td>\n",
       "      <td>2017-08-19</td>\n",
       "      <td>2017-09-03</td>\n",
       "      <td>0</td>\n",
       "      <td>0.0</td>\n",
       "      <td>미래</td>\n",
       "      <td>제2의 개성공단</td>\n",
       "      <td>만일 하시는 대통령님 및 각 부처 장관님,주무관님들 안녕하세요!!\\n전남 목포에서 ...</td>\n",
       "    </tr>\n",
       "  </tbody>\n",
       "</table>\n",
       "</div>"
      ],
      "text/plain": [
       "   article_id       start         end  answered  votes category  \\\n",
       "0          21  2017-08-19  2017-11-17         0    9.0    안전/환경   \n",
       "1          22  2017-08-19  2017-11-17         0   17.0       기타   \n",
       "2          23  2017-08-19  2017-09-03         0    0.0       미래   \n",
       "3          24  2017-08-19  2017-08-26         0   53.0      일자리   \n",
       "4          25  2017-08-19  2017-09-03         0    0.0       미래   \n",
       "\n",
       "                      title                                            content  \n",
       "0       스텔라 데이지호에 대한 제안입니다.  스텔라 데이지호에 대한 제안입니다.\\n3월31일 스텔라 데이지호가 침몰하고 5달째가...  \n",
       "1            비리제보처를 만들어주세요.  현 정부에 국민들이 가장 원하는 것은 부패척결입니다.  우리 사회에 각종 비리들이 ...  \n",
       "2                  제2의 개성공단  만일 하시는 대통령님 및 각 부처 장관님,주무관님들 안녕하세요!!\\n전남 목포에서 ...  \n",
       "3  공공기관 무조건적인 정규직전환을 반대합니다.  현정부에서 정규직 일자리를 늘리는 것에 찬성합니다. 그런데 공공기관 비정규직들은 인...  \n",
       "4                  제2의 개성공단  만일 하시는 대통령님 및 각 부처 장관님,주무관님들 안녕하세요!!\\n전남 목포에서 ...  "
      ]
     },
     "execution_count": 9,
     "metadata": {},
     "output_type": "execute_result"
    }
   ],
   "source": [
    "petitions = pd.read_csv('data/petition_corrupted.csv', names = petition_columns, header=None)\n",
    "petitions.head()"
   ]
  },
  {
   "cell_type": "markdown",
   "metadata": {},
   "source": [
    "## 결측치가 있는지 널 값을 세어본다."
   ]
  },
  {
   "cell_type": "code",
   "execution_count": 10,
   "metadata": {},
   "outputs": [
    {
     "data": {
      "text/plain": [
       "article_id      0\n",
       "start           0\n",
       "end             0\n",
       "answered        0\n",
       "votes         192\n",
       "category        0\n",
       "title           0\n",
       "content         1\n",
       "dtype: int64"
      ]
     },
     "execution_count": 10,
     "metadata": {},
     "output_type": "execute_result"
    }
   ],
   "source": [
    "petitions.isnull().sum()"
   ]
  },
  {
   "cell_type": "markdown",
   "metadata": {},
   "source": [
    "## 투표수 결측치 데이터프레임 생성"
   ]
  },
  {
   "cell_type": "code",
   "execution_count": 11,
   "metadata": {},
   "outputs": [
    {
     "data": {
      "text/plain": [
       "(192, 8)"
      ]
     },
     "execution_count": 11,
     "metadata": {},
     "output_type": "execute_result"
    }
   ],
   "source": [
    "petition_votes_null = petitions.loc[petitions['votes'].isnull()]\n",
    "petition_votes_null.shape"
   ]
  },
  {
   "cell_type": "code",
   "execution_count": 12,
   "metadata": {},
   "outputs": [
    {
     "data": {
      "text/html": [
       "<div>\n",
       "<style scoped>\n",
       "    .dataframe tbody tr th:only-of-type {\n",
       "        vertical-align: middle;\n",
       "    }\n",
       "\n",
       "    .dataframe tbody tr th {\n",
       "        vertical-align: top;\n",
       "    }\n",
       "\n",
       "    .dataframe thead th {\n",
       "        text-align: right;\n",
       "    }\n",
       "</style>\n",
       "<table border=\"1\" class=\"dataframe\">\n",
       "  <thead>\n",
       "    <tr style=\"text-align: right;\">\n",
       "      <th></th>\n",
       "      <th>article_id</th>\n",
       "      <th>start</th>\n",
       "      <th>end</th>\n",
       "      <th>answered</th>\n",
       "      <th>votes</th>\n",
       "      <th>category</th>\n",
       "      <th>title</th>\n",
       "      <th>content</th>\n",
       "    </tr>\n",
       "  </thead>\n",
       "  <tbody>\n",
       "    <tr>\n",
       "      <th>52</th>\n",
       "      <td>75</td>\n",
       "      <td>2017-08-20</td>\n",
       "      <td>2017-09-04</td>\n",
       "      <td>0</td>\n",
       "      <td>NaN</td>\n",
       "      <td>육아/교육</td>\n",
       "      <td>수능 상대평가 유지 정시확대</td>\n",
       "      <td>기회의 사다리이자 가장 공정한 수능 상대평가 유지와 정시확대를 원합니다 사걱세나 전...</td>\n",
       "    </tr>\n",
       "    <tr>\n",
       "      <th>193</th>\n",
       "      <td>218</td>\n",
       "      <td>2017-08-21</td>\n",
       "      <td>2017-08-28</td>\n",
       "      <td>0</td>\n",
       "      <td>NaN</td>\n",
       "      <td>육아/교육</td>\n",
       "      <td>대안교육지원법을 제정해 주십시오.</td>\n",
       "      <td>저는 경기도 파주에 사는 사람으로 경기도 고양시 소재 중등과정 대안학교에 아이를 보...</td>\n",
       "    </tr>\n",
       "    <tr>\n",
       "      <th>427</th>\n",
       "      <td>455</td>\n",
       "      <td>2017-08-24</td>\n",
       "      <td>2017-09-23</td>\n",
       "      <td>0</td>\n",
       "      <td>NaN</td>\n",
       "      <td>육아/교육</td>\n",
       "      <td>1수업 2교사제 찬성합니다</td>\n",
       "      <td>처음에는 명칭만을 보고 \"아이들이 줄어서 한 반 인원이 많지도 않은데 교사 두 분이...</td>\n",
       "    </tr>\n",
       "    <tr>\n",
       "      <th>645</th>\n",
       "      <td>673</td>\n",
       "      <td>2017-08-27</td>\n",
       "      <td>2017-09-03</td>\n",
       "      <td>0</td>\n",
       "      <td>NaN</td>\n",
       "      <td>육아/교육</td>\n",
       "      <td>초등학교 엉터리 석면공사에도 대책없는 교육청, 바로잡아 주세요!!!</td>\n",
       "      <td>경기도 교육청에서 이번 여름방학중 진행한 과천 관문초등학교 천장 석면텍스교체공사에서...</td>\n",
       "    </tr>\n",
       "    <tr>\n",
       "      <th>1405</th>\n",
       "      <td>1434</td>\n",
       "      <td>2017-09-02</td>\n",
       "      <td>2017-10-02</td>\n",
       "      <td>0</td>\n",
       "      <td>NaN</td>\n",
       "      <td>육아/교육</td>\n",
       "      <td>별거 부부 문제 해결</td>\n",
       "      <td>안녕하세요. 현재 광역시에서 근무하고 있는 중등 교사이자 1살 갓난아기를 키우고 있...</td>\n",
       "    </tr>\n",
       "  </tbody>\n",
       "</table>\n",
       "</div>"
      ],
      "text/plain": [
       "      article_id       start         end  answered  votes category  \\\n",
       "52            75  2017-08-20  2017-09-04         0    NaN    육아/교육   \n",
       "193          218  2017-08-21  2017-08-28         0    NaN    육아/교육   \n",
       "427          455  2017-08-24  2017-09-23         0    NaN    육아/교육   \n",
       "645          673  2017-08-27  2017-09-03         0    NaN    육아/교육   \n",
       "1405        1434  2017-09-02  2017-10-02         0    NaN    육아/교육   \n",
       "\n",
       "                                      title  \\\n",
       "52                          수능 상대평가 유지 정시확대   \n",
       "193                      대안교육지원법을 제정해 주십시오.   \n",
       "427                          1수업 2교사제 찬성합니다   \n",
       "645   초등학교 엉터리 석면공사에도 대책없는 교육청, 바로잡아 주세요!!!   \n",
       "1405                            별거 부부 문제 해결   \n",
       "\n",
       "                                                content  \n",
       "52    기회의 사다리이자 가장 공정한 수능 상대평가 유지와 정시확대를 원합니다 사걱세나 전...  \n",
       "193   저는 경기도 파주에 사는 사람으로 경기도 고양시 소재 중등과정 대안학교에 아이를 보...  \n",
       "427   처음에는 명칭만을 보고 \"아이들이 줄어서 한 반 인원이 많지도 않은데 교사 두 분이...  \n",
       "645   경기도 교육청에서 이번 여름방학중 진행한 과천 관문초등학교 천장 석면텍스교체공사에서...  \n",
       "1405  안녕하세요. 현재 광역시에서 근무하고 있는 중등 교사이자 1살 갓난아기를 키우고 있...  "
      ]
     },
     "execution_count": 12,
     "metadata": {},
     "output_type": "execute_result"
    }
   ],
   "source": [
    "petition_votes_null.head()"
   ]
  },
  {
   "cell_type": "markdown",
   "metadata": {},
   "source": [
    "### 투표수에 결측치가 없는 데이터프레임 생성"
   ]
  },
  {
   "cell_type": "code",
   "execution_count": 13,
   "metadata": {},
   "outputs": [
    {
     "data": {
      "text/plain": [
       "(159579, 8)"
      ]
     },
     "execution_count": 13,
     "metadata": {},
     "output_type": "execute_result"
    }
   ],
   "source": [
    "petition_votes_notnull = petitions.loc[petitions['votes'].notnull()]\n",
    "petition_votes_notnull.shape"
   ]
  },
  {
   "cell_type": "code",
   "execution_count": 14,
   "metadata": {},
   "outputs": [],
   "source": [
    "import re\n",
    "from konlpy.tag import Twitter\n",
    "t = Twitter()\n",
    "\n",
    "def preprocessing(text):\n",
    "    text = str(text)\n",
    "    # 개행문자 제거\n",
    "    text = re.sub('\\\\\\\\n', ' ', text)\n",
    "    #text = t.pos(text, norm=True, stem=True)\n",
    "    return text"
   ]
  },
  {
   "cell_type": "code",
   "execution_count": 15,
   "metadata": {},
   "outputs": [
    {
     "name": "stdout",
     "output_type": "stream",
     "text": [
      "CPU times: user 589 ms, sys: 60.3 ms, total: 649 ms\n",
      "Wall time: 651 ms\n"
     ]
    }
   ],
   "source": [
    "%time votes_notnull_content = petition_votes_notnull['content'].apply(preprocessing)"
   ]
  },
  {
   "cell_type": "code",
   "execution_count": 16,
   "metadata": {},
   "outputs": [
    {
     "data": {
      "text/plain": [
       "0    스텔라 데이지호에 대한 제안입니다. 3월31일 스텔라 데이지호가 침몰하고 5달째가 ...\n",
       "1    현 정부에 국민들이 가장 원하는 것은 부패척결입니다.  우리 사회에 각종 비리들이 ...\n",
       "2    만일 하시는 대통령님 및 각 부처 장관님,주무관님들 안녕하세요!! 전남 목포에서 자...\n",
       "Name: content, dtype: object"
      ]
     },
     "execution_count": 16,
     "metadata": {},
     "output_type": "execute_result"
    }
   ],
   "source": [
    "votes_notnull_content[:3]"
   ]
  },
  {
   "cell_type": "code",
   "execution_count": 17,
   "metadata": {},
   "outputs": [
    {
     "name": "stdout",
     "output_type": "stream",
     "text": [
      "CPU times: user 1.87 ms, sys: 257 µs, total: 2.13 ms\n",
      "Wall time: 2.07 ms\n"
     ]
    }
   ],
   "source": [
    "%time votes_null_content = petition_votes_null['content'].apply(preprocessing)"
   ]
  },
  {
   "cell_type": "code",
   "execution_count": 18,
   "metadata": {},
   "outputs": [
    {
     "data": {
      "text/plain": [
       "52     기회의 사다리이자 가장 공정한 수능 상대평가 유지와 정시확대를 원합니다 사걱세나 전...\n",
       "193    저는 경기도 파주에 사는 사람으로 경기도 고양시 소재 중등과정 대안학교에 아이를 보...\n",
       "427    처음에는 명칭만을 보고 \"아이들이 줄어서 한 반 인원이 많지도 않은데 교사 두 분이...\n",
       "Name: content, dtype: object"
      ]
     },
     "execution_count": 18,
     "metadata": {},
     "output_type": "execute_result"
    }
   ],
   "source": [
    "votes_null_content[:3]"
   ]
  },
  {
   "cell_type": "code",
   "execution_count": 19,
   "metadata": {},
   "outputs": [
    {
     "data": {
      "text/plain": [
       "CountVectorizer(analyzer='word', binary=False, decode_error='strict',\n",
       "        dtype=<class 'numpy.int64'>, encoding='utf-8', input='content',\n",
       "        lowercase=True, max_df=1.0, max_features=10000, min_df=1,\n",
       "        ngram_range=(1, 2), preprocessor=None, stop_words=None,\n",
       "        strip_accents=None, token_pattern='(?u)\\\\b\\\\w\\\\w+\\\\b',\n",
       "        tokenizer=None, vocabulary=None)"
      ]
     },
     "execution_count": 19,
     "metadata": {},
     "output_type": "execute_result"
    }
   ],
   "source": [
    "from sklearn.feature_extraction.text import CountVectorizer\n",
    "from sklearn.pipeline import Pipeline\n",
    "\n",
    "vectorizer = CountVectorizer(analyzer = 'word', \n",
    "                             tokenizer = None,\n",
    "                             preprocessor = None, \n",
    "                             stop_words = None, \n",
    "                             min_df = 1,\n",
    "                             ngram_range=(1, 2),\n",
    "                             max_features = 10000\n",
    "                            )\n",
    "vectorizer"
   ]
  },
  {
   "cell_type": "code",
   "execution_count": 20,
   "metadata": {},
   "outputs": [],
   "source": [
    "pipeline = Pipeline([\n",
    "    ('vect', vectorizer),\n",
    "])  "
   ]
  },
  {
   "cell_type": "code",
   "execution_count": 21,
   "metadata": {},
   "outputs": [
    {
     "name": "stdout",
     "output_type": "stream",
     "text": [
      "CPU times: user 1min 37s, sys: 2.51 s, total: 1min 39s\n",
      "Wall time: 1min 39s\n"
     ]
    },
    {
     "data": {
      "text/plain": [
       "(159579, 10000)"
      ]
     },
     "execution_count": 21,
     "metadata": {},
     "output_type": "execute_result"
    }
   ],
   "source": [
    "%time train_data_features = pipeline.fit_transform(votes_notnull_content)\n",
    "train_data_features.shape"
   ]
  },
  {
   "cell_type": "code",
   "execution_count": 22,
   "metadata": {},
   "outputs": [
    {
     "name": "stdout",
     "output_type": "stream",
     "text": [
      "CPU times: user 1.68 s, sys: 169 ms, total: 1.85 s\n",
      "Wall time: 1.85 s\n"
     ]
    },
    {
     "data": {
      "text/plain": [
       "(192, 10000)"
      ]
     },
     "execution_count": 22,
     "metadata": {},
     "output_type": "execute_result"
    }
   ],
   "source": [
    "%time test_data_features = pipeline.fit_transform(votes_null_content)\n",
    "test_data_features.shape"
   ]
  },
  {
   "cell_type": "code",
   "execution_count": 23,
   "metadata": {},
   "outputs": [
    {
     "name": "stdout",
     "output_type": "stream",
     "text": [
      "10000\n"
     ]
    },
    {
     "data": {
      "text/plain": [
       "['044',\n",
       " '044 203',\n",
       " '10',\n",
       " '100',\n",
       " '100 전면',\n",
       " '100만원',\n",
       " '100만원 영어유치원은',\n",
       " '100만원이',\n",
       " '100만원이 넘는',\n",
       " '100명']"
      ]
     },
     "execution_count": 23,
     "metadata": {},
     "output_type": "execute_result"
    }
   ],
   "source": [
    "vocab = vectorizer.get_feature_names()\n",
    "print(len(vocab))\n",
    "vocab[:10]"
   ]
  },
  {
   "cell_type": "code",
   "execution_count": 24,
   "metadata": {},
   "outputs": [
    {
     "name": "stdout",
     "output_type": "stream",
     "text": [
      "[[4 4 8 ... 3 2 3]] 044\n"
     ]
    },
    {
     "data": {
      "text/html": [
       "<div>\n",
       "<style scoped>\n",
       "    .dataframe tbody tr th:only-of-type {\n",
       "        vertical-align: middle;\n",
       "    }\n",
       "\n",
       "    .dataframe tbody tr th {\n",
       "        vertical-align: top;\n",
       "    }\n",
       "\n",
       "    .dataframe thead th {\n",
       "        text-align: right;\n",
       "    }\n",
       "</style>\n",
       "<table border=\"1\" class=\"dataframe\">\n",
       "  <thead>\n",
       "    <tr style=\"text-align: right;\">\n",
       "      <th></th>\n",
       "      <th>044</th>\n",
       "      <th>044 203</th>\n",
       "      <th>10</th>\n",
       "      <th>100</th>\n",
       "      <th>100 전면</th>\n",
       "      <th>100만원</th>\n",
       "      <th>100만원 영어유치원은</th>\n",
       "      <th>100만원이</th>\n",
       "      <th>100만원이 넘는</th>\n",
       "      <th>100명</th>\n",
       "      <th>...</th>\n",
       "      <th>희망이</th>\n",
       "      <th>희생을</th>\n",
       "      <th>힘내십시요</th>\n",
       "      <th>힘든</th>\n",
       "      <th>힘든 상황</th>\n",
       "      <th>힘들게</th>\n",
       "      <th>힘들고</th>\n",
       "      <th>힘들다는</th>\n",
       "      <th>힘들어</th>\n",
       "      <th>힘이</th>\n",
       "    </tr>\n",
       "  </thead>\n",
       "  <tbody>\n",
       "    <tr>\n",
       "      <th>0</th>\n",
       "      <td>4</td>\n",
       "      <td>4</td>\n",
       "      <td>8</td>\n",
       "      <td>5</td>\n",
       "      <td>2</td>\n",
       "      <td>5</td>\n",
       "      <td>2</td>\n",
       "      <td>2</td>\n",
       "      <td>2</td>\n",
       "      <td>2</td>\n",
       "      <td>...</td>\n",
       "      <td>2</td>\n",
       "      <td>2</td>\n",
       "      <td>2</td>\n",
       "      <td>10</td>\n",
       "      <td>2</td>\n",
       "      <td>7</td>\n",
       "      <td>3</td>\n",
       "      <td>3</td>\n",
       "      <td>2</td>\n",
       "      <td>3</td>\n",
       "    </tr>\n",
       "  </tbody>\n",
       "</table>\n",
       "<p>1 rows × 10000 columns</p>\n",
       "</div>"
      ],
      "text/plain": [
       "   044  044 203  10  100  100 전면  100만원  100만원 영어유치원은  100만원이  100만원이 넘는  \\\n",
       "0    4        4   8    5       2      5             2       2          2   \n",
       "\n",
       "   100명 ...  희망이  희생을  힘내십시요  힘든  힘든 상황  힘들게  힘들고  힘들다는  힘들어  힘이  \n",
       "0     2 ...    2    2      2  10      2    7    3     3    2   3  \n",
       "\n",
       "[1 rows x 10000 columns]"
      ]
     },
     "execution_count": 24,
     "metadata": {},
     "output_type": "execute_result"
    }
   ],
   "source": [
    "# 벡터화 된 피처를 확인해 봄\n",
    "# Bag of words 에 몇 개의 단어가 들어있는지 확인\n",
    "dist = np.sum(test_data_features, axis=0)\n",
    "    \n",
    "for tag, count in zip(vocab, dist):\n",
    "    print(count, tag)\n",
    "    \n",
    "pd.DataFrame(dist, columns=vocab)"
   ]
  },
  {
   "cell_type": "code",
   "execution_count": 25,
   "metadata": {},
   "outputs": [
    {
     "data": {
      "text/html": [
       "<div>\n",
       "<style scoped>\n",
       "    .dataframe tbody tr th:only-of-type {\n",
       "        vertical-align: middle;\n",
       "    }\n",
       "\n",
       "    .dataframe tbody tr th {\n",
       "        vertical-align: top;\n",
       "    }\n",
       "\n",
       "    .dataframe thead th {\n",
       "        text-align: right;\n",
       "    }\n",
       "</style>\n",
       "<table border=\"1\" class=\"dataframe\">\n",
       "  <thead>\n",
       "    <tr style=\"text-align: right;\">\n",
       "      <th></th>\n",
       "      <th>044</th>\n",
       "      <th>044 203</th>\n",
       "      <th>10</th>\n",
       "      <th>100</th>\n",
       "      <th>100 전면</th>\n",
       "      <th>100만원</th>\n",
       "      <th>100만원 영어유치원은</th>\n",
       "      <th>100만원이</th>\n",
       "      <th>100만원이 넘는</th>\n",
       "      <th>100명</th>\n",
       "      <th>...</th>\n",
       "      <th>희망이</th>\n",
       "      <th>희생을</th>\n",
       "      <th>힘내십시요</th>\n",
       "      <th>힘든</th>\n",
       "      <th>힘든 상황</th>\n",
       "      <th>힘들게</th>\n",
       "      <th>힘들고</th>\n",
       "      <th>힘들다는</th>\n",
       "      <th>힘들어</th>\n",
       "      <th>힘이</th>\n",
       "    </tr>\n",
       "  </thead>\n",
       "  <tbody>\n",
       "    <tr>\n",
       "      <th>0</th>\n",
       "      <td>0</td>\n",
       "      <td>0</td>\n",
       "      <td>0</td>\n",
       "      <td>0</td>\n",
       "      <td>0</td>\n",
       "      <td>0</td>\n",
       "      <td>0</td>\n",
       "      <td>0</td>\n",
       "      <td>0</td>\n",
       "      <td>0</td>\n",
       "      <td>...</td>\n",
       "      <td>0</td>\n",
       "      <td>0</td>\n",
       "      <td>0</td>\n",
       "      <td>0</td>\n",
       "      <td>0</td>\n",
       "      <td>0</td>\n",
       "      <td>0</td>\n",
       "      <td>0</td>\n",
       "      <td>0</td>\n",
       "      <td>0</td>\n",
       "    </tr>\n",
       "    <tr>\n",
       "      <th>1</th>\n",
       "      <td>0</td>\n",
       "      <td>0</td>\n",
       "      <td>0</td>\n",
       "      <td>0</td>\n",
       "      <td>0</td>\n",
       "      <td>0</td>\n",
       "      <td>0</td>\n",
       "      <td>0</td>\n",
       "      <td>0</td>\n",
       "      <td>0</td>\n",
       "      <td>...</td>\n",
       "      <td>0</td>\n",
       "      <td>0</td>\n",
       "      <td>0</td>\n",
       "      <td>0</td>\n",
       "      <td>0</td>\n",
       "      <td>0</td>\n",
       "      <td>0</td>\n",
       "      <td>0</td>\n",
       "      <td>0</td>\n",
       "      <td>0</td>\n",
       "    </tr>\n",
       "    <tr>\n",
       "      <th>2</th>\n",
       "      <td>0</td>\n",
       "      <td>0</td>\n",
       "      <td>0</td>\n",
       "      <td>0</td>\n",
       "      <td>0</td>\n",
       "      <td>0</td>\n",
       "      <td>0</td>\n",
       "      <td>0</td>\n",
       "      <td>0</td>\n",
       "      <td>0</td>\n",
       "      <td>...</td>\n",
       "      <td>0</td>\n",
       "      <td>0</td>\n",
       "      <td>0</td>\n",
       "      <td>0</td>\n",
       "      <td>0</td>\n",
       "      <td>0</td>\n",
       "      <td>0</td>\n",
       "      <td>0</td>\n",
       "      <td>0</td>\n",
       "      <td>0</td>\n",
       "    </tr>\n",
       "    <tr>\n",
       "      <th>3</th>\n",
       "      <td>0</td>\n",
       "      <td>0</td>\n",
       "      <td>0</td>\n",
       "      <td>0</td>\n",
       "      <td>0</td>\n",
       "      <td>0</td>\n",
       "      <td>0</td>\n",
       "      <td>0</td>\n",
       "      <td>0</td>\n",
       "      <td>0</td>\n",
       "      <td>...</td>\n",
       "      <td>0</td>\n",
       "      <td>0</td>\n",
       "      <td>0</td>\n",
       "      <td>0</td>\n",
       "      <td>0</td>\n",
       "      <td>0</td>\n",
       "      <td>0</td>\n",
       "      <td>0</td>\n",
       "      <td>0</td>\n",
       "      <td>0</td>\n",
       "    </tr>\n",
       "    <tr>\n",
       "      <th>4</th>\n",
       "      <td>0</td>\n",
       "      <td>0</td>\n",
       "      <td>0</td>\n",
       "      <td>0</td>\n",
       "      <td>0</td>\n",
       "      <td>0</td>\n",
       "      <td>0</td>\n",
       "      <td>0</td>\n",
       "      <td>0</td>\n",
       "      <td>0</td>\n",
       "      <td>...</td>\n",
       "      <td>1</td>\n",
       "      <td>0</td>\n",
       "      <td>0</td>\n",
       "      <td>0</td>\n",
       "      <td>0</td>\n",
       "      <td>0</td>\n",
       "      <td>0</td>\n",
       "      <td>0</td>\n",
       "      <td>0</td>\n",
       "      <td>0</td>\n",
       "    </tr>\n",
       "  </tbody>\n",
       "</table>\n",
       "<p>5 rows × 10000 columns</p>\n",
       "</div>"
      ],
      "text/plain": [
       "   044  044 203  10  100  100 전면  100만원  100만원 영어유치원은  100만원이  100만원이 넘는  \\\n",
       "0    0        0   0    0       0      0             0       0          0   \n",
       "1    0        0   0    0       0      0             0       0          0   \n",
       "2    0        0   0    0       0      0             0       0          0   \n",
       "3    0        0   0    0       0      0             0       0          0   \n",
       "4    0        0   0    0       0      0             0       0          0   \n",
       "\n",
       "   100명 ...  희망이  희생을  힘내십시요  힘든  힘든 상황  힘들게  힘들고  힘들다는  힘들어  힘이  \n",
       "0     0 ...    0    0      0   0      0    0    0     0    0   0  \n",
       "1     0 ...    0    0      0   0      0    0    0     0    0   0  \n",
       "2     0 ...    0    0      0   0      0    0    0     0    0   0  \n",
       "3     0 ...    0    0      0   0      0    0    0     0    0   0  \n",
       "4     0 ...    1    0      0   0      0    0    0     0    0   0  \n",
       "\n",
       "[5 rows x 10000 columns]"
      ]
     },
     "execution_count": 25,
     "metadata": {},
     "output_type": "execute_result"
    }
   ],
   "source": [
    "# 각 row에서 전체 단어가방에 있는 어휘에서 등장하는 단어에 대한 one-hot-vector\n",
    "pd.DataFrame(test_data_features[:10].toarray(), columns=vocab).head()"
   ]
  },
  {
   "cell_type": "code",
   "execution_count": 26,
   "metadata": {},
   "outputs": [
    {
     "data": {
      "text/plain": [
       "RandomForestClassifier(bootstrap=True, class_weight=None, criterion='gini',\n",
       "            max_depth=None, max_features='auto', max_leaf_nodes=None,\n",
       "            min_impurity_decrease=0.0, min_impurity_split=None,\n",
       "            min_samples_leaf=1, min_samples_split=2,\n",
       "            min_weight_fraction_leaf=0.0, n_estimators=10, n_jobs=-1,\n",
       "            oob_score=False, random_state=2018, verbose=0,\n",
       "            warm_start=False)"
      ]
     },
     "execution_count": 26,
     "metadata": {},
     "output_type": "execute_result"
    }
   ],
   "source": [
    "from sklearn.ensemble import RandomForestClassifier\n",
    "\n",
    "forest = RandomForestClassifier(\n",
    "    n_estimators = 10, n_jobs = -1, random_state=2018)\n",
    "forest"
   ]
  },
  {
   "cell_type": "code",
   "execution_count": 27,
   "metadata": {},
   "outputs": [
    {
     "data": {
      "text/plain": [
       "(159579, 10000)"
      ]
     },
     "execution_count": 27,
     "metadata": {},
     "output_type": "execute_result"
    }
   ],
   "source": [
    "X_train = train_data_features\n",
    "X_train.shape"
   ]
  },
  {
   "cell_type": "code",
   "execution_count": 28,
   "metadata": {},
   "outputs": [
    {
     "data": {
      "text/plain": [
       "(192, 10000)"
      ]
     },
     "execution_count": 28,
     "metadata": {},
     "output_type": "execute_result"
    }
   ],
   "source": [
    "X_test = test_data_features\n",
    "X_test.shape"
   ]
  },
  {
   "cell_type": "code",
   "execution_count": 29,
   "metadata": {},
   "outputs": [
    {
     "data": {
      "text/plain": [
       "(159579,)"
      ]
     },
     "execution_count": 29,
     "metadata": {},
     "output_type": "execute_result"
    }
   ],
   "source": [
    "X_label = petition_votes_notnull['votes']\n",
    "X_label.shape"
   ]
  },
  {
   "cell_type": "code",
   "execution_count": 30,
   "metadata": {},
   "outputs": [
    {
     "data": {
      "text/plain": [
       "(192,)"
      ]
     },
     "execution_count": 30,
     "metadata": {},
     "output_type": "execute_result"
    }
   ],
   "source": [
    "y_label = petition_votes_null['votes']\n",
    "y_label.shape"
   ]
  },
  {
   "cell_type": "code",
   "execution_count": 31,
   "metadata": {},
   "outputs": [
    {
     "name": "stdout",
     "output_type": "stream",
     "text": [
      "CPU times: user 13min 36s, sys: 30.7 s, total: 14min 7s\n",
      "Wall time: 4min 18s\n"
     ]
    }
   ],
   "source": [
    "%time forest = forest.fit(X_train, X_label)"
   ]
  },
  {
   "cell_type": "code",
   "execution_count": null,
   "metadata": {},
   "outputs": [],
   "source": []
  }
 ],
 "metadata": {
  "kernelspec": {
   "display_name": "Python 3",
   "language": "python",
   "name": "python3"
  },
  "language_info": {
   "codemirror_mode": {
    "name": "ipython",
    "version": 3
   },
   "file_extension": ".py",
   "mimetype": "text/x-python",
   "name": "python",
   "nbconvert_exporter": "python",
   "pygments_lexer": "ipython3",
   "version": "3.6.1"
  }
 },
 "nbformat": 4,
 "nbformat_minor": 2
}
