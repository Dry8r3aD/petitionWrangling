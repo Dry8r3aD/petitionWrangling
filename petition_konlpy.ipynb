{
 "cells": [
  {
   "cell_type": "code",
   "execution_count": 1,
   "metadata": {},
   "outputs": [],
   "source": [
    "# 출력이 너무 길어지지 않게하기 위해 찍지 않도록 했으나 \n",
    "# 실제 학습 할 때는 아래 두 줄을 주석처리 하는 것을 권장한다.\n",
    "import warnings\n",
    "warnings.filterwarnings('ignore')"
   ]
  },
  {
   "cell_type": "code",
   "execution_count": 2,
   "metadata": {},
   "outputs": [
    {
     "name": "stdout",
     "output_type": "stream",
     "text": [
      "0.21.0\n",
      "1.14.0\n"
     ]
    }
   ],
   "source": [
    "import pandas as pd\n",
    "from pandas.api.types import CategoricalDtype # 그래프의 값을 정렬해서 보기위해\n",
    "import numpy as np\n",
    "print(pd.__version__)\n",
    "print(np.__version__)"
   ]
  },
  {
   "cell_type": "code",
   "execution_count": 3,
   "metadata": {},
   "outputs": [],
   "source": [
    "from konlpy.tag import Twitter, Kkma, Mecab, Hannanum\n",
    "t = Twitter()\n",
    "kkma = Kkma()\n",
    "mecab = Mecab() # mecab은 윈도우에서 사용 불가\n",
    "hannanum = Hannanum()"
   ]
  },
  {
   "cell_type": "code",
   "execution_count": 4,
   "metadata": {},
   "outputs": [],
   "source": [
    "import logging\n",
    "logging.basicConfig(\n",
    "    format='%(asctime)s : %(levelname)s : %(message)s', \n",
    "    level=logging.INFO)"
   ]
  },
  {
   "cell_type": "code",
   "execution_count": 5,
   "metadata": {},
   "outputs": [
    {
     "data": {
      "text/plain": [
       "(155844, 7)"
      ]
     },
     "execution_count": 5,
     "metadata": {},
     "output_type": "execute_result"
    }
   ],
   "source": [
    "# 크롤링해 온 국민청원 데이터를 판다스를 통해 읽어온다.\n",
    "# 데이터 출처 : https://github.com/akngs/petitions\n",
    "petitions = pd.read_csv('data/petition.csv', index_col=0, parse_dates=['start', 'end'])\n",
    "# 데이터의 크기가 어느정도인지 본다.\n",
    "petitions.shape"
   ]
  },
  {
   "cell_type": "code",
   "execution_count": 6,
   "metadata": {},
   "outputs": [],
   "source": [
    "petitions_content = ' '.join(str(petitions['content']))"
   ]
  },
  {
   "cell_type": "code",
   "execution_count": 7,
   "metadata": {},
   "outputs": [
    {
     "name": "stdout",
     "output_type": "stream",
     "text": [
      "[(' ', 4694), ('.', 219), ('\\n', 62), ('1', 56), ('이', 53), ('는', 50), ('7', 42), ('하', 41), ('9', 41), ('다', 40)]\n",
      "7429\n"
     ]
    }
   ],
   "source": [
    "from collections import Counter\n",
    "counter = Counter(petitions_content)\n",
    "print(counter.most_common(10))\n",
    "print(len(petitions_content))"
   ]
  },
  {
   "cell_type": "code",
   "execution_count": 8,
   "metadata": {},
   "outputs": [
    {
     "name": "stdout",
     "output_type": "stream",
     "text": [
      "[('이명박 출국금지', 597), ('이명박출국금지', 267), ('동의합니다', 124), ('출국금지', 120), ('이명박 출국 금지', 106), ('조두순 출소 반대합니다.', 105), (\"[본문에 타인의 명의 등 개인정보가 무분별하게 과다하게 노출되어 본문의 내용은 홈페이지 관리자에 의해 '숨김' 처리 되었습니다.]\", 101), ('조두순 출소 반대합니다', 97), ('이명박 출국금지 청원합니다', 92), ('.', 86)]\n",
      "155844\n"
     ]
    }
   ],
   "source": [
    "counter = Counter(petitions['content'])\n",
    "print(counter.most_common(10))\n",
    "print(len(petitions['content']))"
   ]
  },
  {
   "cell_type": "code",
   "execution_count": 9,
   "metadata": {},
   "outputs": [
    {
     "data": {
      "text/plain": [
       "['a r t i c l e _ i d 2 1 스 텔 라 데 이 지 호에 대 한 제 안 입 니 다 . \\\\ n 3 월 3 1 일 스 텔 라 데 이 지 호 가 침 몰 하 고 5 달 째 가 . . . 2 2 현 정 부에 국 민 들 이 가 장 원 하 는 것 은 부 패 척 결 입 니 다 . 우 리 사 회에 각 종 비 리 들 이 . . . 2 3 만 일 하 시 는 대 통 령 님 및 각 부 처 장 관 님 , 주 무 관 님 들 안 녕 하 세 요 ! !']"
      ]
     },
     "execution_count": 9,
     "metadata": {},
     "output_type": "execute_result"
    }
   ],
   "source": [
    "petitions_content_kkma = kkma.sentences(petitions_content)\n",
    "petitions_content_kkma[:1]"
   ]
  },
  {
   "cell_type": "code",
   "execution_count": 10,
   "metadata": {},
   "outputs": [
    {
     "data": {
      "text/plain": [
       "[('a', 'OL'),\n",
       " ('r', 'OL'),\n",
       " ('t', 'OL'),\n",
       " ('i', 'OL'),\n",
       " ('c', 'OL'),\n",
       " ('l', 'OL'),\n",
       " ('e', 'OL'),\n",
       " ('_', 'SW'),\n",
       " ('i', 'OL'),\n",
       " ('d', 'OL')]"
      ]
     },
     "execution_count": 10,
     "metadata": {},
     "output_type": "execute_result"
    }
   ],
   "source": [
    "petitions_content_kkma = kkma.pos(petitions_content)\n",
    "petitions_content_kkma[:10]"
   ]
  },
  {
   "cell_type": "code",
   "execution_count": 11,
   "metadata": {},
   "outputs": [
    {
     "data": {
      "text/plain": [
       "['_', '2', '1', '스', '텔', '라', '데', '지', '호', '저']"
      ]
     },
     "execution_count": 11,
     "metadata": {},
     "output_type": "execute_result"
    }
   ],
   "source": [
    "hannanum.nouns(petitions_content)[:10]"
   ]
  },
  {
   "cell_type": "markdown",
   "metadata": {},
   "source": [
    "## 한글 불용어\n",
    "\n",
    "* https://raw.githubusercontent.com/6/stopwords-json/master/dist/ko.json\n",
    "* [Korean Stopwords](https://www.ranks.nl/stopwords/korean)\n",
    "[stopwords-iso/stopwords-ko: Korean stopwords collection](https://github.com/stopwords-iso/stopwords-ko)\n",
    "* https://github.com/Tkkg1994/HulkRom/blob/master/PROJECT_GT-I9505/system/opticalreader/origin/hdic/stopword.dic"
   ]
  },
  {
   "cell_type": "code",
   "execution_count": null,
   "metadata": {},
   "outputs": [],
   "source": []
  }
 ],
 "metadata": {
  "kernelspec": {
   "display_name": "Python 3",
   "language": "python",
   "name": "python3"
  },
  "language_info": {
   "codemirror_mode": {
    "name": "ipython",
    "version": 3
   },
   "file_extension": ".py",
   "mimetype": "text/x-python",
   "name": "python",
   "nbconvert_exporter": "python",
   "pygments_lexer": "ipython3",
   "version": "3.6.1"
  }
 },
 "nbformat": 4,
 "nbformat_minor": 2
}
