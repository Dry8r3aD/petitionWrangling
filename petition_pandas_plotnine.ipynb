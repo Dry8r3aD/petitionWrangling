{
 "cells": [
  {
   "cell_type": "markdown",
   "metadata": {},
   "source": [
    "# 국민청원 데이터 분석하기"
   ]
  },
  {
   "cell_type": "code",
   "execution_count": 1,
   "metadata": {},
   "outputs": [],
   "source": [
    "# 출력데이터가 지저분하게 보이지 않도록 warnings을 불러왔다.\n",
    "import warnings\n",
    "warnings.filterwarnings('ignore')"
   ]
  },
  {
   "cell_type": "code",
   "execution_count": 2,
   "metadata": {},
   "outputs": [
    {
     "name": "stdout",
     "output_type": "stream",
     "text": [
      "0.21.0\n",
      "1.14.0\n"
     ]
    }
   ],
   "source": [
    "import pandas as pd\n",
    "from pandas.api.types import CategoricalDtype # 그래프의 값을 정렬해서 보기위해\n",
    "import numpy as np\n",
    "print(pd.__version__)\n",
    "print(np.__version__)"
   ]
  },
  {
   "cell_type": "markdown",
   "metadata": {},
   "source": [
    "여기에서는 시각화 도구로 [plotnine(A grammar of graphics for Python)](https://github.com/has2k1/plotnine)을 사용한다."
   ]
  },
  {
   "cell_type": "code",
   "execution_count": 3,
   "metadata": {},
   "outputs": [],
   "source": [
    "from plotnine import *"
   ]
  },
  {
   "cell_type": "markdown",
   "metadata": {},
   "source": [
    "# Pandas로 데이터 살펴보기\n",
    "* 데이터 출처 : https://github.com/akngs/petitions"
   ]
  },
  {
   "cell_type": "code",
   "execution_count": 4,
   "metadata": {},
   "outputs": [
    {
     "data": {
      "text/plain": [
       "(174335, 7)"
      ]
     },
     "execution_count": 4,
     "metadata": {},
     "output_type": "execute_result"
    }
   ],
   "source": [
    "# 크롤링해 온 국민청원 데이터를 판다스를 통해 읽어온다.\n",
    "petitions = pd.read_csv('data/petition.csv', index_col=0, parse_dates=['start', 'end'])\n",
    "# 데이터의 크기가 어느정도인지 본다.\n",
    "petitions.shape"
   ]
  },
  {
   "cell_type": "markdown",
   "metadata": {},
   "source": [
    "## 일부 데이터 미리보기\n",
    "* 전체 데이터를 한꺼번에 읽어오면 스크롤도 길고 내용이 너무 많기 때문에 일부 데이터만을 본다.\n",
    "* head()는 윗부분의 데이터 5개를 기본값으로 읽어오고 tail()은 마지막 부분의 데이터를 읽어온다.\n",
    "* 터미널에서 파일을 미리보기 할 때 사용하는 명령어와 같다."
   ]
  },
  {
   "cell_type": "code",
   "execution_count": 5,
   "metadata": {},
   "outputs": [
    {
     "data": {
      "text/html": [
       "<div>\n",
       "<style scoped>\n",
       "    .dataframe tbody tr th:only-of-type {\n",
       "        vertical-align: middle;\n",
       "    }\n",
       "\n",
       "    .dataframe tbody tr th {\n",
       "        vertical-align: top;\n",
       "    }\n",
       "\n",
       "    .dataframe thead th {\n",
       "        text-align: right;\n",
       "    }\n",
       "</style>\n",
       "<table border=\"1\" class=\"dataframe\">\n",
       "  <thead>\n",
       "    <tr style=\"text-align: right;\">\n",
       "      <th></th>\n",
       "      <th>start</th>\n",
       "      <th>end</th>\n",
       "      <th>answered</th>\n",
       "      <th>votes</th>\n",
       "      <th>category</th>\n",
       "      <th>title</th>\n",
       "      <th>content</th>\n",
       "    </tr>\n",
       "    <tr>\n",
       "      <th>article_id</th>\n",
       "      <th></th>\n",
       "      <th></th>\n",
       "      <th></th>\n",
       "      <th></th>\n",
       "      <th></th>\n",
       "      <th></th>\n",
       "      <th></th>\n",
       "    </tr>\n",
       "  </thead>\n",
       "  <tbody>\n",
       "    <tr>\n",
       "      <th>21</th>\n",
       "      <td>2017-08-19</td>\n",
       "      <td>2017-11-17</td>\n",
       "      <td>0</td>\n",
       "      <td>9</td>\n",
       "      <td>안전/환경</td>\n",
       "      <td>스텔라 데이지호에 대한 제안입니다.</td>\n",
       "      <td>스텔라 데이지호에 대한 제안입니다.\\n3월31일 스텔라 데이지호가 침몰하고 5달째가...</td>\n",
       "    </tr>\n",
       "    <tr>\n",
       "      <th>22</th>\n",
       "      <td>2017-08-19</td>\n",
       "      <td>2017-11-17</td>\n",
       "      <td>0</td>\n",
       "      <td>17</td>\n",
       "      <td>기타</td>\n",
       "      <td>비리제보처를 만들어주세요.</td>\n",
       "      <td>현 정부에 국민들이 가장 원하는 것은 부패척결입니다.  우리 사회에 각종 비리들이 ...</td>\n",
       "    </tr>\n",
       "    <tr>\n",
       "      <th>23</th>\n",
       "      <td>2017-08-19</td>\n",
       "      <td>2017-09-03</td>\n",
       "      <td>0</td>\n",
       "      <td>0</td>\n",
       "      <td>미래</td>\n",
       "      <td>제2의 개성공단</td>\n",
       "      <td>만일 하시는 대통령님 및 각 부처 장관님,주무관님들 안녕하세요!!\\n전남 목포에서 ...</td>\n",
       "    </tr>\n",
       "  </tbody>\n",
       "</table>\n",
       "</div>"
      ],
      "text/plain": [
       "                start        end  answered  votes category  \\\n",
       "article_id                                                   \n",
       "21         2017-08-19 2017-11-17         0      9    안전/환경   \n",
       "22         2017-08-19 2017-11-17         0     17       기타   \n",
       "23         2017-08-19 2017-09-03         0      0       미래   \n",
       "\n",
       "                          title  \\\n",
       "article_id                        \n",
       "21          스텔라 데이지호에 대한 제안입니다.   \n",
       "22               비리제보처를 만들어주세요.   \n",
       "23                     제2의 개성공단   \n",
       "\n",
       "                                                      content  \n",
       "article_id                                                     \n",
       "21          스텔라 데이지호에 대한 제안입니다.\\n3월31일 스텔라 데이지호가 침몰하고 5달째가...  \n",
       "22          현 정부에 국민들이 가장 원하는 것은 부패척결입니다.  우리 사회에 각종 비리들이 ...  \n",
       "23          만일 하시는 대통령님 및 각 부처 장관님,주무관님들 안녕하세요!!\\n전남 목포에서 ...  "
      ]
     },
     "execution_count": 5,
     "metadata": {},
     "output_type": "execute_result"
    }
   ],
   "source": [
    "# head를 통해 상위 몇 개의 데이터만을 본다.\n",
    "# 기본은 5개를 불러오며, 괄호안에 숫자를 적어주면 숫자만큼 불러온다.\n",
    "petitions.head(3)"
   ]
  },
  {
   "cell_type": "code",
   "execution_count": 6,
   "metadata": {},
   "outputs": [
    {
     "data": {
      "text/html": [
       "<div>\n",
       "<style scoped>\n",
       "    .dataframe tbody tr th:only-of-type {\n",
       "        vertical-align: middle;\n",
       "    }\n",
       "\n",
       "    .dataframe tbody tr th {\n",
       "        vertical-align: top;\n",
       "    }\n",
       "\n",
       "    .dataframe thead th {\n",
       "        text-align: right;\n",
       "    }\n",
       "</style>\n",
       "<table border=\"1\" class=\"dataframe\">\n",
       "  <thead>\n",
       "    <tr style=\"text-align: right;\">\n",
       "      <th></th>\n",
       "      <th>start</th>\n",
       "      <th>end</th>\n",
       "      <th>answered</th>\n",
       "      <th>votes</th>\n",
       "      <th>category</th>\n",
       "      <th>title</th>\n",
       "      <th>content</th>\n",
       "    </tr>\n",
       "    <tr>\n",
       "      <th>article_id</th>\n",
       "      <th></th>\n",
       "      <th></th>\n",
       "      <th></th>\n",
       "      <th></th>\n",
       "      <th></th>\n",
       "      <th></th>\n",
       "      <th></th>\n",
       "    </tr>\n",
       "  </thead>\n",
       "  <tbody>\n",
       "    <tr>\n",
       "      <th>216508</th>\n",
       "      <td>2018-04-30</td>\n",
       "      <td>2018-05-30</td>\n",
       "      <td>0</td>\n",
       "      <td>8</td>\n",
       "      <td>기타</td>\n",
       "      <td>같은 사람이 같은 내용의 청원(도배글) 못 올리도록 막아주세요!</td>\n",
       "      <td>같은 제목 같은 내용의 청원을\\n같은 사람이 연속적으로 올릴 수 없도록 프로그래밍 ...</td>\n",
       "    </tr>\n",
       "    <tr>\n",
       "      <th>216509</th>\n",
       "      <td>2018-04-30</td>\n",
       "      <td>2018-05-30</td>\n",
       "      <td>0</td>\n",
       "      <td>35</td>\n",
       "      <td>행정</td>\n",
       "      <td>신속집행제도에 대한 폐지 청원</td>\n",
       "      <td>조기집행 또는 신속집행에 대한 폐지 제안\\n고양시공무원노동조합  위원장 구석현\\n공...</td>\n",
       "    </tr>\n",
       "    <tr>\n",
       "      <th>216510</th>\n",
       "      <td>2018-04-30</td>\n",
       "      <td>2018-05-30</td>\n",
       "      <td>0</td>\n",
       "      <td>22</td>\n",
       "      <td>교통/건축/국토</td>\n",
       "      <td>길거리 흡연에 대한 금지를 청원합니다.</td>\n",
       "      <td>길거리 흡연에 대한 금지를 청원합니다.\\n길을 걷는대 왜 담배 연기를 마셔야 됩니까...</td>\n",
       "    </tr>\n",
       "  </tbody>\n",
       "</table>\n",
       "</div>"
      ],
      "text/plain": [
       "                start        end  answered  votes  category  \\\n",
       "article_id                                                    \n",
       "216508     2018-04-30 2018-05-30         0      8        기타   \n",
       "216509     2018-04-30 2018-05-30         0     35        행정   \n",
       "216510     2018-04-30 2018-05-30         0     22  교통/건축/국토   \n",
       "\n",
       "                                          title  \\\n",
       "article_id                                        \n",
       "216508      같은 사람이 같은 내용의 청원(도배글) 못 올리도록 막아주세요!   \n",
       "216509                         신속집행제도에 대한 폐지 청원   \n",
       "216510                    길거리 흡연에 대한 금지를 청원합니다.   \n",
       "\n",
       "                                                      content  \n",
       "article_id                                                     \n",
       "216508      같은 제목 같은 내용의 청원을\\n같은 사람이 연속적으로 올릴 수 없도록 프로그래밍 ...  \n",
       "216509      조기집행 또는 신속집행에 대한 폐지 제안\\n고양시공무원노동조합  위원장 구석현\\n공...  \n",
       "216510      길거리 흡연에 대한 금지를 청원합니다.\\n길을 걷는대 왜 담배 연기를 마셔야 됩니까...  "
      ]
     },
     "execution_count": 6,
     "metadata": {},
     "output_type": "execute_result"
    }
   ],
   "source": [
    "# 위에서 불러온 head와 반대로 뒤에서부터 데이터를 읽어온다.\n",
    "# 터미널에서 크롤링을 하며 tail 파일명으로 크롤링 데이터를 읽었던 기억을 떠올려 보자.\n",
    "petitions.tail(3)"
   ]
  },
  {
   "cell_type": "code",
   "execution_count": 7,
   "metadata": {},
   "outputs": [
    {
     "data": {
      "text/plain": [
       "Index(['start', 'end', 'answered', 'votes', 'category', 'title', 'content'], dtype='object')"
      ]
     },
     "execution_count": 7,
     "metadata": {},
     "output_type": "execute_result"
    }
   ],
   "source": [
    "# 데이터프레임의 컬럼만을 불러올 수 있다.\n",
    "petitions.columns"
   ]
  },
  {
   "cell_type": "code",
   "execution_count": 8,
   "metadata": {},
   "outputs": [
    {
     "name": "stdout",
     "output_type": "stream",
     "text": [
      "<class 'pandas.core.frame.DataFrame'>\n",
      "Int64Index: 174335 entries, 21 to 216510\n",
      "Data columns (total 7 columns):\n",
      "start       174335 non-null datetime64[ns]\n",
      "end         174335 non-null datetime64[ns]\n",
      "answered    174335 non-null int64\n",
      "votes       174335 non-null int64\n",
      "category    174335 non-null object\n",
      "title       174335 non-null object\n",
      "content     174334 non-null object\n",
      "dtypes: datetime64[ns](2), int64(2), object(3)\n",
      "memory usage: 10.6+ MB\n"
     ]
    }
   ],
   "source": [
    "# 데이터셋의 정보를 볼 수 있다.\n",
    "# 어떤 컬럼이 있고 몇 개의 데이터가 있으며 어떤 타입인지 볼 수 있다.\n",
    "petitions.info()"
   ]
  },
  {
   "cell_type": "code",
   "execution_count": 9,
   "metadata": {},
   "outputs": [
    {
     "data": {
      "text/html": [
       "<div>\n",
       "<style scoped>\n",
       "    .dataframe tbody tr th:only-of-type {\n",
       "        vertical-align: middle;\n",
       "    }\n",
       "\n",
       "    .dataframe tbody tr th {\n",
       "        vertical-align: top;\n",
       "    }\n",
       "\n",
       "    .dataframe thead th {\n",
       "        text-align: right;\n",
       "    }\n",
       "</style>\n",
       "<table border=\"1\" class=\"dataframe\">\n",
       "  <thead>\n",
       "    <tr style=\"text-align: right;\">\n",
       "      <th></th>\n",
       "      <th>answered</th>\n",
       "      <th>votes</th>\n",
       "    </tr>\n",
       "  </thead>\n",
       "  <tbody>\n",
       "    <tr>\n",
       "      <th>count</th>\n",
       "      <td>174335.000000</td>\n",
       "      <td>174335.000000</td>\n",
       "    </tr>\n",
       "    <tr>\n",
       "      <th>mean</th>\n",
       "      <td>0.000138</td>\n",
       "      <td>136.312335</td>\n",
       "    </tr>\n",
       "    <tr>\n",
       "      <th>std</th>\n",
       "      <td>0.011732</td>\n",
       "      <td>4247.020922</td>\n",
       "    </tr>\n",
       "    <tr>\n",
       "      <th>min</th>\n",
       "      <td>0.000000</td>\n",
       "      <td>0.000000</td>\n",
       "    </tr>\n",
       "    <tr>\n",
       "      <th>25%</th>\n",
       "      <td>0.000000</td>\n",
       "      <td>1.000000</td>\n",
       "    </tr>\n",
       "    <tr>\n",
       "      <th>50%</th>\n",
       "      <td>0.000000</td>\n",
       "      <td>3.000000</td>\n",
       "    </tr>\n",
       "    <tr>\n",
       "      <th>75%</th>\n",
       "      <td>0.000000</td>\n",
       "      <td>9.000000</td>\n",
       "    </tr>\n",
       "    <tr>\n",
       "      <th>max</th>\n",
       "      <td>1.000000</td>\n",
       "      <td>615354.000000</td>\n",
       "    </tr>\n",
       "  </tbody>\n",
       "</table>\n",
       "</div>"
      ],
      "text/plain": [
       "            answered          votes\n",
       "count  174335.000000  174335.000000\n",
       "mean        0.000138     136.312335\n",
       "std         0.011732    4247.020922\n",
       "min         0.000000       0.000000\n",
       "25%         0.000000       1.000000\n",
       "50%         0.000000       3.000000\n",
       "75%         0.000000       9.000000\n",
       "max         1.000000  615354.000000"
      ]
     },
     "execution_count": 9,
     "metadata": {},
     "output_type": "execute_result"
    }
   ],
   "source": [
    "# 숫자로 된 데이터에 대해 count, mean, std, min, max값 등을 볼 수 있다.\n",
    "petitions.describe()"
   ]
  },
  {
   "cell_type": "markdown",
   "metadata": {},
   "source": [
    "## 결측치가 있는지 확인\n",
    "\n",
    "* N/A인 컬럼을 요약해 보여준다.\n",
    "* 결측치가 있다면 보정이 필요하다. 하지만 이 데이터는 너무나 깔끔하다! 결측치가 없다.\n",
    "* 하지만 때론, 결측치가 0이나 다른 숫자로 대체해서 들어가 있을 수도 있음으로 데이터를 좀 더 살펴봐야 한다."
   ]
  },
  {
   "cell_type": "code",
   "execution_count": 10,
   "metadata": {},
   "outputs": [
    {
     "data": {
      "text/plain": [
       "start       0\n",
       "end         0\n",
       "answered    0\n",
       "votes       0\n",
       "category    0\n",
       "title       0\n",
       "content     1\n",
       "dtype: int64"
      ]
     },
     "execution_count": 10,
     "metadata": {},
     "output_type": "execute_result"
    }
   ],
   "source": [
    "petitions.isnull().sum()"
   ]
  },
  {
   "cell_type": "markdown",
   "metadata": {},
   "source": [
    "## 사용하지 않는 컬럼 지우기\n",
    "* 20만건 이상 투표를 받은 청원에 대해 답변을 받기 때문에 답변 여부 컬럼은 사용하지 않는다.\n",
    "* 만약 데이터 프레임에 이 컬럼이 없다면 수집시 제외했기 때문이다.\n",
    "\n",
    "https://pandas.pydata.org/pandas-docs/stable/generated/pandas.DataFrame.drop.html"
   ]
  },
  {
   "cell_type": "code",
   "execution_count": 11,
   "metadata": {},
   "outputs": [
    {
     "data": {
      "text/plain": [
       "(174335, 6)"
      ]
     },
     "execution_count": 11,
     "metadata": {},
     "output_type": "execute_result"
    }
   ],
   "source": [
    "petitions = petitions.drop(columns=['answered'])\n",
    "# 답변 받은 컬럼을 제외 시키고 나면 6개의 컬럼이 남는다.\n",
    "petitions.shape"
   ]
  },
  {
   "cell_type": "markdown",
   "metadata": {},
   "source": [
    "### 답변대상 청원 컬럼 다시 만들기\n",
    "기존 `answerd`컬럼은 답변 여부가 있었다. \n",
    "여기에서는 답변 받은 것과 상관없이 답변 대상 건에 대해 새로운 컬럼을 추가해 주었다."
   ]
  },
  {
   "cell_type": "code",
   "execution_count": 12,
   "metadata": {},
   "outputs": [
    {
     "data": {
      "text/plain": [
       "(174335, 7)"
      ]
     },
     "execution_count": 12,
     "metadata": {},
     "output_type": "execute_result"
    }
   ],
   "source": [
    "petitions['answer'] = (petitions['votes'] > 200000) == 1\n",
    "petitions.shape"
   ]
  },
  {
   "cell_type": "code",
   "execution_count": 13,
   "metadata": {},
   "outputs": [
    {
     "data": {
      "text/html": [
       "<div>\n",
       "<style scoped>\n",
       "    .dataframe tbody tr th:only-of-type {\n",
       "        vertical-align: middle;\n",
       "    }\n",
       "\n",
       "    .dataframe tbody tr th {\n",
       "        vertical-align: top;\n",
       "    }\n",
       "\n",
       "    .dataframe thead th {\n",
       "        text-align: right;\n",
       "    }\n",
       "</style>\n",
       "<table border=\"1\" class=\"dataframe\">\n",
       "  <thead>\n",
       "    <tr style=\"text-align: right;\">\n",
       "      <th></th>\n",
       "      <th>start</th>\n",
       "      <th>end</th>\n",
       "      <th>votes</th>\n",
       "      <th>category</th>\n",
       "      <th>title</th>\n",
       "      <th>content</th>\n",
       "      <th>answer</th>\n",
       "    </tr>\n",
       "    <tr>\n",
       "      <th>article_id</th>\n",
       "      <th></th>\n",
       "      <th></th>\n",
       "      <th></th>\n",
       "      <th></th>\n",
       "      <th></th>\n",
       "      <th></th>\n",
       "      <th></th>\n",
       "    </tr>\n",
       "  </thead>\n",
       "  <tbody>\n",
       "    <tr>\n",
       "      <th>21</th>\n",
       "      <td>2017-08-19</td>\n",
       "      <td>2017-11-17</td>\n",
       "      <td>9</td>\n",
       "      <td>안전/환경</td>\n",
       "      <td>스텔라 데이지호에 대한 제안입니다.</td>\n",
       "      <td>스텔라 데이지호에 대한 제안입니다.\\n3월31일 스텔라 데이지호가 침몰하고 5달째가...</td>\n",
       "      <td>False</td>\n",
       "    </tr>\n",
       "    <tr>\n",
       "      <th>22</th>\n",
       "      <td>2017-08-19</td>\n",
       "      <td>2017-11-17</td>\n",
       "      <td>17</td>\n",
       "      <td>기타</td>\n",
       "      <td>비리제보처를 만들어주세요.</td>\n",
       "      <td>현 정부에 국민들이 가장 원하는 것은 부패척결입니다.  우리 사회에 각종 비리들이 ...</td>\n",
       "      <td>False</td>\n",
       "    </tr>\n",
       "    <tr>\n",
       "      <th>23</th>\n",
       "      <td>2017-08-19</td>\n",
       "      <td>2017-09-03</td>\n",
       "      <td>0</td>\n",
       "      <td>미래</td>\n",
       "      <td>제2의 개성공단</td>\n",
       "      <td>만일 하시는 대통령님 및 각 부처 장관님,주무관님들 안녕하세요!!\\n전남 목포에서 ...</td>\n",
       "      <td>False</td>\n",
       "    </tr>\n",
       "    <tr>\n",
       "      <th>24</th>\n",
       "      <td>2017-08-19</td>\n",
       "      <td>2017-08-26</td>\n",
       "      <td>53</td>\n",
       "      <td>일자리</td>\n",
       "      <td>공공기관 무조건적인 정규직전환을 반대합니다.</td>\n",
       "      <td>현정부에서 정규직 일자리를 늘리는 것에 찬성합니다. 그런데 공공기관 비정규직들은 인...</td>\n",
       "      <td>False</td>\n",
       "    </tr>\n",
       "    <tr>\n",
       "      <th>25</th>\n",
       "      <td>2017-08-19</td>\n",
       "      <td>2017-09-03</td>\n",
       "      <td>0</td>\n",
       "      <td>미래</td>\n",
       "      <td>제2의 개성공단</td>\n",
       "      <td>만일 하시는 대통령님 및 각 부처 장관님,주무관님들 안녕하세요!!\\n전남 목포에서 ...</td>\n",
       "      <td>False</td>\n",
       "    </tr>\n",
       "  </tbody>\n",
       "</table>\n",
       "</div>"
      ],
      "text/plain": [
       "                start        end  votes category                     title  \\\n",
       "article_id                                                                   \n",
       "21         2017-08-19 2017-11-17      9    안전/환경       스텔라 데이지호에 대한 제안입니다.   \n",
       "22         2017-08-19 2017-11-17     17       기타            비리제보처를 만들어주세요.   \n",
       "23         2017-08-19 2017-09-03      0       미래                  제2의 개성공단   \n",
       "24         2017-08-19 2017-08-26     53      일자리  공공기관 무조건적인 정규직전환을 반대합니다.   \n",
       "25         2017-08-19 2017-09-03      0       미래                  제2의 개성공단   \n",
       "\n",
       "                                                      content  answer  \n",
       "article_id                                                             \n",
       "21          스텔라 데이지호에 대한 제안입니다.\\n3월31일 스텔라 데이지호가 침몰하고 5달째가...   False  \n",
       "22          현 정부에 국민들이 가장 원하는 것은 부패척결입니다.  우리 사회에 각종 비리들이 ...   False  \n",
       "23          만일 하시는 대통령님 및 각 부처 장관님,주무관님들 안녕하세요!!\\n전남 목포에서 ...   False  \n",
       "24          현정부에서 정규직 일자리를 늘리는 것에 찬성합니다. 그런데 공공기관 비정규직들은 인...   False  \n",
       "25          만일 하시는 대통령님 및 각 부처 장관님,주무관님들 안녕하세요!!\\n전남 목포에서 ...   False  "
      ]
     },
     "execution_count": 13,
     "metadata": {},
     "output_type": "execute_result"
    }
   ],
   "source": [
    "petitions.head()"
   ]
  },
  {
   "cell_type": "markdown",
   "metadata": {},
   "source": [
    "### 청원기간 컬럼 생성"
   ]
  },
  {
   "cell_type": "code",
   "execution_count": 14,
   "metadata": {},
   "outputs": [
    {
     "data": {
      "text/html": [
       "<div>\n",
       "<style scoped>\n",
       "    .dataframe tbody tr th:only-of-type {\n",
       "        vertical-align: middle;\n",
       "    }\n",
       "\n",
       "    .dataframe tbody tr th {\n",
       "        vertical-align: top;\n",
       "    }\n",
       "\n",
       "    .dataframe thead th {\n",
       "        text-align: right;\n",
       "    }\n",
       "</style>\n",
       "<table border=\"1\" class=\"dataframe\">\n",
       "  <thead>\n",
       "    <tr style=\"text-align: right;\">\n",
       "      <th></th>\n",
       "      <th>start</th>\n",
       "      <th>end</th>\n",
       "      <th>votes</th>\n",
       "      <th>category</th>\n",
       "      <th>title</th>\n",
       "      <th>content</th>\n",
       "      <th>answer</th>\n",
       "      <th>duration</th>\n",
       "    </tr>\n",
       "    <tr>\n",
       "      <th>article_id</th>\n",
       "      <th></th>\n",
       "      <th></th>\n",
       "      <th></th>\n",
       "      <th></th>\n",
       "      <th></th>\n",
       "      <th></th>\n",
       "      <th></th>\n",
       "      <th></th>\n",
       "    </tr>\n",
       "  </thead>\n",
       "  <tbody>\n",
       "    <tr>\n",
       "      <th>2727</th>\n",
       "      <td>2017-09-04</td>\n",
       "      <td>2017-09-11</td>\n",
       "      <td>0</td>\n",
       "      <td>안전/환경</td>\n",
       "      <td>청소년법 폐지해주세요</td>\n",
       "      <td>청소년법 폐지해주세요</td>\n",
       "      <td>False</td>\n",
       "      <td>7 days</td>\n",
       "    </tr>\n",
       "    <tr>\n",
       "      <th>2450</th>\n",
       "      <td>2017-09-04</td>\n",
       "      <td>2017-09-11</td>\n",
       "      <td>0</td>\n",
       "      <td>안전/환경</td>\n",
       "      <td>청소년보호법 폐지 부산여중생 폭행사건</td>\n",
       "      <td>네이버 기사를 보고 분노를 금치 못했습니다\\n가해자 아이들은 폭행을 우월감을 드러내...</td>\n",
       "      <td>False</td>\n",
       "      <td>7 days</td>\n",
       "    </tr>\n",
       "    <tr>\n",
       "      <th>11158</th>\n",
       "      <td>2017-09-06</td>\n",
       "      <td>2017-09-13</td>\n",
       "      <td>1</td>\n",
       "      <td>안전/환경</td>\n",
       "      <td>청소년 보호법 폐지</td>\n",
       "      <td>청소년 보호법 폐지해주세요</td>\n",
       "      <td>False</td>\n",
       "      <td>7 days</td>\n",
       "    </tr>\n",
       "  </tbody>\n",
       "</table>\n",
       "</div>"
      ],
      "text/plain": [
       "                start        end  votes category                 title  \\\n",
       "article_id                                                               \n",
       "2727       2017-09-04 2017-09-11      0    안전/환경           청소년법 폐지해주세요   \n",
       "2450       2017-09-04 2017-09-11      0    안전/환경  청소년보호법 폐지 부산여중생 폭행사건   \n",
       "11158      2017-09-06 2017-09-13      1    안전/환경            청소년 보호법 폐지   \n",
       "\n",
       "                                                      content  answer duration  \n",
       "article_id                                                                      \n",
       "2727                                              청소년법 폐지해주세요   False   7 days  \n",
       "2450        네이버 기사를 보고 분노를 금치 못했습니다\\n가해자 아이들은 폭행을 우월감을 드러내...   False   7 days  \n",
       "11158                                          청소년 보호법 폐지해주세요   False   7 days  "
      ]
     },
     "execution_count": 14,
     "metadata": {},
     "output_type": "execute_result"
    }
   ],
   "source": [
    "petitions['duration'] = petitions['end'] - petitions['start']\n",
    "petitions.sort_values('duration', ascending=True).head(3)"
   ]
  },
  {
   "cell_type": "markdown",
   "metadata": {},
   "source": [
    "#### 청원기간별 건\n",
    "\n",
    "30일이 가장 많고 다음으로 90일, 7일 순이다. "
   ]
  },
  {
   "cell_type": "code",
   "execution_count": 15,
   "metadata": {},
   "outputs": [
    {
     "data": {
      "text/plain": [
       "30 days    163135\n",
       "90 days      6754\n",
       "7 days       2436\n",
       "15 days      1204\n",
       "60 days       806\n",
       "Name: duration, dtype: int64"
      ]
     },
     "execution_count": 15,
     "metadata": {},
     "output_type": "execute_result"
    }
   ],
   "source": [
    "petitions['duration'].value_counts()"
   ]
  },
  {
   "cell_type": "markdown",
   "metadata": {},
   "source": [
    "#### 청원기간이 90일이고 답변 대상 건"
   ]
  },
  {
   "cell_type": "code",
   "execution_count": 16,
   "metadata": {},
   "outputs": [
    {
     "data": {
      "text/html": [
       "<div>\n",
       "<style scoped>\n",
       "    .dataframe tbody tr th:only-of-type {\n",
       "        vertical-align: middle;\n",
       "    }\n",
       "\n",
       "    .dataframe tbody tr th {\n",
       "        vertical-align: top;\n",
       "    }\n",
       "\n",
       "    .dataframe thead th {\n",
       "        text-align: right;\n",
       "    }\n",
       "</style>\n",
       "<table border=\"1\" class=\"dataframe\">\n",
       "  <thead>\n",
       "    <tr style=\"text-align: right;\">\n",
       "      <th></th>\n",
       "      <th>start</th>\n",
       "      <th>end</th>\n",
       "      <th>votes</th>\n",
       "      <th>category</th>\n",
       "      <th>title</th>\n",
       "      <th>content</th>\n",
       "      <th>answer</th>\n",
       "      <th>duration</th>\n",
       "    </tr>\n",
       "    <tr>\n",
       "      <th>article_id</th>\n",
       "      <th></th>\n",
       "      <th></th>\n",
       "      <th></th>\n",
       "      <th></th>\n",
       "      <th></th>\n",
       "      <th></th>\n",
       "      <th></th>\n",
       "      <th></th>\n",
       "    </tr>\n",
       "  </thead>\n",
       "  <tbody>\n",
       "    <tr>\n",
       "      <th>10949</th>\n",
       "      <td>2017-09-06</td>\n",
       "      <td>2017-12-05</td>\n",
       "      <td>615354</td>\n",
       "      <td>미래</td>\n",
       "      <td>조두순 출소반대</td>\n",
       "      <td>제발 조두순 재심다시해서 무기징역으로 해야됩니다!!!</td>\n",
       "      <td>True</td>\n",
       "      <td>90 days</td>\n",
       "    </tr>\n",
       "  </tbody>\n",
       "</table>\n",
       "</div>"
      ],
      "text/plain": [
       "                start        end   votes category     title  \\\n",
       "article_id                                                    \n",
       "10949      2017-09-06 2017-12-05  615354       미래  조두순 출소반대   \n",
       "\n",
       "                                  content  answer duration  \n",
       "article_id                                                  \n",
       "10949       제발 조두순 재심다시해서 무기징역으로 해야됩니다!!!    True  90 days  "
      ]
     },
     "execution_count": 16,
     "metadata": {},
     "output_type": "execute_result"
    }
   ],
   "source": [
    "petitions.loc[(petitions['duration'] == '90 days') & (petitions['answer'] == 1)]"
   ]
  },
  {
   "cell_type": "markdown",
   "metadata": {},
   "source": [
    "#### 청원기간이 60일이고 답변 대상 건"
   ]
  },
  {
   "cell_type": "code",
   "execution_count": 17,
   "metadata": {},
   "outputs": [
    {
     "name": "stdout",
     "output_type": "stream",
     "text": [
      "(1, 8)\n"
     ]
    },
    {
     "data": {
      "text/html": [
       "<div>\n",
       "<style scoped>\n",
       "    .dataframe tbody tr th:only-of-type {\n",
       "        vertical-align: middle;\n",
       "    }\n",
       "\n",
       "    .dataframe tbody tr th {\n",
       "        vertical-align: top;\n",
       "    }\n",
       "\n",
       "    .dataframe thead th {\n",
       "        text-align: right;\n",
       "    }\n",
       "</style>\n",
       "<table border=\"1\" class=\"dataframe\">\n",
       "  <thead>\n",
       "    <tr style=\"text-align: right;\">\n",
       "      <th></th>\n",
       "      <th>start</th>\n",
       "      <th>end</th>\n",
       "      <th>votes</th>\n",
       "      <th>category</th>\n",
       "      <th>title</th>\n",
       "      <th>content</th>\n",
       "      <th>answer</th>\n",
       "      <th>duration</th>\n",
       "    </tr>\n",
       "    <tr>\n",
       "      <th>article_id</th>\n",
       "      <th></th>\n",
       "      <th></th>\n",
       "      <th></th>\n",
       "      <th></th>\n",
       "      <th></th>\n",
       "      <th></th>\n",
       "      <th></th>\n",
       "      <th></th>\n",
       "    </tr>\n",
       "  </thead>\n",
       "  <tbody>\n",
       "    <tr>\n",
       "      <th>1785</th>\n",
       "      <td>2017-09-03</td>\n",
       "      <td>2017-11-02</td>\n",
       "      <td>296330</td>\n",
       "      <td>인권/성평등</td>\n",
       "      <td>청소년이란 이유로 보호법을 악용하는 잔인무도한 청소년들이 늘어나고있습니다. 반드시 ...</td>\n",
       "      <td>안녕하십니까. 청소년보호법이란 명목하에 나쁜짓을 일삼는 청소년들이 너무나 많아지고 ...</td>\n",
       "      <td>True</td>\n",
       "      <td>60 days</td>\n",
       "    </tr>\n",
       "  </tbody>\n",
       "</table>\n",
       "</div>"
      ],
      "text/plain": [
       "                start        end   votes category  \\\n",
       "article_id                                          \n",
       "1785       2017-09-03 2017-11-02  296330   인권/성평등   \n",
       "\n",
       "                                                        title  \\\n",
       "article_id                                                      \n",
       "1785        청소년이란 이유로 보호법을 악용하는 잔인무도한 청소년들이 늘어나고있습니다. 반드시 ...   \n",
       "\n",
       "                                                      content  answer duration  \n",
       "article_id                                                                      \n",
       "1785        안녕하십니까. 청소년보호법이란 명목하에 나쁜짓을 일삼는 청소년들이 너무나 많아지고 ...    True  60 days  "
      ]
     },
     "execution_count": 17,
     "metadata": {},
     "output_type": "execute_result"
    }
   ],
   "source": [
    "petitions_60_answer = petitions.loc[(petitions['duration'] == '60 days') & (petitions['answer'] == 1)]\n",
    "print(petitions_60_answer.shape)\n",
    "petitions_60_answer.head()"
   ]
  },
  {
   "cell_type": "markdown",
   "metadata": {},
   "source": [
    "#### 청원기간이 30일이고 답변 대상 건"
   ]
  },
  {
   "cell_type": "code",
   "execution_count": 18,
   "metadata": {},
   "outputs": [
    {
     "name": "stdout",
     "output_type": "stream",
     "text": [
      "(31, 8)\n"
     ]
    },
    {
     "data": {
      "text/html": [
       "<div>\n",
       "<style scoped>\n",
       "    .dataframe tbody tr th:only-of-type {\n",
       "        vertical-align: middle;\n",
       "    }\n",
       "\n",
       "    .dataframe tbody tr th {\n",
       "        vertical-align: top;\n",
       "    }\n",
       "\n",
       "    .dataframe thead th {\n",
       "        text-align: right;\n",
       "    }\n",
       "</style>\n",
       "<table border=\"1\" class=\"dataframe\">\n",
       "  <thead>\n",
       "    <tr style=\"text-align: right;\">\n",
       "      <th></th>\n",
       "      <th>start</th>\n",
       "      <th>end</th>\n",
       "      <th>votes</th>\n",
       "      <th>category</th>\n",
       "      <th>title</th>\n",
       "      <th>content</th>\n",
       "      <th>answer</th>\n",
       "      <th>duration</th>\n",
       "    </tr>\n",
       "    <tr>\n",
       "      <th>article_id</th>\n",
       "      <th></th>\n",
       "      <th></th>\n",
       "      <th></th>\n",
       "      <th></th>\n",
       "      <th></th>\n",
       "      <th></th>\n",
       "      <th></th>\n",
       "      <th></th>\n",
       "    </tr>\n",
       "  </thead>\n",
       "  <tbody>\n",
       "    <tr>\n",
       "      <th>18278</th>\n",
       "      <td>2017-09-30</td>\n",
       "      <td>2017-10-30</td>\n",
       "      <td>235372</td>\n",
       "      <td>인권/성평등</td>\n",
       "      <td>낙태죄 폐지와 자연유산 유도약(미프진) 합법화 및 도입을 부탁드립니다.</td>\n",
       "      <td>안녕하세요. 존경하는 대통령님 의원님\\n낙태죄 폐지를 청원합니다.\\n현재 대한민국은...</td>\n",
       "      <td>True</td>\n",
       "      <td>30 days</td>\n",
       "    </tr>\n",
       "    <tr>\n",
       "      <th>26024</th>\n",
       "      <td>2017-11-04</td>\n",
       "      <td>2017-12-04</td>\n",
       "      <td>216774</td>\n",
       "      <td>안전/환경</td>\n",
       "      <td>'주취감형(술을 먹으면 형벌 감형)' 폐지를 건의(청원)합니다.</td>\n",
       "      <td>'주취감형'이란, 술을 먹고 범행을 저지를 때, 심신미약 (이성이 없고 우발적)이라...</td>\n",
       "      <td>True</td>\n",
       "      <td>30 days</td>\n",
       "    </tr>\n",
       "    <tr>\n",
       "      <th>45581</th>\n",
       "      <td>2017-11-17</td>\n",
       "      <td>2017-12-17</td>\n",
       "      <td>281985</td>\n",
       "      <td>보건복지</td>\n",
       "      <td>권역외상센터 (이국종 교수님) 추가적, 제도적, 환경적, 인력 지원</td>\n",
       "      <td>청원사항)\\n중증외상분야의 추가적, 제도적, 환경적, 인력 지원 방안마련\\n현 의료...</td>\n",
       "      <td>True</td>\n",
       "      <td>30 days</td>\n",
       "    </tr>\n",
       "    <tr>\n",
       "      <th>49083</th>\n",
       "      <td>2017-11-24</td>\n",
       "      <td>2017-12-24</td>\n",
       "      <td>211064</td>\n",
       "      <td>기타</td>\n",
       "      <td>전안법. 18살, 미성년자에게 정부가 직접 찍어주는 범죄자 낙인!</td>\n",
       "      <td>3년 이하의 징역, 또는3천만원 이하의 벌금. 혹은 500만원 이하의 과태료.\\n설...</td>\n",
       "      <td>True</td>\n",
       "      <td>30 days</td>\n",
       "    </tr>\n",
       "    <tr>\n",
       "      <th>57132</th>\n",
       "      <td>2017-12-03</td>\n",
       "      <td>2018-01-02</td>\n",
       "      <td>255554</td>\n",
       "      <td>성장동력</td>\n",
       "      <td>전안법 합리적으로 개정 또는 폐지해주세요.(소상공인 소비자 모두 죽는법안입니다.)</td>\n",
       "      <td>2017년 1월 28일부터 시행되는 법령으로 국가기술표준원에서 관리하는 전기제품에만...</td>\n",
       "      <td>True</td>\n",
       "      <td>30 days</td>\n",
       "    </tr>\n",
       "  </tbody>\n",
       "</table>\n",
       "</div>"
      ],
      "text/plain": [
       "                start        end   votes category  \\\n",
       "article_id                                          \n",
       "18278      2017-09-30 2017-10-30  235372   인권/성평등   \n",
       "26024      2017-11-04 2017-12-04  216774    안전/환경   \n",
       "45581      2017-11-17 2017-12-17  281985     보건복지   \n",
       "49083      2017-11-24 2017-12-24  211064       기타   \n",
       "57132      2017-12-03 2018-01-02  255554     성장동력   \n",
       "\n",
       "                                                    title  \\\n",
       "article_id                                                  \n",
       "18278             낙태죄 폐지와 자연유산 유도약(미프진) 합법화 및 도입을 부탁드립니다.   \n",
       "26024                 '주취감형(술을 먹으면 형벌 감형)' 폐지를 건의(청원)합니다.   \n",
       "45581               권역외상센터 (이국종 교수님) 추가적, 제도적, 환경적, 인력 지원   \n",
       "49083                전안법. 18살, 미성년자에게 정부가 직접 찍어주는 범죄자 낙인!   \n",
       "57132       전안법 합리적으로 개정 또는 폐지해주세요.(소상공인 소비자 모두 죽는법안입니다.)   \n",
       "\n",
       "                                                      content  answer duration  \n",
       "article_id                                                                      \n",
       "18278       안녕하세요. 존경하는 대통령님 의원님\\n낙태죄 폐지를 청원합니다.\\n현재 대한민국은...    True  30 days  \n",
       "26024       '주취감형'이란, 술을 먹고 범행을 저지를 때, 심신미약 (이성이 없고 우발적)이라...    True  30 days  \n",
       "45581       청원사항)\\n중증외상분야의 추가적, 제도적, 환경적, 인력 지원 방안마련\\n현 의료...    True  30 days  \n",
       "49083       3년 이하의 징역, 또는3천만원 이하의 벌금. 혹은 500만원 이하의 과태료.\\n설...    True  30 days  \n",
       "57132       2017년 1월 28일부터 시행되는 법령으로 국가기술표준원에서 관리하는 전기제품에만...    True  30 days  "
      ]
     },
     "execution_count": 18,
     "metadata": {},
     "output_type": "execute_result"
    }
   ],
   "source": [
    "petitions_30_answer = petitions.loc[(petitions['duration'] == '30 days') & (petitions['answer'] == 1)]\n",
    "print(petitions_30_answer.shape)\n",
    "petitions_30_answer.head()"
   ]
  },
  {
   "cell_type": "markdown",
   "metadata": {},
   "source": [
    "#### 청원기간이 7일이고 답변 대상 건\n",
    "* 청원기간이 7일인데 답변 대상인 건은 없다.\n",
    "* 청원기간이 7일인 데이터의 시작 날짜를 그룹화 해보면 청원 초기(2017년 8월 19일~9월 14일)에는 답변 대기 기간이 7일 이었던 것으로 추정된다."
   ]
  },
  {
   "cell_type": "code",
   "execution_count": 19,
   "metadata": {},
   "outputs": [
    {
     "name": "stdout",
     "output_type": "stream",
     "text": [
      "(0, 8)\n",
      "(2436, 8)\n"
     ]
    },
    {
     "data": {
      "text/html": [
       "<div>\n",
       "<style scoped>\n",
       "    .dataframe tbody tr th:only-of-type {\n",
       "        vertical-align: middle;\n",
       "    }\n",
       "\n",
       "    .dataframe tbody tr th {\n",
       "        vertical-align: top;\n",
       "    }\n",
       "\n",
       "    .dataframe thead th {\n",
       "        text-align: right;\n",
       "    }\n",
       "</style>\n",
       "<table border=\"1\" class=\"dataframe\">\n",
       "  <thead>\n",
       "    <tr style=\"text-align: right;\">\n",
       "      <th></th>\n",
       "      <th>start</th>\n",
       "      <th>count</th>\n",
       "    </tr>\n",
       "  </thead>\n",
       "  <tbody>\n",
       "    <tr>\n",
       "      <th>25</th>\n",
       "      <td>2017-08-19</td>\n",
       "      <td>9</td>\n",
       "    </tr>\n",
       "    <tr>\n",
       "      <th>22</th>\n",
       "      <td>2017-08-20</td>\n",
       "      <td>18</td>\n",
       "    </tr>\n",
       "    <tr>\n",
       "      <th>17</th>\n",
       "      <td>2017-08-21</td>\n",
       "      <td>21</td>\n",
       "    </tr>\n",
       "    <tr>\n",
       "      <th>23</th>\n",
       "      <td>2017-08-22</td>\n",
       "      <td>15</td>\n",
       "    </tr>\n",
       "    <tr>\n",
       "      <th>16</th>\n",
       "      <td>2017-08-23</td>\n",
       "      <td>22</td>\n",
       "    </tr>\n",
       "    <tr>\n",
       "      <th>21</th>\n",
       "      <td>2017-08-24</td>\n",
       "      <td>18</td>\n",
       "    </tr>\n",
       "    <tr>\n",
       "      <th>19</th>\n",
       "      <td>2017-08-25</td>\n",
       "      <td>20</td>\n",
       "    </tr>\n",
       "    <tr>\n",
       "      <th>20</th>\n",
       "      <td>2017-08-26</td>\n",
       "      <td>19</td>\n",
       "    </tr>\n",
       "    <tr>\n",
       "      <th>24</th>\n",
       "      <td>2017-08-27</td>\n",
       "      <td>11</td>\n",
       "    </tr>\n",
       "    <tr>\n",
       "      <th>15</th>\n",
       "      <td>2017-08-28</td>\n",
       "      <td>24</td>\n",
       "    </tr>\n",
       "    <tr>\n",
       "      <th>14</th>\n",
       "      <td>2017-08-29</td>\n",
       "      <td>27</td>\n",
       "    </tr>\n",
       "    <tr>\n",
       "      <th>9</th>\n",
       "      <td>2017-08-30</td>\n",
       "      <td>40</td>\n",
       "    </tr>\n",
       "    <tr>\n",
       "      <th>12</th>\n",
       "      <td>2017-08-31</td>\n",
       "      <td>37</td>\n",
       "    </tr>\n",
       "    <tr>\n",
       "      <th>6</th>\n",
       "      <td>2017-09-01</td>\n",
       "      <td>52</td>\n",
       "    </tr>\n",
       "    <tr>\n",
       "      <th>10</th>\n",
       "      <td>2017-09-02</td>\n",
       "      <td>39</td>\n",
       "    </tr>\n",
       "    <tr>\n",
       "      <th>5</th>\n",
       "      <td>2017-09-03</td>\n",
       "      <td>53</td>\n",
       "    </tr>\n",
       "    <tr>\n",
       "      <th>2</th>\n",
       "      <td>2017-09-04</td>\n",
       "      <td>331</td>\n",
       "    </tr>\n",
       "    <tr>\n",
       "      <th>0</th>\n",
       "      <td>2017-09-05</td>\n",
       "      <td>942</td>\n",
       "    </tr>\n",
       "    <tr>\n",
       "      <th>1</th>\n",
       "      <td>2017-09-06</td>\n",
       "      <td>335</td>\n",
       "    </tr>\n",
       "    <tr>\n",
       "      <th>3</th>\n",
       "      <td>2017-09-07</td>\n",
       "      <td>129</td>\n",
       "    </tr>\n",
       "    <tr>\n",
       "      <th>4</th>\n",
       "      <td>2017-09-08</td>\n",
       "      <td>94</td>\n",
       "    </tr>\n",
       "    <tr>\n",
       "      <th>7</th>\n",
       "      <td>2017-09-09</td>\n",
       "      <td>43</td>\n",
       "    </tr>\n",
       "    <tr>\n",
       "      <th>13</th>\n",
       "      <td>2017-09-10</td>\n",
       "      <td>32</td>\n",
       "    </tr>\n",
       "    <tr>\n",
       "      <th>18</th>\n",
       "      <td>2017-09-11</td>\n",
       "      <td>20</td>\n",
       "    </tr>\n",
       "    <tr>\n",
       "      <th>8</th>\n",
       "      <td>2017-09-12</td>\n",
       "      <td>41</td>\n",
       "    </tr>\n",
       "    <tr>\n",
       "      <th>11</th>\n",
       "      <td>2017-09-13</td>\n",
       "      <td>37</td>\n",
       "    </tr>\n",
       "    <tr>\n",
       "      <th>26</th>\n",
       "      <td>2017-09-14</td>\n",
       "      <td>7</td>\n",
       "    </tr>\n",
       "  </tbody>\n",
       "</table>\n",
       "</div>"
      ],
      "text/plain": [
       "        start  count\n",
       "25 2017-08-19      9\n",
       "22 2017-08-20     18\n",
       "17 2017-08-21     21\n",
       "23 2017-08-22     15\n",
       "16 2017-08-23     22\n",
       "21 2017-08-24     18\n",
       "19 2017-08-25     20\n",
       "20 2017-08-26     19\n",
       "24 2017-08-27     11\n",
       "15 2017-08-28     24\n",
       "14 2017-08-29     27\n",
       "9  2017-08-30     40\n",
       "12 2017-08-31     37\n",
       "6  2017-09-01     52\n",
       "10 2017-09-02     39\n",
       "5  2017-09-03     53\n",
       "2  2017-09-04    331\n",
       "0  2017-09-05    942\n",
       "1  2017-09-06    335\n",
       "3  2017-09-07    129\n",
       "4  2017-09-08     94\n",
       "7  2017-09-09     43\n",
       "13 2017-09-10     32\n",
       "18 2017-09-11     20\n",
       "8  2017-09-12     41\n",
       "11 2017-09-13     37\n",
       "26 2017-09-14      7"
      ]
     },
     "execution_count": 19,
     "metadata": {},
     "output_type": "execute_result"
    }
   ],
   "source": [
    "petitions_7_answer = petitions.loc[(petitions['duration'] == '7 days') & (petitions['answer'] == 1)]\n",
    "print(petitions_7_answer.shape)\n",
    "petitions_7 = petitions.loc[(petitions['duration'] == '7 days')]\n",
    "print(petitions_7.shape)\n",
    "petitions_7_count = petitions_7['start'].value_counts().reset_index()\n",
    "petitions_7_count.columns = ['start', 'count']\n",
    "petitions_7_count.sort_values('start', ascending=True)"
   ]
  },
  {
   "cell_type": "markdown",
   "metadata": {},
   "source": [
    "## Groupby 메서드 사용하기\n",
    "\n",
    "https://pandas.pydata.org/pandas-docs/stable/api.html#groupby"
   ]
  },
  {
   "cell_type": "markdown",
   "metadata": {},
   "source": [
    "## 어느 분야의 청원이 가장 많이 들어왔는지\n",
    "* pandas의 value_counts로 특정 컬럼의 데이터를 그룹화하여 카운된 숫자를 볼 수 있다.\n",
    "* 이 데이터로는 정치개혁과 관련된 국민청원이 가장 많다는 것을 알 수 있다."
   ]
  },
  {
   "cell_type": "code",
   "execution_count": 20,
   "metadata": {},
   "outputs": [
    {
     "data": {
      "text/html": [
       "<div>\n",
       "<style scoped>\n",
       "    .dataframe tbody tr th:only-of-type {\n",
       "        vertical-align: middle;\n",
       "    }\n",
       "\n",
       "    .dataframe tbody tr th {\n",
       "        vertical-align: top;\n",
       "    }\n",
       "\n",
       "    .dataframe thead th {\n",
       "        text-align: right;\n",
       "    }\n",
       "</style>\n",
       "<table border=\"1\" class=\"dataframe\">\n",
       "  <thead>\n",
       "    <tr style=\"text-align: right;\">\n",
       "      <th></th>\n",
       "      <th>category</th>\n",
       "      <th>counts</th>\n",
       "    </tr>\n",
       "  </thead>\n",
       "  <tbody>\n",
       "    <tr>\n",
       "      <th>0</th>\n",
       "      <td>정치개혁</td>\n",
       "      <td>32293</td>\n",
       "    </tr>\n",
       "    <tr>\n",
       "      <th>1</th>\n",
       "      <td>기타</td>\n",
       "      <td>21053</td>\n",
       "    </tr>\n",
       "    <tr>\n",
       "      <th>2</th>\n",
       "      <td>인권/성평등</td>\n",
       "      <td>17266</td>\n",
       "    </tr>\n",
       "    <tr>\n",
       "      <th>3</th>\n",
       "      <td>안전/환경</td>\n",
       "      <td>13285</td>\n",
       "    </tr>\n",
       "    <tr>\n",
       "      <th>4</th>\n",
       "      <td>육아/교육</td>\n",
       "      <td>12615</td>\n",
       "    </tr>\n",
       "    <tr>\n",
       "      <th>5</th>\n",
       "      <td>외교/통일/국방</td>\n",
       "      <td>11101</td>\n",
       "    </tr>\n",
       "    <tr>\n",
       "      <th>6</th>\n",
       "      <td>보건복지</td>\n",
       "      <td>9649</td>\n",
       "    </tr>\n",
       "    <tr>\n",
       "      <th>7</th>\n",
       "      <td>문화/예술/체육/언론</td>\n",
       "      <td>8972</td>\n",
       "    </tr>\n",
       "    <tr>\n",
       "      <th>8</th>\n",
       "      <td>행정</td>\n",
       "      <td>8908</td>\n",
       "    </tr>\n",
       "    <tr>\n",
       "      <th>9</th>\n",
       "      <td>일자리</td>\n",
       "      <td>8328</td>\n",
       "    </tr>\n",
       "    <tr>\n",
       "      <th>10</th>\n",
       "      <td>교통/건축/국토</td>\n",
       "      <td>8193</td>\n",
       "    </tr>\n",
       "    <tr>\n",
       "      <th>11</th>\n",
       "      <td>미래</td>\n",
       "      <td>8141</td>\n",
       "    </tr>\n",
       "    <tr>\n",
       "      <th>12</th>\n",
       "      <td>경제민주화</td>\n",
       "      <td>7206</td>\n",
       "    </tr>\n",
       "    <tr>\n",
       "      <th>13</th>\n",
       "      <td>성장동력</td>\n",
       "      <td>3445</td>\n",
       "    </tr>\n",
       "    <tr>\n",
       "      <th>14</th>\n",
       "      <td>반려동물</td>\n",
       "      <td>1623</td>\n",
       "    </tr>\n",
       "    <tr>\n",
       "      <th>15</th>\n",
       "      <td>저출산/고령화대책</td>\n",
       "      <td>1525</td>\n",
       "    </tr>\n",
       "    <tr>\n",
       "      <th>16</th>\n",
       "      <td>농산어촌</td>\n",
       "      <td>732</td>\n",
       "    </tr>\n",
       "  </tbody>\n",
       "</table>\n",
       "</div>"
      ],
      "text/plain": [
       "       category  counts\n",
       "0          정치개혁   32293\n",
       "1            기타   21053\n",
       "2        인권/성평등   17266\n",
       "3         안전/환경   13285\n",
       "4         육아/교육   12615\n",
       "5      외교/통일/국방   11101\n",
       "6          보건복지    9649\n",
       "7   문화/예술/체육/언론    8972\n",
       "8            행정    8908\n",
       "9           일자리    8328\n",
       "10     교통/건축/국토    8193\n",
       "11           미래    8141\n",
       "12        경제민주화    7206\n",
       "13         성장동력    3445\n",
       "14         반려동물    1623\n",
       "15    저출산/고령화대책    1525\n",
       "16         농산어촌     732"
      ]
     },
     "execution_count": 20,
     "metadata": {},
     "output_type": "execute_result"
    }
   ],
   "source": [
    "category = pd.DataFrame(petitions['category'].value_counts()).reset_index()\n",
    "category.columns = ['category', 'counts']\n",
    "category"
   ]
  },
  {
   "cell_type": "markdown",
   "metadata": {},
   "source": [
    "## 청원이 얼마 동안 집계되었는지\n",
    "청원이 가장 많이 들어 온 날은 언제인지 정렬해 본다."
   ]
  },
  {
   "cell_type": "code",
   "execution_count": 21,
   "metadata": {},
   "outputs": [
    {
     "name": "stdout",
     "output_type": "stream",
     "text": [
      "청원 집계: 255일\n"
     ]
    },
    {
     "data": {
      "text/html": [
       "<div>\n",
       "<style scoped>\n",
       "    .dataframe tbody tr th:only-of-type {\n",
       "        vertical-align: middle;\n",
       "    }\n",
       "\n",
       "    .dataframe tbody tr th {\n",
       "        vertical-align: top;\n",
       "    }\n",
       "\n",
       "    .dataframe thead th {\n",
       "        text-align: right;\n",
       "    }\n",
       "</style>\n",
       "<table border=\"1\" class=\"dataframe\">\n",
       "  <thead>\n",
       "    <tr style=\"text-align: right;\">\n",
       "      <th></th>\n",
       "      <th>start</th>\n",
       "      <th>counts</th>\n",
       "    </tr>\n",
       "  </thead>\n",
       "  <tbody>\n",
       "    <tr>\n",
       "      <th>0</th>\n",
       "      <td>2017-11-11</td>\n",
       "      <td>9623</td>\n",
       "    </tr>\n",
       "    <tr>\n",
       "      <th>1</th>\n",
       "      <td>2017-09-05</td>\n",
       "      <td>5952</td>\n",
       "    </tr>\n",
       "    <tr>\n",
       "      <th>2</th>\n",
       "      <td>2018-01-11</td>\n",
       "      <td>3368</td>\n",
       "    </tr>\n",
       "    <tr>\n",
       "      <th>3</th>\n",
       "      <td>2018-02-06</td>\n",
       "      <td>2631</td>\n",
       "    </tr>\n",
       "    <tr>\n",
       "      <th>4</th>\n",
       "      <td>2017-11-09</td>\n",
       "      <td>2487</td>\n",
       "    </tr>\n",
       "  </tbody>\n",
       "</table>\n",
       "</div>"
      ],
      "text/plain": [
       "       start  counts\n",
       "0 2017-11-11    9623\n",
       "1 2017-09-05    5952\n",
       "2 2018-01-11    3368\n",
       "3 2018-02-06    2631\n",
       "4 2017-11-09    2487"
      ]
     },
     "execution_count": 21,
     "metadata": {},
     "output_type": "execute_result"
    }
   ],
   "source": [
    "start_df = pd.DataFrame(petitions['start'].value_counts()).reset_index()\n",
    "start_df.columns = ['start', 'counts']\n",
    "start_df = start_df.sort_values('counts', ascending=False)\n",
    "print('청원 집계: {}일'.format(start_df.shape[0]))\n",
    "start_df.head()"
   ]
  },
  {
   "cell_type": "markdown",
   "metadata": {},
   "source": [
    "## 피봇 테이블로 투표를 가장 많이 받은 분야 보기"
   ]
  },
  {
   "cell_type": "code",
   "execution_count": 22,
   "metadata": {},
   "outputs": [
    {
     "data": {
      "text/html": [
       "<div>\n",
       "<style scoped>\n",
       "    .dataframe tbody tr th:only-of-type {\n",
       "        vertical-align: middle;\n",
       "    }\n",
       "\n",
       "    .dataframe tbody tr th {\n",
       "        vertical-align: top;\n",
       "    }\n",
       "\n",
       "    .dataframe thead th {\n",
       "        text-align: right;\n",
       "    }\n",
       "</style>\n",
       "<table border=\"1\" class=\"dataframe\">\n",
       "  <thead>\n",
       "    <tr style=\"text-align: right;\">\n",
       "      <th></th>\n",
       "      <th>category</th>\n",
       "      <th>answer</th>\n",
       "      <th>votes</th>\n",
       "    </tr>\n",
       "  </thead>\n",
       "  <tbody>\n",
       "    <tr>\n",
       "      <th>0</th>\n",
       "      <td>인권/성평등</td>\n",
       "      <td>7.0</td>\n",
       "      <td>3949918</td>\n",
       "    </tr>\n",
       "    <tr>\n",
       "      <th>1</th>\n",
       "      <td>문화/예술/체육/언론</td>\n",
       "      <td>4.0</td>\n",
       "      <td>2691330</td>\n",
       "    </tr>\n",
       "    <tr>\n",
       "      <th>2</th>\n",
       "      <td>정치개혁</td>\n",
       "      <td>3.0</td>\n",
       "      <td>2433179</td>\n",
       "    </tr>\n",
       "    <tr>\n",
       "      <th>3</th>\n",
       "      <td>안전/환경</td>\n",
       "      <td>5.0</td>\n",
       "      <td>2292037</td>\n",
       "    </tr>\n",
       "    <tr>\n",
       "      <th>4</th>\n",
       "      <td>보건복지</td>\n",
       "      <td>2.0</td>\n",
       "      <td>2281979</td>\n",
       "    </tr>\n",
       "    <tr>\n",
       "      <th>5</th>\n",
       "      <td>기타</td>\n",
       "      <td>3.0</td>\n",
       "      <td>1990797</td>\n",
       "    </tr>\n",
       "    <tr>\n",
       "      <th>6</th>\n",
       "      <td>육아/교육</td>\n",
       "      <td>1.0</td>\n",
       "      <td>1555638</td>\n",
       "    </tr>\n",
       "    <tr>\n",
       "      <th>7</th>\n",
       "      <td>외교/통일/국방</td>\n",
       "      <td>1.0</td>\n",
       "      <td>1066540</td>\n",
       "    </tr>\n",
       "    <tr>\n",
       "      <th>8</th>\n",
       "      <td>경제민주화</td>\n",
       "      <td>2.0</td>\n",
       "      <td>975330</td>\n",
       "    </tr>\n",
       "    <tr>\n",
       "      <th>9</th>\n",
       "      <td>교통/건축/국토</td>\n",
       "      <td>1.0</td>\n",
       "      <td>959123</td>\n",
       "    </tr>\n",
       "    <tr>\n",
       "      <th>10</th>\n",
       "      <td>미래</td>\n",
       "      <td>1.0</td>\n",
       "      <td>830164</td>\n",
       "    </tr>\n",
       "    <tr>\n",
       "      <th>11</th>\n",
       "      <td>행정</td>\n",
       "      <td>1.0</td>\n",
       "      <td>805286</td>\n",
       "    </tr>\n",
       "    <tr>\n",
       "      <th>12</th>\n",
       "      <td>성장동력</td>\n",
       "      <td>2.0</td>\n",
       "      <td>663189</td>\n",
       "    </tr>\n",
       "    <tr>\n",
       "      <th>13</th>\n",
       "      <td>반려동물</td>\n",
       "      <td>0.0</td>\n",
       "      <td>620112</td>\n",
       "    </tr>\n",
       "    <tr>\n",
       "      <th>14</th>\n",
       "      <td>일자리</td>\n",
       "      <td>0.0</td>\n",
       "      <td>502827</td>\n",
       "    </tr>\n",
       "    <tr>\n",
       "      <th>15</th>\n",
       "      <td>농산어촌</td>\n",
       "      <td>0.0</td>\n",
       "      <td>76065</td>\n",
       "    </tr>\n",
       "    <tr>\n",
       "      <th>16</th>\n",
       "      <td>저출산/고령화대책</td>\n",
       "      <td>0.0</td>\n",
       "      <td>70497</td>\n",
       "    </tr>\n",
       "  </tbody>\n",
       "</table>\n",
       "</div>"
      ],
      "text/plain": [
       "       category  answer    votes\n",
       "0        인권/성평등     7.0  3949918\n",
       "1   문화/예술/체육/언론     4.0  2691330\n",
       "2          정치개혁     3.0  2433179\n",
       "3         안전/환경     5.0  2292037\n",
       "4          보건복지     2.0  2281979\n",
       "5            기타     3.0  1990797\n",
       "6         육아/교육     1.0  1555638\n",
       "7      외교/통일/국방     1.0  1066540\n",
       "8         경제민주화     2.0   975330\n",
       "9      교통/건축/국토     1.0   959123\n",
       "10           미래     1.0   830164\n",
       "11           행정     1.0   805286\n",
       "12         성장동력     2.0   663189\n",
       "13         반려동물     0.0   620112\n",
       "14          일자리     0.0   502827\n",
       "15         농산어촌     0.0    76065\n",
       "16    저출산/고령화대책     0.0    70497"
      ]
     },
     "execution_count": 22,
     "metadata": {},
     "output_type": "execute_result"
    }
   ],
   "source": [
    "petitions_unique = pd.pivot_table(petitions, index=['category'], aggfunc=np.sum)\n",
    "petitions_best = petitions_unique.sort_values(by='votes', ascending=False).reset_index()\n",
    "petitions_best"
   ]
  },
  {
   "cell_type": "markdown",
   "metadata": {},
   "source": [
    "## 투표를 가장 많이 받은 날"
   ]
  },
  {
   "cell_type": "code",
   "execution_count": 23,
   "metadata": {},
   "outputs": [
    {
     "data": {
      "text/html": [
       "<div>\n",
       "<style scoped>\n",
       "    .dataframe tbody tr th:only-of-type {\n",
       "        vertical-align: middle;\n",
       "    }\n",
       "\n",
       "    .dataframe tbody tr th {\n",
       "        vertical-align: top;\n",
       "    }\n",
       "\n",
       "    .dataframe thead th {\n",
       "        text-align: right;\n",
       "    }\n",
       "</style>\n",
       "<table border=\"1\" class=\"dataframe\">\n",
       "  <thead>\n",
       "    <tr style=\"text-align: right;\">\n",
       "      <th></th>\n",
       "      <th>answer</th>\n",
       "      <th>votes</th>\n",
       "    </tr>\n",
       "    <tr>\n",
       "      <th>start</th>\n",
       "      <th></th>\n",
       "      <th></th>\n",
       "    </tr>\n",
       "  </thead>\n",
       "  <tbody>\n",
       "    <tr>\n",
       "      <th>2018-02-19</th>\n",
       "      <td>1.0</td>\n",
       "      <td>701520</td>\n",
       "    </tr>\n",
       "    <tr>\n",
       "      <th>2017-09-06</th>\n",
       "      <td>1.0</td>\n",
       "      <td>648209</td>\n",
       "    </tr>\n",
       "    <tr>\n",
       "      <th>2018-02-23</th>\n",
       "      <td>2.0</td>\n",
       "      <td>608530</td>\n",
       "    </tr>\n",
       "    <tr>\n",
       "      <th>2018-04-17</th>\n",
       "      <td>1.0</td>\n",
       "      <td>446950</td>\n",
       "    </tr>\n",
       "    <tr>\n",
       "      <th>2017-09-03</th>\n",
       "      <td>1.0</td>\n",
       "      <td>433356</td>\n",
       "    </tr>\n",
       "    <tr>\n",
       "      <th>2018-01-20</th>\n",
       "      <td>1.0</td>\n",
       "      <td>399683</td>\n",
       "    </tr>\n",
       "    <tr>\n",
       "      <th>2017-11-17</th>\n",
       "      <td>1.0</td>\n",
       "      <td>393348</td>\n",
       "    </tr>\n",
       "    <tr>\n",
       "      <th>2017-11-24</th>\n",
       "      <td>1.0</td>\n",
       "      <td>392782</td>\n",
       "    </tr>\n",
       "    <tr>\n",
       "      <th>2018-03-24</th>\n",
       "      <td>1.0</td>\n",
       "      <td>385480</td>\n",
       "    </tr>\n",
       "    <tr>\n",
       "      <th>2018-03-03</th>\n",
       "      <td>1.0</td>\n",
       "      <td>380016</td>\n",
       "    </tr>\n",
       "    <tr>\n",
       "      <th>2018-01-15</th>\n",
       "      <td>1.0</td>\n",
       "      <td>376187</td>\n",
       "    </tr>\n",
       "    <tr>\n",
       "      <th>2018-04-16</th>\n",
       "      <td>1.0</td>\n",
       "      <td>369318</td>\n",
       "    </tr>\n",
       "    <tr>\n",
       "      <th>2018-01-25</th>\n",
       "      <td>1.0</td>\n",
       "      <td>364926</td>\n",
       "    </tr>\n",
       "  </tbody>\n",
       "</table>\n",
       "</div>"
      ],
      "text/plain": [
       "            answer   votes\n",
       "start                     \n",
       "2018-02-19     1.0  701520\n",
       "2017-09-06     1.0  648209\n",
       "2018-02-23     2.0  608530\n",
       "2018-04-17     1.0  446950\n",
       "2017-09-03     1.0  433356\n",
       "2018-01-20     1.0  399683\n",
       "2017-11-17     1.0  393348\n",
       "2017-11-24     1.0  392782\n",
       "2018-03-24     1.0  385480\n",
       "2018-03-03     1.0  380016\n",
       "2018-01-15     1.0  376187\n",
       "2018-04-16     1.0  369318\n",
       "2018-01-25     1.0  364926"
      ]
     },
     "execution_count": 23,
     "metadata": {},
     "output_type": "execute_result"
    }
   ],
   "source": [
    "petitions_start = pd.pivot_table(petitions, index=['start'], aggfunc=np.sum)\n",
    "votes_df = petitions_start.sort_values(by='votes', ascending=False)\n",
    "votes_df.loc[petitions_start['votes'] > 350000]"
   ]
  },
  {
   "cell_type": "markdown",
   "metadata": {},
   "source": [
    "## 청원을 많이 받은 날 VS 투표를 많이 받은 날"
   ]
  },
  {
   "cell_type": "code",
   "execution_count": 24,
   "metadata": {},
   "outputs": [],
   "source": [
    "# 두 개의 데이터프레임을 합치기 위해 인덱스를 생성한다.\n",
    "votes_df = votes_df.reset_index()"
   ]
  },
  {
   "cell_type": "code",
   "execution_count": 25,
   "metadata": {},
   "outputs": [
    {
     "data": {
      "text/html": [
       "<div>\n",
       "<style scoped>\n",
       "    .dataframe tbody tr th:only-of-type {\n",
       "        vertical-align: middle;\n",
       "    }\n",
       "\n",
       "    .dataframe tbody tr th {\n",
       "        vertical-align: top;\n",
       "    }\n",
       "\n",
       "    .dataframe thead th {\n",
       "        text-align: right;\n",
       "    }\n",
       "</style>\n",
       "<table border=\"1\" class=\"dataframe\">\n",
       "  <thead>\n",
       "    <tr style=\"text-align: right;\">\n",
       "      <th></th>\n",
       "      <th>start</th>\n",
       "      <th>counts</th>\n",
       "      <th>answer</th>\n",
       "      <th>votes</th>\n",
       "    </tr>\n",
       "  </thead>\n",
       "  <tbody>\n",
       "    <tr>\n",
       "      <th>91</th>\n",
       "      <td>2018-02-19</td>\n",
       "      <td>698</td>\n",
       "      <td>1.0</td>\n",
       "      <td>701520</td>\n",
       "    </tr>\n",
       "    <tr>\n",
       "      <th>6</th>\n",
       "      <td>2017-09-06</td>\n",
       "      <td>2121</td>\n",
       "      <td>1.0</td>\n",
       "      <td>648209</td>\n",
       "    </tr>\n",
       "    <tr>\n",
       "      <th>25</th>\n",
       "      <td>2018-02-23</td>\n",
       "      <td>1135</td>\n",
       "      <td>2.0</td>\n",
       "      <td>608530</td>\n",
       "    </tr>\n",
       "    <tr>\n",
       "      <th>22</th>\n",
       "      <td>2018-04-17</td>\n",
       "      <td>1145</td>\n",
       "      <td>1.0</td>\n",
       "      <td>446950</td>\n",
       "    </tr>\n",
       "    <tr>\n",
       "      <th>201</th>\n",
       "      <td>2017-09-03</td>\n",
       "      <td>230</td>\n",
       "      <td>1.0</td>\n",
       "      <td>433356</td>\n",
       "    </tr>\n",
       "  </tbody>\n",
       "</table>\n",
       "</div>"
      ],
      "text/plain": [
       "         start  counts  answer   votes\n",
       "91  2018-02-19     698     1.0  701520\n",
       "6   2017-09-06    2121     1.0  648209\n",
       "25  2018-02-23    1135     2.0  608530\n",
       "22  2018-04-17    1145     1.0  446950\n",
       "201 2017-09-03     230     1.0  433356"
      ]
     },
     "execution_count": 25,
     "metadata": {},
     "output_type": "execute_result"
    }
   ],
   "source": [
    "hottest_day_df = start_df.merge(votes_df, on='start', how='left')\n",
    "hottest_day_df.sort_values('votes', ascending=False)[:5]"
   ]
  },
  {
   "cell_type": "code",
   "execution_count": 26,
   "metadata": {},
   "outputs": [
    {
     "data": {
      "text/html": [
       "<div>\n",
       "<style scoped>\n",
       "    .dataframe tbody tr th:only-of-type {\n",
       "        vertical-align: middle;\n",
       "    }\n",
       "\n",
       "    .dataframe tbody tr th {\n",
       "        vertical-align: top;\n",
       "    }\n",
       "\n",
       "    .dataframe thead th {\n",
       "        text-align: right;\n",
       "    }\n",
       "</style>\n",
       "<table border=\"1\" class=\"dataframe\">\n",
       "  <thead>\n",
       "    <tr style=\"text-align: right;\">\n",
       "      <th></th>\n",
       "      <th>start</th>\n",
       "      <th>counts</th>\n",
       "      <th>answer</th>\n",
       "      <th>votes</th>\n",
       "    </tr>\n",
       "  </thead>\n",
       "  <tbody>\n",
       "    <tr>\n",
       "      <th>0</th>\n",
       "      <td>2017-11-11</td>\n",
       "      <td>9623</td>\n",
       "      <td>0.0</td>\n",
       "      <td>85074</td>\n",
       "    </tr>\n",
       "    <tr>\n",
       "      <th>1</th>\n",
       "      <td>2017-09-05</td>\n",
       "      <td>5952</td>\n",
       "      <td>0.0</td>\n",
       "      <td>48808</td>\n",
       "    </tr>\n",
       "    <tr>\n",
       "      <th>2</th>\n",
       "      <td>2018-01-11</td>\n",
       "      <td>3368</td>\n",
       "      <td>0.0</td>\n",
       "      <td>44570</td>\n",
       "    </tr>\n",
       "    <tr>\n",
       "      <th>3</th>\n",
       "      <td>2018-02-06</td>\n",
       "      <td>2631</td>\n",
       "      <td>0.0</td>\n",
       "      <td>83038</td>\n",
       "    </tr>\n",
       "    <tr>\n",
       "      <th>4</th>\n",
       "      <td>2017-11-09</td>\n",
       "      <td>2487</td>\n",
       "      <td>0.0</td>\n",
       "      <td>34774</td>\n",
       "    </tr>\n",
       "  </tbody>\n",
       "</table>\n",
       "</div>"
      ],
      "text/plain": [
       "       start  counts  answer  votes\n",
       "0 2017-11-11    9623     0.0  85074\n",
       "1 2017-09-05    5952     0.0  48808\n",
       "2 2018-01-11    3368     0.0  44570\n",
       "3 2018-02-06    2631     0.0  83038\n",
       "4 2017-11-09    2487     0.0  34774"
      ]
     },
     "execution_count": 26,
     "metadata": {},
     "output_type": "execute_result"
    }
   ],
   "source": [
    "hottest_day_df.sort_values('counts', ascending=False)[:5]"
   ]
  },
  {
   "cell_type": "markdown",
   "metadata": {},
   "source": [
    "## 답변 대상 청원\n",
    "- 20만건 이상의 투표를 받으면 답변을 받을 수 있는 청원이 된다."
   ]
  },
  {
   "cell_type": "code",
   "execution_count": 27,
   "metadata": {},
   "outputs": [
    {
     "name": "stdout",
     "output_type": "stream",
     "text": [
      "답변 대상 청원: 33건\n"
     ]
    }
   ],
   "source": [
    "answered_df = petitions.loc[petitions['votes'] > 200000]\n",
    "print('답변 대상 청원: {}건'.format(answered_df.shape[0]))"
   ]
  },
  {
   "cell_type": "code",
   "execution_count": 28,
   "metadata": {},
   "outputs": [
    {
     "data": {
      "text/html": [
       "<div>\n",
       "<style scoped>\n",
       "    .dataframe tbody tr th:only-of-type {\n",
       "        vertical-align: middle;\n",
       "    }\n",
       "\n",
       "    .dataframe tbody tr th {\n",
       "        vertical-align: top;\n",
       "    }\n",
       "\n",
       "    .dataframe thead th {\n",
       "        text-align: right;\n",
       "    }\n",
       "</style>\n",
       "<table border=\"1\" class=\"dataframe\">\n",
       "  <thead>\n",
       "    <tr style=\"text-align: right;\">\n",
       "      <th></th>\n",
       "      <th>start</th>\n",
       "      <th>end</th>\n",
       "      <th>votes</th>\n",
       "      <th>category</th>\n",
       "      <th>title</th>\n",
       "      <th>content</th>\n",
       "      <th>answer</th>\n",
       "      <th>duration</th>\n",
       "    </tr>\n",
       "    <tr>\n",
       "      <th>article_id</th>\n",
       "      <th></th>\n",
       "      <th></th>\n",
       "      <th></th>\n",
       "      <th></th>\n",
       "      <th></th>\n",
       "      <th></th>\n",
       "      <th></th>\n",
       "      <th></th>\n",
       "    </tr>\n",
       "  </thead>\n",
       "  <tbody>\n",
       "    <tr>\n",
       "      <th>1785</th>\n",
       "      <td>2017-09-03</td>\n",
       "      <td>2017-11-02</td>\n",
       "      <td>296330</td>\n",
       "      <td>인권/성평등</td>\n",
       "      <td>청소년이란 이유로 보호법을 악용하는 잔인무도한 청소년들이 늘어나고있습니다. 반드시 ...</td>\n",
       "      <td>안녕하십니까. 청소년보호법이란 명목하에 나쁜짓을 일삼는 청소년들이 너무나 많아지고 ...</td>\n",
       "      <td>True</td>\n",
       "      <td>60 days</td>\n",
       "    </tr>\n",
       "    <tr>\n",
       "      <th>10949</th>\n",
       "      <td>2017-09-06</td>\n",
       "      <td>2017-12-05</td>\n",
       "      <td>615354</td>\n",
       "      <td>미래</td>\n",
       "      <td>조두순 출소반대</td>\n",
       "      <td>제발 조두순 재심다시해서 무기징역으로 해야됩니다!!!</td>\n",
       "      <td>True</td>\n",
       "      <td>90 days</td>\n",
       "    </tr>\n",
       "    <tr>\n",
       "      <th>18278</th>\n",
       "      <td>2017-09-30</td>\n",
       "      <td>2017-10-30</td>\n",
       "      <td>235372</td>\n",
       "      <td>인권/성평등</td>\n",
       "      <td>낙태죄 폐지와 자연유산 유도약(미프진) 합법화 및 도입을 부탁드립니다.</td>\n",
       "      <td>안녕하세요. 존경하는 대통령님 의원님\\n낙태죄 폐지를 청원합니다.\\n현재 대한민국은...</td>\n",
       "      <td>True</td>\n",
       "      <td>30 days</td>\n",
       "    </tr>\n",
       "    <tr>\n",
       "      <th>26024</th>\n",
       "      <td>2017-11-04</td>\n",
       "      <td>2017-12-04</td>\n",
       "      <td>216774</td>\n",
       "      <td>안전/환경</td>\n",
       "      <td>'주취감형(술을 먹으면 형벌 감형)' 폐지를 건의(청원)합니다.</td>\n",
       "      <td>'주취감형'이란, 술을 먹고 범행을 저지를 때, 심신미약 (이성이 없고 우발적)이라...</td>\n",
       "      <td>True</td>\n",
       "      <td>30 days</td>\n",
       "    </tr>\n",
       "    <tr>\n",
       "      <th>45581</th>\n",
       "      <td>2017-11-17</td>\n",
       "      <td>2017-12-17</td>\n",
       "      <td>281985</td>\n",
       "      <td>보건복지</td>\n",
       "      <td>권역외상센터 (이국종 교수님) 추가적, 제도적, 환경적, 인력 지원</td>\n",
       "      <td>청원사항)\\n중증외상분야의 추가적, 제도적, 환경적, 인력 지원 방안마련\\n현 의료...</td>\n",
       "      <td>True</td>\n",
       "      <td>30 days</td>\n",
       "    </tr>\n",
       "  </tbody>\n",
       "</table>\n",
       "</div>"
      ],
      "text/plain": [
       "                start        end   votes category  \\\n",
       "article_id                                          \n",
       "1785       2017-09-03 2017-11-02  296330   인권/성평등   \n",
       "10949      2017-09-06 2017-12-05  615354       미래   \n",
       "18278      2017-09-30 2017-10-30  235372   인권/성평등   \n",
       "26024      2017-11-04 2017-12-04  216774    안전/환경   \n",
       "45581      2017-11-17 2017-12-17  281985     보건복지   \n",
       "\n",
       "                                                        title  \\\n",
       "article_id                                                      \n",
       "1785        청소년이란 이유로 보호법을 악용하는 잔인무도한 청소년들이 늘어나고있습니다. 반드시 ...   \n",
       "10949                                                조두순 출소반대   \n",
       "18278                 낙태죄 폐지와 자연유산 유도약(미프진) 합법화 및 도입을 부탁드립니다.   \n",
       "26024                     '주취감형(술을 먹으면 형벌 감형)' 폐지를 건의(청원)합니다.   \n",
       "45581                   권역외상센터 (이국종 교수님) 추가적, 제도적, 환경적, 인력 지원   \n",
       "\n",
       "                                                      content  answer duration  \n",
       "article_id                                                                      \n",
       "1785        안녕하십니까. 청소년보호법이란 명목하에 나쁜짓을 일삼는 청소년들이 너무나 많아지고 ...    True  60 days  \n",
       "10949                           제발 조두순 재심다시해서 무기징역으로 해야됩니다!!!    True  90 days  \n",
       "18278       안녕하세요. 존경하는 대통령님 의원님\\n낙태죄 폐지를 청원합니다.\\n현재 대한민국은...    True  30 days  \n",
       "26024       '주취감형'이란, 술을 먹고 범행을 저지를 때, 심신미약 (이성이 없고 우발적)이라...    True  30 days  \n",
       "45581       청원사항)\\n중증외상분야의 추가적, 제도적, 환경적, 인력 지원 방안마련\\n현 의료...    True  30 days  "
      ]
     },
     "execution_count": 28,
     "metadata": {},
     "output_type": "execute_result"
    }
   ],
   "source": [
    "answered_df.head()"
   ]
  },
  {
   "cell_type": "markdown",
   "metadata": {},
   "source": [
    "### 답변 대상 청원 중 투표를 가장 많이 받은 것"
   ]
  },
  {
   "cell_type": "code",
   "execution_count": 29,
   "metadata": {},
   "outputs": [
    {
     "data": {
      "text/html": [
       "<div>\n",
       "<style scoped>\n",
       "    .dataframe tbody tr th:only-of-type {\n",
       "        vertical-align: middle;\n",
       "    }\n",
       "\n",
       "    .dataframe tbody tr th {\n",
       "        vertical-align: top;\n",
       "    }\n",
       "\n",
       "    .dataframe thead th {\n",
       "        text-align: right;\n",
       "    }\n",
       "</style>\n",
       "<table border=\"1\" class=\"dataframe\">\n",
       "  <thead>\n",
       "    <tr style=\"text-align: right;\">\n",
       "      <th></th>\n",
       "      <th>start</th>\n",
       "      <th>end</th>\n",
       "      <th>votes</th>\n",
       "      <th>category</th>\n",
       "      <th>title</th>\n",
       "      <th>content</th>\n",
       "      <th>answer</th>\n",
       "      <th>duration</th>\n",
       "    </tr>\n",
       "    <tr>\n",
       "      <th>article_id</th>\n",
       "      <th></th>\n",
       "      <th></th>\n",
       "      <th></th>\n",
       "      <th></th>\n",
       "      <th></th>\n",
       "      <th></th>\n",
       "      <th></th>\n",
       "      <th></th>\n",
       "    </tr>\n",
       "  </thead>\n",
       "  <tbody>\n",
       "    <tr>\n",
       "      <th>10949</th>\n",
       "      <td>2017-09-06</td>\n",
       "      <td>2017-12-05</td>\n",
       "      <td>615354</td>\n",
       "      <td>미래</td>\n",
       "      <td>조두순 출소반대</td>\n",
       "      <td>제발 조두순 재심다시해서 무기징역으로 해야됩니다!!!</td>\n",
       "      <td>True</td>\n",
       "      <td>90 days</td>\n",
       "    </tr>\n",
       "    <tr>\n",
       "      <th>142600</th>\n",
       "      <td>2018-02-19</td>\n",
       "      <td>2018-03-21</td>\n",
       "      <td>614127</td>\n",
       "      <td>문화/예술/체육/언론</td>\n",
       "      <td>김보름, 박지우 선수의 자격박탈과 적폐 빙상연맹의 엄중 처벌을 청원합니다</td>\n",
       "      <td>오늘 여자 단체전 팀추월에서 김보름, 박지우 선수는 팀전인데도 불구하고 개인의 영달...</td>\n",
       "      <td>True</td>\n",
       "      <td>30 days</td>\n",
       "    </tr>\n",
       "    <tr>\n",
       "      <th>105105</th>\n",
       "      <td>2018-01-20</td>\n",
       "      <td>2018-02-19</td>\n",
       "      <td>360905</td>\n",
       "      <td>외교/통일/국방</td>\n",
       "      <td>나경원 의원 평창올림픽 위원직을 파면시켜주세요</td>\n",
       "      <td>안녕하세요. 청와대에 청원은 처음해 보는 경험인지라 조금은 어색하고 뭐라 말을 시작...</td>\n",
       "      <td>True</td>\n",
       "      <td>30 days</td>\n",
       "    </tr>\n",
       "    <tr>\n",
       "      <th>165796</th>\n",
       "      <td>2018-03-13</td>\n",
       "      <td>2018-04-12</td>\n",
       "      <td>304320</td>\n",
       "      <td>정치개혁</td>\n",
       "      <td>국민들은 정부 개헌안을 지지합니다. 정부의 개헌을 꼭 실현시켜 주십시오.</td>\n",
       "      <td>공약은 중요한 것입니다.\\n국민과의 약속입니다.\\n대통령님은 공약을 이행해주십시오....</td>\n",
       "      <td>True</td>\n",
       "      <td>30 days</td>\n",
       "    </tr>\n",
       "    <tr>\n",
       "      <th>203181</th>\n",
       "      <td>2018-04-17</td>\n",
       "      <td>2018-05-17</td>\n",
       "      <td>302082</td>\n",
       "      <td>행정</td>\n",
       "      <td>다산신도시 실버택배 비용은 입주민들의 관리비로 충당해야합니다.</td>\n",
       "      <td>다산신도시 입주민들이 택배원 대상으로 갑질을 저질러 사회적으로 큰 물의를 빚은 바 ...</td>\n",
       "      <td>True</td>\n",
       "      <td>30 days</td>\n",
       "    </tr>\n",
       "  </tbody>\n",
       "</table>\n",
       "</div>"
      ],
      "text/plain": [
       "                start        end   votes     category  \\\n",
       "article_id                                              \n",
       "10949      2017-09-06 2017-12-05  615354           미래   \n",
       "142600     2018-02-19 2018-03-21  614127  문화/예술/체육/언론   \n",
       "105105     2018-01-20 2018-02-19  360905     외교/통일/국방   \n",
       "165796     2018-03-13 2018-04-12  304320         정치개혁   \n",
       "203181     2018-04-17 2018-05-17  302082           행정   \n",
       "\n",
       "                                               title  \\\n",
       "article_id                                             \n",
       "10949                                       조두순 출소반대   \n",
       "142600      김보름, 박지우 선수의 자격박탈과 적폐 빙상연맹의 엄중 처벌을 청원합니다   \n",
       "105105                     나경원 의원 평창올림픽 위원직을 파면시켜주세요   \n",
       "165796      국민들은 정부 개헌안을 지지합니다. 정부의 개헌을 꼭 실현시켜 주십시오.   \n",
       "203181            다산신도시 실버택배 비용은 입주민들의 관리비로 충당해야합니다.   \n",
       "\n",
       "                                                      content  answer duration  \n",
       "article_id                                                                      \n",
       "10949                           제발 조두순 재심다시해서 무기징역으로 해야됩니다!!!    True  90 days  \n",
       "142600      오늘 여자 단체전 팀추월에서 김보름, 박지우 선수는 팀전인데도 불구하고 개인의 영달...    True  30 days  \n",
       "105105      안녕하세요. 청와대에 청원은 처음해 보는 경험인지라 조금은 어색하고 뭐라 말을 시작...    True  30 days  \n",
       "165796      공약은 중요한 것입니다.\\n국민과의 약속입니다.\\n대통령님은 공약을 이행해주십시오....    True  30 days  \n",
       "203181      다산신도시 입주민들이 택배원 대상으로 갑질을 저질러 사회적으로 큰 물의를 빚은 바 ...    True  30 days  "
      ]
     },
     "execution_count": 29,
     "metadata": {},
     "output_type": "execute_result"
    }
   ],
   "source": [
    "answered_df.sort_values('votes', ascending=False).head(5)"
   ]
  },
  {
   "cell_type": "markdown",
   "metadata": {},
   "source": [
    "## 시각화"
   ]
  },
  {
   "cell_type": "code",
   "execution_count": 30,
   "metadata": {},
   "outputs": [
    {
     "data": {
      "image/png": "[encoded data removed]",
      "text/plain": [
       "<matplotlib.figure.Figure at 0x1157b1630>"
      ]
     },
     "metadata": {},
     "output_type": "display_data"
    },
    {
     "data": {
      "text/plain": [
       "<ggplot: (-9223372036562192012)>"
      ]
     },
     "execution_count": 30,
     "metadata": {},
     "output_type": "execute_result"
    }
   ],
   "source": [
    "# 카테고리별로 집계된 데이터를 barplot으로 그려본다.\n",
    "# 그런데 한글이 깨져보이는 것을 볼 수 있다.\n",
    "(ggplot(petitions)\n",
    " + aes('category')\n",
    " + geom_bar(fill='green')\n",
    ")"
   ]
  },
  {
   "cell_type": "markdown",
   "metadata": {},
   "source": [
    "\n",
    "#### 한글폰트 사용하기\n",
    "* 한글이 깨져보이는 것을 해결하기 위해 한글폰트를 사용해야 한다.\n",
    "* 여기에서는 나눔바른고딕을 사용하도록 한다. \n",
    "    * 이때 폰트가 로컬 컴퓨터에 설치되어 있어야한다. \n",
    "    * 나눔고딕은 무료로 사용할 수 있는 폰트다. \n",
    "    * 참고 : [네이버 나눔글꼴 라이선스](https://help.naver.com/support/contents/contents.nhn?serviceNo=1074&categoryNo=3497)\n",
    "* 한글을 사용하기 위해서는 ggplot에서 theme에 폰트를 지정해 주면된다.\n",
    "* 아래의 문서를 참고하면 **element_text**와 관련된 옵션을 볼 수 있다.\n",
    "* 참고 : [plotnine.themes.element_text — plotnine 0.3.0 documentation](http://plotnine.readthedocs.io/en/stable/generated/plotnine.themes.element_text.html)"
   ]
  },
  {
   "cell_type": "code",
   "execution_count": 31,
   "metadata": {},
   "outputs": [
    {
     "data": {
      "image/png": "[encoded data removed]",
      "text/plain": [
       "<matplotlib.figure.Figure at 0x105b7f080>"
      ]
     },
     "metadata": {},
     "output_type": "display_data"
    },
    {
     "data": {
      "text/plain": [
       "<ggplot: (290508520)>"
      ]
     },
     "execution_count": 31,
     "metadata": {},
     "output_type": "execute_result"
    }
   ],
   "source": [
    "# 글씨가 겹쳐보이지 않도록 rotation도 추가했다.\n",
    "(ggplot(petitions)\n",
    " + aes('category')\n",
    " + geom_bar(fill='green')\n",
    " + theme(text=element_text(family='NanumBarunGothic'),\n",
    "        axis_text_x=element_text(rotation=60))\n",
    ")"
   ]
  },
  {
   "cell_type": "markdown",
   "metadata": {},
   "source": [
    "### 카테고리별 투표수"
   ]
  },
  {
   "cell_type": "code",
   "execution_count": 32,
   "metadata": {},
   "outputs": [
    {
     "data": {
      "image/png": "[encoded data removed]",
      "text/plain": [
       "<matplotlib.figure.Figure at 0x115777cc0>"
      ]
     },
     "metadata": {},
     "output_type": "display_data"
    },
    {
     "data": {
      "text/plain": [
       "<ggplot: (274425983)>"
      ]
     },
     "execution_count": 32,
     "metadata": {},
     "output_type": "execute_result"
    }
   ],
   "source": [
    "# 다음으로 투표를 많이 받은 카테고리를 알아본다.\n",
    "# 인권/성평등에 관련된 청원의 숫자가 가장 많았지만 투표를 가장 많이 받은 청원은 육아/교육이다.\n",
    "(ggplot(petitions)\n",
    " + aes(x='category', y='votes')\n",
    " + geom_col(fill='skyblue')\n",
    " + theme(text=element_text(family='NanumBarunGothic'),\n",
    "        axis_text_x=element_text(rotation=70))\n",
    ")"
   ]
  },
  {
   "cell_type": "code",
   "execution_count": 33,
   "metadata": {},
   "outputs": [
    {
     "data": {
      "image/png": "[encoded data removed]",
      "text/plain": [
       "<matplotlib.figure.Figure at 0x105b658d0>"
      ]
     },
     "metadata": {},
     "output_type": "display_data"
    },
    {
     "data": {
      "text/plain": [
       "<ggplot: (-9223372036563804654)>"
      ]
     },
     "execution_count": 33,
     "metadata": {},
     "output_type": "execute_result"
    }
   ],
   "source": [
    "# coord_flip을 사용해서 x축과 y축을 바꿔본다.\n",
    "(ggplot(petitions)\n",
    " + aes(x='category', y='votes')\n",
    " + geom_col(fill='skyblue')\n",
    " + ggtitle('카테고리별 투표수')\n",
    " + coord_flip()\n",
    " + theme(text=element_text(family='NanumBarunGothic'))\n",
    ")"
   ]
  },
  {
   "cell_type": "code",
   "execution_count": 34,
   "metadata": {},
   "outputs": [
    {
     "data": {
      "image/png": "[encoded data removed]",
      "text/plain": [
       "<matplotlib.figure.Figure at 0x11d0e41d0>"
      ]
     },
     "metadata": {},
     "output_type": "display_data"
    },
    {
     "data": {
      "text/plain": [
       "<ggplot: (296049679)>"
      ]
     },
     "execution_count": 34,
     "metadata": {},
     "output_type": "execute_result"
    }
   ],
   "source": [
    "(ggplot(petitions) \n",
    " + aes(x='category', y='votes', fill='answer')\n",
    " + geom_point()\n",
    " + theme(text=element_text(family='NanumBarunGothic'),\n",
    "        axis_text_x=element_text(rotation=70))\n",
    ")"
   ]
  },
  {
   "cell_type": "code",
   "execution_count": 35,
   "metadata": {},
   "outputs": [
    {
     "data": {
      "image/png": "[encoded data removed]",
      "text/plain": [
       "<matplotlib.figure.Figure at 0x1325aeeb8>"
      ]
     },
     "metadata": {},
     "output_type": "display_data"
    },
    {
     "data": {
      "text/plain": [
       "<ggplot: (324909516)>"
      ]
     },
     "execution_count": 35,
     "metadata": {},
     "output_type": "execute_result"
    }
   ],
   "source": [
    "(ggplot(petitions) \n",
    " + aes(x='category', y='votes', fill='answer')\n",
    " + geom_boxplot()\n",
    " + theme(text=element_text(family='NanumBarunGothic'),\n",
    "        axis_text_x=element_text(rotation=70))\n",
    ")"
   ]
  },
  {
   "cell_type": "code",
   "execution_count": 36,
   "metadata": {},
   "outputs": [
    {
     "data": {
      "image/png": "[encoded data removed]",
      "text/plain": [
       "<matplotlib.figure.Figure at 0x13f3c0128>"
      ]
     },
     "metadata": {},
     "output_type": "display_data"
    },
    {
     "data": {
      "text/plain": [
       "<ggplot: (321907383)>"
      ]
     },
     "execution_count": 36,
     "metadata": {},
     "output_type": "execute_result"
    }
   ],
   "source": [
    "(ggplot(petitions, aes(x='category', y='votes', fill='answer'))\n",
    " + geom_col()\n",
    " + theme(text=element_text(family='NanumBarunGothic'),\n",
    "        axis_text_x=element_text(rotation=70))\n",
    ")"
   ]
  },
  {
   "cell_type": "code",
   "execution_count": 37,
   "metadata": {},
   "outputs": [
    {
     "data": {
      "text/html": [
       "<div>\n",
       "<style scoped>\n",
       "    .dataframe tbody tr th:only-of-type {\n",
       "        vertical-align: middle;\n",
       "    }\n",
       "\n",
       "    .dataframe tbody tr th {\n",
       "        vertical-align: top;\n",
       "    }\n",
       "\n",
       "    .dataframe thead th {\n",
       "        text-align: right;\n",
       "    }\n",
       "</style>\n",
       "<table border=\"1\" class=\"dataframe\">\n",
       "  <thead>\n",
       "    <tr style=\"text-align: right;\">\n",
       "      <th></th>\n",
       "      <th>start</th>\n",
       "      <th>end</th>\n",
       "      <th>votes</th>\n",
       "      <th>category</th>\n",
       "      <th>title</th>\n",
       "      <th>content</th>\n",
       "      <th>answer</th>\n",
       "      <th>duration</th>\n",
       "    </tr>\n",
       "    <tr>\n",
       "      <th>article_id</th>\n",
       "      <th></th>\n",
       "      <th></th>\n",
       "      <th></th>\n",
       "      <th></th>\n",
       "      <th></th>\n",
       "      <th></th>\n",
       "      <th></th>\n",
       "      <th></th>\n",
       "    </tr>\n",
       "  </thead>\n",
       "  <tbody>\n",
       "    <tr>\n",
       "      <th>1785</th>\n",
       "      <td>2017-09-03</td>\n",
       "      <td>2017-11-02</td>\n",
       "      <td>296330</td>\n",
       "      <td>인권/성평등</td>\n",
       "      <td>청소년이란 이유로 보호법을 악용하는 잔인무도한 청소년들이 늘어나고있습니다. 반드시 ...</td>\n",
       "      <td>안녕하십니까. 청소년보호법이란 명목하에 나쁜짓을 일삼는 청소년들이 너무나 많아지고 ...</td>\n",
       "      <td>True</td>\n",
       "      <td>60 days</td>\n",
       "    </tr>\n",
       "    <tr>\n",
       "      <th>148806</th>\n",
       "      <td>2018-02-23</td>\n",
       "      <td>2018-03-25</td>\n",
       "      <td>242687</td>\n",
       "      <td>인권/성평등</td>\n",
       "      <td>조두순 사건의 피해자 가족을 우롱하는 윤서인을 처벌해주십시오</td>\n",
       "      <td>'윤서인'이라는 만화가가 조두순 사건을 인용하여 정치상황을 풍자하는 만화를 그렸는데...</td>\n",
       "      <td>True</td>\n",
       "      <td>30 days</td>\n",
       "    </tr>\n",
       "    <tr>\n",
       "      <th>151430</th>\n",
       "      <td>2018-02-26</td>\n",
       "      <td>2018-03-28</td>\n",
       "      <td>235796</td>\n",
       "      <td>인권/성평등</td>\n",
       "      <td>고 장자연의 한맺힌 죽음의 진실을 밝혀주세요.</td>\n",
       "      <td>힘없고 빽없는  사람이\\n사회적 영향력 금권 기득권으로\\n꽃다운 나이에\\n한 많은 ...</td>\n",
       "      <td>True</td>\n",
       "      <td>30 days</td>\n",
       "    </tr>\n",
       "    <tr>\n",
       "      <th>18278</th>\n",
       "      <td>2017-09-30</td>\n",
       "      <td>2017-10-30</td>\n",
       "      <td>235372</td>\n",
       "      <td>인권/성평등</td>\n",
       "      <td>낙태죄 폐지와 자연유산 유도약(미프진) 합법화 및 도입을 부탁드립니다.</td>\n",
       "      <td>안녕하세요. 존경하는 대통령님 의원님\\n낙태죄 폐지를 청원합니다.\\n현재 대한민국은...</td>\n",
       "      <td>True</td>\n",
       "      <td>30 days</td>\n",
       "    </tr>\n",
       "    <tr>\n",
       "      <th>79162</th>\n",
       "      <td>2018-01-03</td>\n",
       "      <td>2018-02-02</td>\n",
       "      <td>233842</td>\n",
       "      <td>인권/성평등</td>\n",
       "      <td>미성년자 성폭행 형량 올려주세요 종신형원합니다</td>\n",
       "      <td>또 창원에서 조두순사건과 같은 사건이 발생했네요\\n술먹어 심신이 미약하신 50대 대...</td>\n",
       "      <td>True</td>\n",
       "      <td>30 days</td>\n",
       "    </tr>\n",
       "    <tr>\n",
       "      <th>157046</th>\n",
       "      <td>2018-03-03</td>\n",
       "      <td>2018-04-02</td>\n",
       "      <td>222770</td>\n",
       "      <td>인권/성평등</td>\n",
       "      <td>단역배우 자매 자살 사건 제발 재조사를 해주세여.</td>\n",
       "      <td>http://news.naver.com/main/read.nhn?mode=LSD&amp;m...</td>\n",
       "      <td>True</td>\n",
       "      <td>30 days</td>\n",
       "    </tr>\n",
       "    <tr>\n",
       "      <th>81026</th>\n",
       "      <td>2018-01-06</td>\n",
       "      <td>2018-02-05</td>\n",
       "      <td>213219</td>\n",
       "      <td>인권/성평등</td>\n",
       "      <td>초.중.고 학교 페미니즘교육 의무화</td>\n",
       "      <td>아직 판단이 무분별한 어린학생들이 학교에서 여성비하적요소가 들어있는 단어들을 아무렇...</td>\n",
       "      <td>True</td>\n",
       "      <td>30 days</td>\n",
       "    </tr>\n",
       "    <tr>\n",
       "      <th>1798</th>\n",
       "      <td>2017-09-03</td>\n",
       "      <td>2017-11-02</td>\n",
       "      <td>125343</td>\n",
       "      <td>인권/성평등</td>\n",
       "      <td>청소년이란 이유로 보호법을 악용하는 잔인무도한 청소년들이 늘어나고있습니다. 반드시 ...</td>\n",
       "      <td>안녕하십니까. [소년법]이란 명목하에 나쁜짓을 일삼는 청소년들이 너무나 많아지고 있...</td>\n",
       "      <td>False</td>\n",
       "      <td>60 days</td>\n",
       "    </tr>\n",
       "    <tr>\n",
       "      <th>55256</th>\n",
       "      <td>2017-11-30</td>\n",
       "      <td>2017-12-30</td>\n",
       "      <td>123288</td>\n",
       "      <td>인권/성평등</td>\n",
       "      <td>해외 사이트를 기반으로 한 무분별한 일반인 모욕 사진의 유포를 처벌해주세요.</td>\n",
       "      <td>텀블러나 트위터 같은 해외사이트의 경우\\n처벌이 어렵다는 이유로\\n일반인 여성을 비...</td>\n",
       "      <td>False</td>\n",
       "      <td>30 days</td>\n",
       "    </tr>\n",
       "    <tr>\n",
       "      <th>159655</th>\n",
       "      <td>2018-03-06</td>\n",
       "      <td>2018-04-05</td>\n",
       "      <td>107512</td>\n",
       "      <td>인권/성평등</td>\n",
       "      <td>남녀 동일가치노동에서 동일임금지불과 더불어 임금 공개 의무화를 통한 임금격차 해소</td>\n",
       "      <td>저는 대구에 사는 24살 대학생 남자 김수현이라고 합니다. 24살의 대학생 남자인 ...</td>\n",
       "      <td>False</td>\n",
       "      <td>30 days</td>\n",
       "    </tr>\n",
       "  </tbody>\n",
       "</table>\n",
       "</div>"
      ],
      "text/plain": [
       "                start        end   votes category  \\\n",
       "article_id                                          \n",
       "1785       2017-09-03 2017-11-02  296330   인권/성평등   \n",
       "148806     2018-02-23 2018-03-25  242687   인권/성평등   \n",
       "151430     2018-02-26 2018-03-28  235796   인권/성평등   \n",
       "18278      2017-09-30 2017-10-30  235372   인권/성평등   \n",
       "79162      2018-01-03 2018-02-02  233842   인권/성평등   \n",
       "157046     2018-03-03 2018-04-02  222770   인권/성평등   \n",
       "81026      2018-01-06 2018-02-05  213219   인권/성평등   \n",
       "1798       2017-09-03 2017-11-02  125343   인권/성평등   \n",
       "55256      2017-11-30 2017-12-30  123288   인권/성평등   \n",
       "159655     2018-03-06 2018-04-05  107512   인권/성평등   \n",
       "\n",
       "                                                        title  \\\n",
       "article_id                                                      \n",
       "1785        청소년이란 이유로 보호법을 악용하는 잔인무도한 청소년들이 늘어나고있습니다. 반드시 ...   \n",
       "148806                      조두순 사건의 피해자 가족을 우롱하는 윤서인을 처벌해주십시오   \n",
       "151430                              고 장자연의 한맺힌 죽음의 진실을 밝혀주세요.   \n",
       "18278                 낙태죄 폐지와 자연유산 유도약(미프진) 합법화 및 도입을 부탁드립니다.   \n",
       "79162                               미성년자 성폭행 형량 올려주세요 종신형원합니다   \n",
       "157046                            단역배우 자매 자살 사건 제발 재조사를 해주세여.   \n",
       "81026                                     초.중.고 학교 페미니즘교육 의무화   \n",
       "1798        청소년이란 이유로 보호법을 악용하는 잔인무도한 청소년들이 늘어나고있습니다. 반드시 ...   \n",
       "55256              해외 사이트를 기반으로 한 무분별한 일반인 모욕 사진의 유포를 처벌해주세요.   \n",
       "159655          남녀 동일가치노동에서 동일임금지불과 더불어 임금 공개 의무화를 통한 임금격차 해소   \n",
       "\n",
       "                                                      content  answer duration  \n",
       "article_id                                                                      \n",
       "1785        안녕하십니까. 청소년보호법이란 명목하에 나쁜짓을 일삼는 청소년들이 너무나 많아지고 ...    True  60 days  \n",
       "148806      '윤서인'이라는 만화가가 조두순 사건을 인용하여 정치상황을 풍자하는 만화를 그렸는데...    True  30 days  \n",
       "151430      힘없고 빽없는  사람이\\n사회적 영향력 금권 기득권으로\\n꽃다운 나이에\\n한 많은 ...    True  30 days  \n",
       "18278       안녕하세요. 존경하는 대통령님 의원님\\n낙태죄 폐지를 청원합니다.\\n현재 대한민국은...    True  30 days  \n",
       "79162       또 창원에서 조두순사건과 같은 사건이 발생했네요\\n술먹어 심신이 미약하신 50대 대...    True  30 days  \n",
       "157046      http://news.naver.com/main/read.nhn?mode=LSD&m...    True  30 days  \n",
       "81026       아직 판단이 무분별한 어린학생들이 학교에서 여성비하적요소가 들어있는 단어들을 아무렇...    True  30 days  \n",
       "1798        안녕하십니까. [소년법]이란 명목하에 나쁜짓을 일삼는 청소년들이 너무나 많아지고 있...   False  60 days  \n",
       "55256       텀블러나 트위터 같은 해외사이트의 경우\\n처벌이 어렵다는 이유로\\n일반인 여성을 비...   False  30 days  \n",
       "159655      저는 대구에 사는 24살 대학생 남자 김수현이라고 합니다. 24살의 대학생 남자인 ...   False  30 days  "
      ]
     },
     "execution_count": 37,
     "metadata": {},
     "output_type": "execute_result"
    }
   ],
   "source": [
    "# 투표를 가장 많이 받은 카테고리인 인권/성평등에서 투표수가 많은 순으로 상위 10개만 본다.\n",
    "edu = petitions.loc[(petitions['category']=='인권/성평등')]\n",
    "edu.sort_values('votes', ascending=False)[:10]"
   ]
  },
  {
   "cell_type": "markdown",
   "metadata": {},
   "source": [
    "### 시계열 데이터 보기"
   ]
  },
  {
   "cell_type": "code",
   "execution_count": 38,
   "metadata": {},
   "outputs": [
    {
     "data": {
      "text/plain": [
       "(174335, 11)"
      ]
     },
     "execution_count": 38,
     "metadata": {},
     "output_type": "execute_result"
    }
   ],
   "source": [
    "petitions['start_month'] = petitions['start'].dt.month\n",
    "petitions['start_day'] = petitions['start'].dt.day\n",
    "petitions['start_hour'] = petitions['start'].dt.hour\n",
    "petitions.shape"
   ]
  },
  {
   "cell_type": "code",
   "execution_count": 39,
   "metadata": {},
   "outputs": [
    {
     "data": {
      "text/plain": [
       "1     31338\n",
       "11    29473\n",
       "2     25857\n",
       "4     23226\n",
       "3     21795\n",
       "12    18456\n",
       "9     17068\n",
       "10     5951\n",
       "8      1171\n",
       "Name: start_month, dtype: int64"
      ]
     },
     "execution_count": 39,
     "metadata": {},
     "output_type": "execute_result"
    }
   ],
   "source": [
    "petitions['start_month'].value_counts()"
   ]
  },
  {
   "cell_type": "code",
   "execution_count": 40,
   "metadata": {},
   "outputs": [
    {
     "data": {
      "image/png": "[encoded data removed]",
      "text/plain": [
       "<matplotlib.figure.Figure at 0x135c4c2b0>"
      ]
     },
     "metadata": {},
     "output_type": "display_data"
    },
    {
     "data": {
      "text/plain": [
       "<ggplot: (295489053)>"
      ]
     },
     "execution_count": 40,
     "metadata": {},
     "output_type": "execute_result"
    }
   ],
   "source": [
    "(ggplot(petitions)\n",
    " + aes('start_month')\n",
    " + geom_bar()\n",
    " + ggtitle('시작 월별 청원 수')\n",
    " + theme(text=element_text(family='NanumBarunGothic'),  figure_size=(6, 4))\n",
    ")"
   ]
  },
  {
   "cell_type": "code",
   "execution_count": 41,
   "metadata": {},
   "outputs": [
    {
     "data": {
      "text/html": [
       "<div>\n",
       "<style scoped>\n",
       "    .dataframe tbody tr th:only-of-type {\n",
       "        vertical-align: middle;\n",
       "    }\n",
       "\n",
       "    .dataframe tbody tr th {\n",
       "        vertical-align: top;\n",
       "    }\n",
       "\n",
       "    .dataframe thead th {\n",
       "        text-align: right;\n",
       "    }\n",
       "</style>\n",
       "<table border=\"1\" class=\"dataframe\">\n",
       "  <thead>\n",
       "    <tr style=\"text-align: right;\">\n",
       "      <th></th>\n",
       "      <th>start</th>\n",
       "      <th>counts</th>\n",
       "    </tr>\n",
       "  </thead>\n",
       "  <tbody>\n",
       "    <tr>\n",
       "      <th>28</th>\n",
       "      <td>1</td>\n",
       "      <td>3715</td>\n",
       "    </tr>\n",
       "    <tr>\n",
       "      <th>27</th>\n",
       "      <td>2</td>\n",
       "      <td>3919</td>\n",
       "    </tr>\n",
       "    <tr>\n",
       "      <th>29</th>\n",
       "      <td>3</td>\n",
       "      <td>3606</td>\n",
       "    </tr>\n",
       "  </tbody>\n",
       "</table>\n",
       "</div>"
      ],
      "text/plain": [
       "    start  counts\n",
       "28      1    3715\n",
       "27      2    3919\n",
       "29      3    3606"
      ]
     },
     "execution_count": 41,
     "metadata": {},
     "output_type": "execute_result"
    }
   ],
   "source": [
    "start_day = petitions['start_day'].value_counts().reset_index()\n",
    "start_day.columns = ['start', 'counts']\n",
    "start_day = start_day.sort_values('start', ascending=True)\n",
    "start_day[:3]"
   ]
  },
  {
   "cell_type": "code",
   "execution_count": 42,
   "metadata": {},
   "outputs": [
    {
     "data": {
      "image/png": "[encoded data removed]",
      "text/plain": [
       "<matplotlib.figure.Figure at 0x12e422198>"
      ]
     },
     "metadata": {},
     "output_type": "display_data"
    },
    {
     "data": {
      "text/plain": [
       "<ggplot: (324817114)>"
      ]
     },
     "execution_count": 42,
     "metadata": {},
     "output_type": "execute_result"
    }
   ],
   "source": [
    "# 5일과 11일에 청원이 많이 등록되었다.\n",
    "# 데이터를 보면 5일과 11일에 청원이 많이 등록된다기 보다는 특정 시기에 5일과 11일에 같은 내용의 청원이 많이 들어 온 날이 있다.\n",
    "# 따라서 날짜에 따라 규칙성을 찾기는 어렵다.\n",
    "(ggplot(petitions)\n",
    " + aes('start_day')\n",
    " + geom_bar(fill='brown')\n",
    " + ggtitle('시작한 날짜에 대한 청원수')\n",
    " + theme(text=element_text(family='NanumBarunGothic'))\n",
    ")"
   ]
  },
  {
   "cell_type": "code",
   "execution_count": 43,
   "metadata": {},
   "outputs": [
    {
     "data": {
      "text/plain": [
       "0    174335\n",
       "Name: start_hour, dtype: int64"
      ]
     },
     "execution_count": 43,
     "metadata": {},
     "output_type": "execute_result"
    }
   ],
   "source": [
    "# 날짜 데이터에 시간이 없기 때문에 시간은 의미가 없다.\n",
    "petitions['start_hour'].value_counts()"
   ]
  },
  {
   "cell_type": "code",
   "execution_count": 44,
   "metadata": {},
   "outputs": [
    {
     "name": "stdout",
     "output_type": "stream",
     "text": [
      "청원 집계: 255일\n"
     ]
    },
    {
     "data": {
      "text/html": [
       "<div>\n",
       "<style scoped>\n",
       "    .dataframe tbody tr th:only-of-type {\n",
       "        vertical-align: middle;\n",
       "    }\n",
       "\n",
       "    .dataframe tbody tr th {\n",
       "        vertical-align: top;\n",
       "    }\n",
       "\n",
       "    .dataframe thead th {\n",
       "        text-align: right;\n",
       "    }\n",
       "</style>\n",
       "<table border=\"1\" class=\"dataframe\">\n",
       "  <thead>\n",
       "    <tr style=\"text-align: right;\">\n",
       "      <th></th>\n",
       "      <th>start</th>\n",
       "      <th>counts</th>\n",
       "    </tr>\n",
       "  </thead>\n",
       "  <tbody>\n",
       "    <tr>\n",
       "      <th>253</th>\n",
       "      <td>2017-08-19</td>\n",
       "      <td>39</td>\n",
       "    </tr>\n",
       "    <tr>\n",
       "      <th>246</th>\n",
       "      <td>2017-08-20</td>\n",
       "      <td>88</td>\n",
       "    </tr>\n",
       "    <tr>\n",
       "      <th>245</th>\n",
       "      <td>2017-08-21</td>\n",
       "      <td>89</td>\n",
       "    </tr>\n",
       "    <tr>\n",
       "      <th>251</th>\n",
       "      <td>2017-08-22</td>\n",
       "      <td>69</td>\n",
       "    </tr>\n",
       "    <tr>\n",
       "      <th>248</th>\n",
       "      <td>2017-08-23</td>\n",
       "      <td>80</td>\n",
       "    </tr>\n",
       "  </tbody>\n",
       "</table>\n",
       "</div>"
      ],
      "text/plain": [
       "         start  counts\n",
       "253 2017-08-19      39\n",
       "246 2017-08-20      88\n",
       "245 2017-08-21      89\n",
       "251 2017-08-22      69\n",
       "248 2017-08-23      80"
      ]
     },
     "execution_count": 44,
     "metadata": {},
     "output_type": "execute_result"
    }
   ],
   "source": [
    "start_df = pd.DataFrame(petitions['start'].value_counts()).reset_index()\n",
    "start_df.columns = ['start', 'counts']\n",
    "start_df = start_df.sort_values('start', ascending=True)\n",
    "print('청원 집계: {}일'.format(start_df.shape[0]))\n",
    "start_df.head()"
   ]
  },
  {
   "cell_type": "code",
   "execution_count": 45,
   "metadata": {},
   "outputs": [
    {
     "data": {
      "image/png": "[encoded data removed]",
      "text/plain": [
       "<matplotlib.figure.Figure at 0x11fde1160>"
      ]
     },
     "metadata": {},
     "output_type": "display_data"
    },
    {
     "data": {
      "text/plain": [
       "<ggplot: (316939177)>"
      ]
     },
     "execution_count": 45,
     "metadata": {},
     "output_type": "execute_result"
    }
   ],
   "source": [
    "# 날짜별로 카테고리별 투표수를 본다.\n",
    "# 20만건 이상 투표를 받아야지만 답변을 받을 수 있다는것을 그래프를 통해 짐작해볼 수 있다.\n",
    "# 답변을 받지못한 카테고리도 있다.\n",
    "(ggplot(petitions)\n",
    " + aes('answer', 'votes')\n",
    " + aes(color='answer')\n",
    " + geom_point()\n",
    " + facet_wrap('~category')\n",
    " + theme(text=element_text(family='NanumBarunGothic'))\n",
    ")"
   ]
  },
  {
   "cell_type": "code",
   "execution_count": 46,
   "metadata": {},
   "outputs": [
    {
     "data": {
      "text/plain": [
       "CategoricalDtype(categories=['2017-11-11', '2017-09-05', '2018-01-11', '2018-02-06',\n",
       "                  '2017-11-09', '2018-01-12', '2017-09-06', '2018-01-17',\n",
       "                  '2018-02-20', '2018-01-16',\n",
       "                  ...\n",
       "                  '2017-08-21', '2017-08-20', '2017-08-25', '2017-08-23',\n",
       "                  '2017-08-26', '2017-09-15', '2017-08-22', '2017-08-27',\n",
       "                  '2017-08-19', '2017-09-16'],\n",
       "                 ordered=True)"
      ]
     },
     "execution_count": 46,
     "metadata": {},
     "output_type": "execute_result"
    }
   ],
   "source": [
    "start_ordered_df = petitions['start'].value_counts().index.tolist()\n",
    "petitions_start_df = CategoricalDtype(categories=start_ordered_df, ordered=True)\n",
    "petitions_start_df"
   ]
  },
  {
   "cell_type": "code",
   "execution_count": 47,
   "metadata": {},
   "outputs": [
    {
     "data": {
      "image/png": "[encoded data removed]",
      "text/plain": [
       "<matplotlib.figure.Figure at 0x138376a20>"
      ]
     },
     "metadata": {},
     "output_type": "display_data"
    },
    {
     "data": {
      "text/plain": [
       "<ggplot: (316943550)>"
      ]
     },
     "execution_count": 47,
     "metadata": {},
     "output_type": "execute_result"
    }
   ],
   "source": [
    "# 특히 청원이 많은 날이 있다. 그날 무슨 이슈가 있었는지 궁금하다.\n",
    "(ggplot(start_df)\n",
    " + aes('start', 'counts')\n",
    " + geom_col(color='green')\n",
    " + ggtitle('청원 시작일별 집계수')\n",
    " + coord_flip()\n",
    " + theme(text=element_text(family='NanumBarunGothic'))\n",
    ")"
   ]
  },
  {
   "cell_type": "code",
   "execution_count": 48,
   "metadata": {},
   "outputs": [
    {
     "data": {
      "image/png": "[encoded data removed]",
      "text/plain": [
       "<matplotlib.figure.Figure at 0x1389949e8>"
      ]
     },
     "metadata": {},
     "output_type": "display_data"
    },
    {
     "data": {
      "text/plain": [
       "<ggplot: (-9223372036527407409)>"
      ]
     },
     "execution_count": 48,
     "metadata": {},
     "output_type": "execute_result"
    }
   ],
   "source": [
    "# 청원 시작 날짜별 투표수를 본다.\n",
    "(ggplot(petitions)\n",
    " + aes('start', 'votes')\n",
    " + geom_col(color='brown')\n",
    " + ggtitle('청원 시작일별 투표수')\n",
    " + coord_flip()\n",
    " + theme(text=element_text(family='NanumBarunGothic'))\n",
    ")"
   ]
  },
  {
   "cell_type": "code",
   "execution_count": 49,
   "metadata": {},
   "outputs": [
    {
     "data": {
      "text/html": [
       "<div>\n",
       "<style scoped>\n",
       "    .dataframe tbody tr th:only-of-type {\n",
       "        vertical-align: middle;\n",
       "    }\n",
       "\n",
       "    .dataframe tbody tr th {\n",
       "        vertical-align: top;\n",
       "    }\n",
       "\n",
       "    .dataframe thead th {\n",
       "        text-align: right;\n",
       "    }\n",
       "</style>\n",
       "<table border=\"1\" class=\"dataframe\">\n",
       "  <thead>\n",
       "    <tr style=\"text-align: right;\">\n",
       "      <th></th>\n",
       "      <th>start</th>\n",
       "      <th>counts</th>\n",
       "    </tr>\n",
       "  </thead>\n",
       "  <tbody>\n",
       "    <tr>\n",
       "      <th>253</th>\n",
       "      <td>2017-08-19</td>\n",
       "      <td>39</td>\n",
       "    </tr>\n",
       "    <tr>\n",
       "      <th>246</th>\n",
       "      <td>2017-08-20</td>\n",
       "      <td>88</td>\n",
       "    </tr>\n",
       "    <tr>\n",
       "      <th>245</th>\n",
       "      <td>2017-08-21</td>\n",
       "      <td>89</td>\n",
       "    </tr>\n",
       "    <tr>\n",
       "      <th>251</th>\n",
       "      <td>2017-08-22</td>\n",
       "      <td>69</td>\n",
       "    </tr>\n",
       "    <tr>\n",
       "      <th>248</th>\n",
       "      <td>2017-08-23</td>\n",
       "      <td>80</td>\n",
       "    </tr>\n",
       "  </tbody>\n",
       "</table>\n",
       "</div>"
      ],
      "text/plain": [
       "         start  counts\n",
       "253 2017-08-19      39\n",
       "246 2017-08-20      88\n",
       "245 2017-08-21      89\n",
       "251 2017-08-22      69\n",
       "248 2017-08-23      80"
      ]
     },
     "execution_count": 49,
     "metadata": {},
     "output_type": "execute_result"
    }
   ],
   "source": [
    "start_df.head()"
   ]
  },
  {
   "cell_type": "markdown",
   "metadata": {},
   "source": [
    "## 청원이 많이 등록된 날\n",
    "- 3천건 이상 청원이 등록된 날 어떤 청원이 있는지 본다."
   ]
  },
  {
   "cell_type": "code",
   "execution_count": 50,
   "metadata": {},
   "outputs": [
    {
     "data": {
      "text/html": [
       "<div>\n",
       "<style scoped>\n",
       "    .dataframe tbody tr th:only-of-type {\n",
       "        vertical-align: middle;\n",
       "    }\n",
       "\n",
       "    .dataframe tbody tr th {\n",
       "        vertical-align: top;\n",
       "    }\n",
       "\n",
       "    .dataframe thead th {\n",
       "        text-align: right;\n",
       "    }\n",
       "</style>\n",
       "<table border=\"1\" class=\"dataframe\">\n",
       "  <thead>\n",
       "    <tr style=\"text-align: right;\">\n",
       "      <th></th>\n",
       "      <th>start</th>\n",
       "      <th>counts</th>\n",
       "    </tr>\n",
       "  </thead>\n",
       "  <tbody>\n",
       "    <tr>\n",
       "      <th>1</th>\n",
       "      <td>2017-09-05</td>\n",
       "      <td>5952</td>\n",
       "    </tr>\n",
       "    <tr>\n",
       "      <th>0</th>\n",
       "      <td>2017-11-11</td>\n",
       "      <td>9623</td>\n",
       "    </tr>\n",
       "    <tr>\n",
       "      <th>2</th>\n",
       "      <td>2018-01-11</td>\n",
       "      <td>3368</td>\n",
       "    </tr>\n",
       "  </tbody>\n",
       "</table>\n",
       "</div>"
      ],
      "text/plain": [
       "       start  counts\n",
       "1 2017-09-05    5952\n",
       "0 2017-11-11    9623\n",
       "2 2018-01-11    3368"
      ]
     },
     "execution_count": 50,
     "metadata": {},
     "output_type": "execute_result"
    }
   ],
   "source": [
    "# 청원이 3000 건이 넘는 날이 있다.\n",
    "start_df.loc[start_df['counts'] > 3000]"
   ]
  },
  {
   "cell_type": "code",
   "execution_count": 51,
   "metadata": {},
   "outputs": [
    {
     "data": {
      "text/html": [
       "<div>\n",
       "<style scoped>\n",
       "    .dataframe tbody tr th:only-of-type {\n",
       "        vertical-align: middle;\n",
       "    }\n",
       "\n",
       "    .dataframe tbody tr th {\n",
       "        vertical-align: top;\n",
       "    }\n",
       "\n",
       "    .dataframe thead th {\n",
       "        text-align: right;\n",
       "    }\n",
       "</style>\n",
       "<table border=\"1\" class=\"dataframe\">\n",
       "  <thead>\n",
       "    <tr style=\"text-align: right;\">\n",
       "      <th></th>\n",
       "      <th>start</th>\n",
       "      <th>end</th>\n",
       "      <th>votes</th>\n",
       "      <th>category</th>\n",
       "      <th>title</th>\n",
       "      <th>content</th>\n",
       "      <th>answer</th>\n",
       "      <th>duration</th>\n",
       "      <th>start_month</th>\n",
       "      <th>start_day</th>\n",
       "      <th>start_hour</th>\n",
       "    </tr>\n",
       "    <tr>\n",
       "      <th>article_id</th>\n",
       "      <th></th>\n",
       "      <th></th>\n",
       "      <th></th>\n",
       "      <th></th>\n",
       "      <th></th>\n",
       "      <th></th>\n",
       "      <th></th>\n",
       "      <th></th>\n",
       "      <th></th>\n",
       "      <th></th>\n",
       "      <th></th>\n",
       "    </tr>\n",
       "  </thead>\n",
       "  <tbody>\n",
       "    <tr>\n",
       "      <th>3474</th>\n",
       "      <td>2017-09-05</td>\n",
       "      <td>2017-12-04</td>\n",
       "      <td>0</td>\n",
       "      <td>안전/환경</td>\n",
       "      <td>소년법 폐지 죄질은 나이가 없다</td>\n",
       "      <td>소년법 폐지  무서워서 애들을 키울수가 없어요</td>\n",
       "      <td>False</td>\n",
       "      <td>90 days</td>\n",
       "      <td>9</td>\n",
       "      <td>5</td>\n",
       "      <td>0</td>\n",
       "    </tr>\n",
       "    <tr>\n",
       "      <th>3475</th>\n",
       "      <td>2017-09-05</td>\n",
       "      <td>2017-12-04</td>\n",
       "      <td>0</td>\n",
       "      <td>인권/성평등</td>\n",
       "      <td>소년법폐지 제발 부탁드립니다</td>\n",
       "      <td>대통령님..부산여중생폭행사건 보셨는지요\\n정말 아이를 키우고있는 부모로써 너무나 마...</td>\n",
       "      <td>False</td>\n",
       "      <td>90 days</td>\n",
       "      <td>9</td>\n",
       "      <td>5</td>\n",
       "      <td>0</td>\n",
       "    </tr>\n",
       "    <tr>\n",
       "      <th>3476</th>\n",
       "      <td>2017-09-05</td>\n",
       "      <td>2017-12-04</td>\n",
       "      <td>0</td>\n",
       "      <td>인권/성평등</td>\n",
       "      <td>청소년 보호법 폐지</td>\n",
       "      <td>청소년 보호법 폐지</td>\n",
       "      <td>False</td>\n",
       "      <td>90 days</td>\n",
       "      <td>9</td>\n",
       "      <td>5</td>\n",
       "      <td>0</td>\n",
       "    </tr>\n",
       "    <tr>\n",
       "      <th>3477</th>\n",
       "      <td>2017-09-05</td>\n",
       "      <td>2017-09-12</td>\n",
       "      <td>0</td>\n",
       "      <td>기타</td>\n",
       "      <td>청소년법 폐지해주세요</td>\n",
       "      <td>폐지해주세요 아이낳고 키우는게 이나라에선 너무 무섭습니다.</td>\n",
       "      <td>False</td>\n",
       "      <td>7 days</td>\n",
       "      <td>9</td>\n",
       "      <td>5</td>\n",
       "      <td>0</td>\n",
       "    </tr>\n",
       "    <tr>\n",
       "      <th>3478</th>\n",
       "      <td>2017-09-05</td>\n",
       "      <td>2017-09-12</td>\n",
       "      <td>0</td>\n",
       "      <td>기타</td>\n",
       "      <td>청소년법 폐지해주세요</td>\n",
       "      <td>폐지해주세요 아이낳고 키우는게 이나라에선 너무 무섭습니다.</td>\n",
       "      <td>False</td>\n",
       "      <td>7 days</td>\n",
       "      <td>9</td>\n",
       "      <td>5</td>\n",
       "      <td>0</td>\n",
       "    </tr>\n",
       "  </tbody>\n",
       "</table>\n",
       "</div>"
      ],
      "text/plain": [
       "                start        end  votes category              title  \\\n",
       "article_id                                                            \n",
       "3474       2017-09-05 2017-12-04      0    안전/환경  소년법 폐지 죄질은 나이가 없다   \n",
       "3475       2017-09-05 2017-12-04      0   인권/성평등    소년법폐지 제발 부탁드립니다   \n",
       "3476       2017-09-05 2017-12-04      0   인권/성평등         청소년 보호법 폐지   \n",
       "3477       2017-09-05 2017-09-12      0       기타        청소년법 폐지해주세요   \n",
       "3478       2017-09-05 2017-09-12      0       기타        청소년법 폐지해주세요   \n",
       "\n",
       "                                                      content  answer  \\\n",
       "article_id                                                              \n",
       "3474                                소년법 폐지  무서워서 애들을 키울수가 없어요   False   \n",
       "3475        대통령님..부산여중생폭행사건 보셨는지요\\n정말 아이를 키우고있는 부모로써 너무나 마...   False   \n",
       "3476                                               청소년 보호법 폐지   False   \n",
       "3477                         폐지해주세요 아이낳고 키우는게 이나라에선 너무 무섭습니다.   False   \n",
       "3478                         폐지해주세요 아이낳고 키우는게 이나라에선 너무 무섭습니다.   False   \n",
       "\n",
       "           duration  start_month  start_day  start_hour  \n",
       "article_id                                               \n",
       "3474        90 days            9          5           0  \n",
       "3475        90 days            9          5           0  \n",
       "3476        90 days            9          5           0  \n",
       "3477         7 days            9          5           0  \n",
       "3478         7 days            9          5           0  "
      ]
     },
     "execution_count": 51,
     "metadata": {},
     "output_type": "execute_result"
    }
   ],
   "source": [
    "petitions_20170905 = petitions.loc[petitions['start'] == '2017-09-05']\n",
    "petitions_20170905.head()"
   ]
  },
  {
   "cell_type": "code",
   "execution_count": 52,
   "metadata": {},
   "outputs": [
    {
     "data": {
      "text/plain": [
       "인권/성평등         2202\n",
       "육아/교육          1105\n",
       "안전/환경           880\n",
       "기타              697\n",
       "미래              436\n",
       "정치개혁            319\n",
       "행정              121\n",
       "보건복지             41\n",
       "외교/통일/국방         40\n",
       "교통/건축/국토         25\n",
       "일자리              25\n",
       "성장동력             20\n",
       "문화/예술/체육/언론      13\n",
       "저출산/고령화대책        10\n",
       "경제민주화             9\n",
       "반려동물              7\n",
       "농산어촌              2\n",
       "Name: category, dtype: int64"
      ]
     },
     "execution_count": 52,
     "metadata": {},
     "output_type": "execute_result"
    }
   ],
   "source": [
    "petitions_20170905['category'].value_counts()"
   ]
  },
  {
   "cell_type": "code",
   "execution_count": 53,
   "metadata": {},
   "outputs": [
    {
     "data": {
      "image/png": "[encoded data removed]",
      "text/plain": [
       "<matplotlib.figure.Figure at 0x11574fe10>"
      ]
     },
     "metadata": {},
     "output_type": "display_data"
    },
    {
     "data": {
      "text/plain": [
       "<ggplot: (316951174)>"
      ]
     },
     "execution_count": 53,
     "metadata": {},
     "output_type": "execute_result"
    }
   ],
   "source": [
    "(ggplot(petitions_20170905)\n",
    " + aes(x='category', y='votes')\n",
    " + geom_col(fill='skyblue')\n",
    " + ggtitle('카테고리별 투표수')\n",
    " + coord_flip()\n",
    " + theme(text=element_text(family='NanumBarunGothic'))\n",
    ")"
   ]
  },
  {
   "cell_type": "markdown",
   "metadata": {},
   "source": [
    "## 정치개혁 분야의 청원이 많이 들어 온 날의 청원 내용보기\n",
    "- 하지만 투표를 가장 많이 받은 청원은 보건/복지 분야의 청원이다."
   ]
  },
  {
   "cell_type": "code",
   "execution_count": 54,
   "metadata": {},
   "outputs": [
    {
     "data": {
      "text/html": [
       "<div>\n",
       "<style scoped>\n",
       "    .dataframe tbody tr th:only-of-type {\n",
       "        vertical-align: middle;\n",
       "    }\n",
       "\n",
       "    .dataframe tbody tr th {\n",
       "        vertical-align: top;\n",
       "    }\n",
       "\n",
       "    .dataframe thead th {\n",
       "        text-align: right;\n",
       "    }\n",
       "</style>\n",
       "<table border=\"1\" class=\"dataframe\">\n",
       "  <thead>\n",
       "    <tr style=\"text-align: right;\">\n",
       "      <th></th>\n",
       "      <th>start</th>\n",
       "      <th>end</th>\n",
       "      <th>votes</th>\n",
       "      <th>category</th>\n",
       "      <th>title</th>\n",
       "      <th>content</th>\n",
       "      <th>answer</th>\n",
       "      <th>duration</th>\n",
       "      <th>start_month</th>\n",
       "      <th>start_day</th>\n",
       "      <th>start_hour</th>\n",
       "    </tr>\n",
       "    <tr>\n",
       "      <th>article_id</th>\n",
       "      <th></th>\n",
       "      <th></th>\n",
       "      <th></th>\n",
       "      <th></th>\n",
       "      <th></th>\n",
       "      <th></th>\n",
       "      <th></th>\n",
       "      <th></th>\n",
       "      <th></th>\n",
       "      <th></th>\n",
       "      <th></th>\n",
       "    </tr>\n",
       "  </thead>\n",
       "  <tbody>\n",
       "    <tr>\n",
       "      <th>31383</th>\n",
       "      <td>2017-11-11</td>\n",
       "      <td>2017-12-11</td>\n",
       "      <td>1</td>\n",
       "      <td>정치개혁</td>\n",
       "      <td>이명박 출국금지</td>\n",
       "      <td>이명박 출국금지\\n조속한 구속수사</td>\n",
       "      <td>False</td>\n",
       "      <td>30 days</td>\n",
       "      <td>11</td>\n",
       "      <td>11</td>\n",
       "      <td>0</td>\n",
       "    </tr>\n",
       "    <tr>\n",
       "      <th>31384</th>\n",
       "      <td>2017-11-11</td>\n",
       "      <td>2017-12-11</td>\n",
       "      <td>3</td>\n",
       "      <td>인권/성평등</td>\n",
       "      <td>조두순 출소 금지</td>\n",
       "      <td>조두순의 출소금지 특별법 제정을 촉구 합니다.</td>\n",
       "      <td>False</td>\n",
       "      <td>30 days</td>\n",
       "      <td>11</td>\n",
       "      <td>11</td>\n",
       "      <td>0</td>\n",
       "    </tr>\n",
       "    <tr>\n",
       "      <th>31386</th>\n",
       "      <td>2017-11-11</td>\n",
       "      <td>2017-12-11</td>\n",
       "      <td>39</td>\n",
       "      <td>정치개혁</td>\n",
       "      <td>이명박 출국금지</td>\n",
       "      <td>정의가 바로 선 나라를 만들기 위해 꼭...!</td>\n",
       "      <td>False</td>\n",
       "      <td>30 days</td>\n",
       "      <td>11</td>\n",
       "      <td>11</td>\n",
       "      <td>0</td>\n",
       "    </tr>\n",
       "    <tr>\n",
       "      <th>31387</th>\n",
       "      <td>2017-11-11</td>\n",
       "      <td>2017-12-11</td>\n",
       "      <td>2</td>\n",
       "      <td>정치개혁</td>\n",
       "      <td>이명박출국금지시켜라</td>\n",
       "      <td>명박이을출국금지시키고  수사하라</td>\n",
       "      <td>False</td>\n",
       "      <td>30 days</td>\n",
       "      <td>11</td>\n",
       "      <td>11</td>\n",
       "      <td>0</td>\n",
       "    </tr>\n",
       "    <tr>\n",
       "      <th>31388</th>\n",
       "      <td>2017-11-11</td>\n",
       "      <td>2017-12-11</td>\n",
       "      <td>1</td>\n",
       "      <td>정치개혁</td>\n",
       "      <td>이명박출국금지시켜라</td>\n",
       "      <td>명박이을출국금지시키고  수사하라</td>\n",
       "      <td>False</td>\n",
       "      <td>30 days</td>\n",
       "      <td>11</td>\n",
       "      <td>11</td>\n",
       "      <td>0</td>\n",
       "    </tr>\n",
       "  </tbody>\n",
       "</table>\n",
       "</div>"
      ],
      "text/plain": [
       "                start        end  votes category       title  \\\n",
       "article_id                                                     \n",
       "31383      2017-11-11 2017-12-11      1     정치개혁    이명박 출국금지   \n",
       "31384      2017-11-11 2017-12-11      3   인권/성평등   조두순 출소 금지   \n",
       "31386      2017-11-11 2017-12-11     39     정치개혁    이명박 출국금지   \n",
       "31387      2017-11-11 2017-12-11      2     정치개혁  이명박출국금지시켜라   \n",
       "31388      2017-11-11 2017-12-11      1     정치개혁  이명박출국금지시켜라   \n",
       "\n",
       "                              content  answer duration  start_month  \\\n",
       "article_id                                                            \n",
       "31383              이명박 출국금지\\n조속한 구속수사   False  30 days           11   \n",
       "31384       조두순의 출소금지 특별법 제정을 촉구 합니다.   False  30 days           11   \n",
       "31386       정의가 바로 선 나라를 만들기 위해 꼭...!   False  30 days           11   \n",
       "31387               명박이을출국금지시키고  수사하라   False  30 days           11   \n",
       "31388               명박이을출국금지시키고  수사하라   False  30 days           11   \n",
       "\n",
       "            start_day  start_hour  \n",
       "article_id                         \n",
       "31383              11           0  \n",
       "31384              11           0  \n",
       "31386              11           0  \n",
       "31387              11           0  \n",
       "31388              11           0  "
      ]
     },
     "execution_count": 54,
     "metadata": {},
     "output_type": "execute_result"
    }
   ],
   "source": [
    "petitions_20171111 = petitions.loc[petitions['start'] == '2017-11-11']\n",
    "petitions_20171111.head()"
   ]
  },
  {
   "cell_type": "code",
   "execution_count": 55,
   "metadata": {},
   "outputs": [
    {
     "data": {
      "text/plain": [
       "정치개혁           7961\n",
       "기타              865\n",
       "미래              170\n",
       "인권/성평등          154\n",
       "안전/환경           128\n",
       "외교/통일/국방         61\n",
       "행정               59\n",
       "경제민주화            47\n",
       "육아/교육            46\n",
       "일자리              25\n",
       "반려동물             24\n",
       "보건복지             20\n",
       "문화/예술/체육/언론      19\n",
       "교통/건축/국토         16\n",
       "성장동력             15\n",
       "저출산/고령화대책         7\n",
       "농산어촌              6\n",
       "Name: category, dtype: int64"
      ]
     },
     "execution_count": 55,
     "metadata": {},
     "output_type": "execute_result"
    }
   ],
   "source": [
    "petitions_20171111['category'].value_counts()"
   ]
  },
  {
   "cell_type": "code",
   "execution_count": 56,
   "metadata": {},
   "outputs": [
    {
     "data": {
      "text/html": [
       "<div>\n",
       "<style scoped>\n",
       "    .dataframe tbody tr th:only-of-type {\n",
       "        vertical-align: middle;\n",
       "    }\n",
       "\n",
       "    .dataframe tbody tr th {\n",
       "        vertical-align: top;\n",
       "    }\n",
       "\n",
       "    .dataframe thead th {\n",
       "        text-align: right;\n",
       "    }\n",
       "</style>\n",
       "<table border=\"1\" class=\"dataframe\">\n",
       "  <thead>\n",
       "    <tr style=\"text-align: right;\">\n",
       "      <th></th>\n",
       "      <th>answer</th>\n",
       "      <th>start_day</th>\n",
       "      <th>start_hour</th>\n",
       "      <th>start_month</th>\n",
       "      <th>votes</th>\n",
       "    </tr>\n",
       "    <tr>\n",
       "      <th>category</th>\n",
       "      <th></th>\n",
       "      <th></th>\n",
       "      <th></th>\n",
       "      <th></th>\n",
       "      <th></th>\n",
       "    </tr>\n",
       "  </thead>\n",
       "  <tbody>\n",
       "    <tr>\n",
       "      <th>보건복지</th>\n",
       "      <td>False</td>\n",
       "      <td>220</td>\n",
       "      <td>0</td>\n",
       "      <td>220</td>\n",
       "      <td>58498</td>\n",
       "    </tr>\n",
       "    <tr>\n",
       "      <th>인권/성평등</th>\n",
       "      <td>False</td>\n",
       "      <td>1694</td>\n",
       "      <td>0</td>\n",
       "      <td>1694</td>\n",
       "      <td>16338</td>\n",
       "    </tr>\n",
       "    <tr>\n",
       "      <th>정치개혁</th>\n",
       "      <td>False</td>\n",
       "      <td>87571</td>\n",
       "      <td>0</td>\n",
       "      <td>87571</td>\n",
       "      <td>5080</td>\n",
       "    </tr>\n",
       "    <tr>\n",
       "      <th>외교/통일/국방</th>\n",
       "      <td>False</td>\n",
       "      <td>671</td>\n",
       "      <td>0</td>\n",
       "      <td>671</td>\n",
       "      <td>1924</td>\n",
       "    </tr>\n",
       "    <tr>\n",
       "      <th>문화/예술/체육/언론</th>\n",
       "      <td>False</td>\n",
       "      <td>209</td>\n",
       "      <td>0</td>\n",
       "      <td>209</td>\n",
       "      <td>1378</td>\n",
       "    </tr>\n",
       "    <tr>\n",
       "      <th>교통/건축/국토</th>\n",
       "      <td>False</td>\n",
       "      <td>176</td>\n",
       "      <td>0</td>\n",
       "      <td>176</td>\n",
       "      <td>976</td>\n",
       "    </tr>\n",
       "    <tr>\n",
       "      <th>기타</th>\n",
       "      <td>False</td>\n",
       "      <td>9515</td>\n",
       "      <td>0</td>\n",
       "      <td>9515</td>\n",
       "      <td>461</td>\n",
       "    </tr>\n",
       "    <tr>\n",
       "      <th>미래</th>\n",
       "      <td>False</td>\n",
       "      <td>1870</td>\n",
       "      <td>0</td>\n",
       "      <td>1870</td>\n",
       "      <td>132</td>\n",
       "    </tr>\n",
       "    <tr>\n",
       "      <th>육아/교육</th>\n",
       "      <td>False</td>\n",
       "      <td>506</td>\n",
       "      <td>0</td>\n",
       "      <td>506</td>\n",
       "      <td>98</td>\n",
       "    </tr>\n",
       "    <tr>\n",
       "      <th>안전/환경</th>\n",
       "      <td>False</td>\n",
       "      <td>1408</td>\n",
       "      <td>0</td>\n",
       "      <td>1408</td>\n",
       "      <td>78</td>\n",
       "    </tr>\n",
       "    <tr>\n",
       "      <th>경제민주화</th>\n",
       "      <td>False</td>\n",
       "      <td>517</td>\n",
       "      <td>0</td>\n",
       "      <td>517</td>\n",
       "      <td>25</td>\n",
       "    </tr>\n",
       "    <tr>\n",
       "      <th>행정</th>\n",
       "      <td>False</td>\n",
       "      <td>649</td>\n",
       "      <td>0</td>\n",
       "      <td>649</td>\n",
       "      <td>24</td>\n",
       "    </tr>\n",
       "    <tr>\n",
       "      <th>반려동물</th>\n",
       "      <td>False</td>\n",
       "      <td>264</td>\n",
       "      <td>0</td>\n",
       "      <td>264</td>\n",
       "      <td>22</td>\n",
       "    </tr>\n",
       "    <tr>\n",
       "      <th>일자리</th>\n",
       "      <td>False</td>\n",
       "      <td>275</td>\n",
       "      <td>0</td>\n",
       "      <td>275</td>\n",
       "      <td>20</td>\n",
       "    </tr>\n",
       "    <tr>\n",
       "      <th>저출산/고령화대책</th>\n",
       "      <td>False</td>\n",
       "      <td>77</td>\n",
       "      <td>0</td>\n",
       "      <td>77</td>\n",
       "      <td>10</td>\n",
       "    </tr>\n",
       "    <tr>\n",
       "      <th>농산어촌</th>\n",
       "      <td>False</td>\n",
       "      <td>66</td>\n",
       "      <td>0</td>\n",
       "      <td>66</td>\n",
       "      <td>6</td>\n",
       "    </tr>\n",
       "    <tr>\n",
       "      <th>성장동력</th>\n",
       "      <td>False</td>\n",
       "      <td>165</td>\n",
       "      <td>0</td>\n",
       "      <td>165</td>\n",
       "      <td>4</td>\n",
       "    </tr>\n",
       "  </tbody>\n",
       "</table>\n",
       "</div>"
      ],
      "text/plain": [
       "             answer  start_day  start_hour  start_month  votes\n",
       "category                                                      \n",
       "보건복지          False        220           0          220  58498\n",
       "인권/성평등        False       1694           0         1694  16338\n",
       "정치개혁          False      87571           0        87571   5080\n",
       "외교/통일/국방      False        671           0          671   1924\n",
       "문화/예술/체육/언론   False        209           0          209   1378\n",
       "교통/건축/국토      False        176           0          176    976\n",
       "기타            False       9515           0         9515    461\n",
       "미래            False       1870           0         1870    132\n",
       "육아/교육         False        506           0          506     98\n",
       "안전/환경         False       1408           0         1408     78\n",
       "경제민주화         False        517           0          517     25\n",
       "행정            False        649           0          649     24\n",
       "반려동물          False        264           0          264     22\n",
       "일자리           False        275           0          275     20\n",
       "저출산/고령화대책     False         77           0           77     10\n",
       "농산어촌          False         66           0           66      6\n",
       "성장동력          False        165           0          165      4"
      ]
     },
     "execution_count": 56,
     "metadata": {},
     "output_type": "execute_result"
    }
   ],
   "source": [
    "# 각 데이터의 수를 집계했다. 2017년 11월 11일에 가장 많은 청원이 들어 온 것은 정치개혁이다.\n",
    "petitions_unique = pd.pivot_table(petitions_20171111, index=['category'], aggfunc=np.sum)\n",
    "petitions_best = petitions_unique.sort_values(by='votes', ascending=False)\n",
    "petitions_best"
   ]
  },
  {
   "cell_type": "markdown",
   "metadata": {},
   "source": [
    "## 제목과 내용에 들어가는 단어수"
   ]
  },
  {
   "cell_type": "code",
   "execution_count": 57,
   "metadata": {},
   "outputs": [],
   "source": [
    "# 단어 수\n",
    "petitions['title_num_words'] = petitions['title'].apply(lambda x: len(str(x).split()))\n",
    "# 중복을 제거한 단어 수\n",
    "petitions['title_num_uniq_words'] = petitions['title'].apply(lambda x: len(set(str(x).split())))"
   ]
  },
  {
   "cell_type": "code",
   "execution_count": 58,
   "metadata": {},
   "outputs": [],
   "source": [
    "# 단어 수\n",
    "petitions['content_num_words'] = petitions['content'].apply(lambda x: len(str(x).split()))\n",
    "# 중복을 제거한 단어 수\n",
    "petitions['content_num_uniq_words'] = petitions['content'].apply(lambda x: len(set(str(x).split())))"
   ]
  },
  {
   "cell_type": "code",
   "execution_count": 59,
   "metadata": {},
   "outputs": [
    {
     "data": {
      "text/html": [
       "<div>\n",
       "<style scoped>\n",
       "    .dataframe tbody tr th:only-of-type {\n",
       "        vertical-align: middle;\n",
       "    }\n",
       "\n",
       "    .dataframe tbody tr th {\n",
       "        vertical-align: top;\n",
       "    }\n",
       "\n",
       "    .dataframe thead th {\n",
       "        text-align: right;\n",
       "    }\n",
       "</style>\n",
       "<table border=\"1\" class=\"dataframe\">\n",
       "  <thead>\n",
       "    <tr style=\"text-align: right;\">\n",
       "      <th></th>\n",
       "      <th>start</th>\n",
       "      <th>end</th>\n",
       "      <th>votes</th>\n",
       "      <th>category</th>\n",
       "      <th>title</th>\n",
       "      <th>content</th>\n",
       "      <th>answer</th>\n",
       "      <th>duration</th>\n",
       "      <th>start_month</th>\n",
       "      <th>start_day</th>\n",
       "      <th>start_hour</th>\n",
       "      <th>title_num_words</th>\n",
       "      <th>title_num_uniq_words</th>\n",
       "      <th>content_num_words</th>\n",
       "      <th>content_num_uniq_words</th>\n",
       "    </tr>\n",
       "    <tr>\n",
       "      <th>article_id</th>\n",
       "      <th></th>\n",
       "      <th></th>\n",
       "      <th></th>\n",
       "      <th></th>\n",
       "      <th></th>\n",
       "      <th></th>\n",
       "      <th></th>\n",
       "      <th></th>\n",
       "      <th></th>\n",
       "      <th></th>\n",
       "      <th></th>\n",
       "      <th></th>\n",
       "      <th></th>\n",
       "      <th></th>\n",
       "      <th></th>\n",
       "    </tr>\n",
       "  </thead>\n",
       "  <tbody>\n",
       "    <tr>\n",
       "      <th>21</th>\n",
       "      <td>2017-08-19</td>\n",
       "      <td>2017-11-17</td>\n",
       "      <td>9</td>\n",
       "      <td>안전/환경</td>\n",
       "      <td>스텔라 데이지호에 대한 제안입니다.</td>\n",
       "      <td>스텔라 데이지호에 대한 제안입니다.\\n3월31일 스텔라 데이지호가 침몰하고 5달째가...</td>\n",
       "      <td>False</td>\n",
       "      <td>90 days</td>\n",
       "      <td>8</td>\n",
       "      <td>19</td>\n",
       "      <td>0</td>\n",
       "      <td>4</td>\n",
       "      <td>4</td>\n",
       "      <td>292</td>\n",
       "      <td>252</td>\n",
       "    </tr>\n",
       "    <tr>\n",
       "      <th>22</th>\n",
       "      <td>2017-08-19</td>\n",
       "      <td>2017-11-17</td>\n",
       "      <td>17</td>\n",
       "      <td>기타</td>\n",
       "      <td>비리제보처를 만들어주세요.</td>\n",
       "      <td>현 정부에 국민들이 가장 원하는 것은 부패척결입니다.  우리 사회에 각종 비리들이 ...</td>\n",
       "      <td>False</td>\n",
       "      <td>90 days</td>\n",
       "      <td>8</td>\n",
       "      <td>19</td>\n",
       "      <td>0</td>\n",
       "      <td>2</td>\n",
       "      <td>2</td>\n",
       "      <td>67</td>\n",
       "      <td>62</td>\n",
       "    </tr>\n",
       "    <tr>\n",
       "      <th>23</th>\n",
       "      <td>2017-08-19</td>\n",
       "      <td>2017-09-03</td>\n",
       "      <td>0</td>\n",
       "      <td>미래</td>\n",
       "      <td>제2의 개성공단</td>\n",
       "      <td>만일 하시는 대통령님 및 각 부처 장관님,주무관님들 안녕하세요!!\\n전남 목포에서 ...</td>\n",
       "      <td>False</td>\n",
       "      <td>15 days</td>\n",
       "      <td>8</td>\n",
       "      <td>19</td>\n",
       "      <td>0</td>\n",
       "      <td>2</td>\n",
       "      <td>2</td>\n",
       "      <td>118</td>\n",
       "      <td>105</td>\n",
       "    </tr>\n",
       "    <tr>\n",
       "      <th>24</th>\n",
       "      <td>2017-08-19</td>\n",
       "      <td>2017-08-26</td>\n",
       "      <td>53</td>\n",
       "      <td>일자리</td>\n",
       "      <td>공공기관 무조건적인 정규직전환을 반대합니다.</td>\n",
       "      <td>현정부에서 정규직 일자리를 늘리는 것에 찬성합니다. 그런데 공공기관 비정규직들은 인...</td>\n",
       "      <td>False</td>\n",
       "      <td>7 days</td>\n",
       "      <td>8</td>\n",
       "      <td>19</td>\n",
       "      <td>0</td>\n",
       "      <td>4</td>\n",
       "      <td>4</td>\n",
       "      <td>108</td>\n",
       "      <td>101</td>\n",
       "    </tr>\n",
       "    <tr>\n",
       "      <th>25</th>\n",
       "      <td>2017-08-19</td>\n",
       "      <td>2017-09-03</td>\n",
       "      <td>0</td>\n",
       "      <td>미래</td>\n",
       "      <td>제2의 개성공단</td>\n",
       "      <td>만일 하시는 대통령님 및 각 부처 장관님,주무관님들 안녕하세요!!\\n전남 목포에서 ...</td>\n",
       "      <td>False</td>\n",
       "      <td>15 days</td>\n",
       "      <td>8</td>\n",
       "      <td>19</td>\n",
       "      <td>0</td>\n",
       "      <td>2</td>\n",
       "      <td>2</td>\n",
       "      <td>118</td>\n",
       "      <td>105</td>\n",
       "    </tr>\n",
       "  </tbody>\n",
       "</table>\n",
       "</div>"
      ],
      "text/plain": [
       "                start        end  votes category                     title  \\\n",
       "article_id                                                                   \n",
       "21         2017-08-19 2017-11-17      9    안전/환경       스텔라 데이지호에 대한 제안입니다.   \n",
       "22         2017-08-19 2017-11-17     17       기타            비리제보처를 만들어주세요.   \n",
       "23         2017-08-19 2017-09-03      0       미래                  제2의 개성공단   \n",
       "24         2017-08-19 2017-08-26     53      일자리  공공기관 무조건적인 정규직전환을 반대합니다.   \n",
       "25         2017-08-19 2017-09-03      0       미래                  제2의 개성공단   \n",
       "\n",
       "                                                      content  answer  \\\n",
       "article_id                                                              \n",
       "21          스텔라 데이지호에 대한 제안입니다.\\n3월31일 스텔라 데이지호가 침몰하고 5달째가...   False   \n",
       "22          현 정부에 국민들이 가장 원하는 것은 부패척결입니다.  우리 사회에 각종 비리들이 ...   False   \n",
       "23          만일 하시는 대통령님 및 각 부처 장관님,주무관님들 안녕하세요!!\\n전남 목포에서 ...   False   \n",
       "24          현정부에서 정규직 일자리를 늘리는 것에 찬성합니다. 그런데 공공기관 비정규직들은 인...   False   \n",
       "25          만일 하시는 대통령님 및 각 부처 장관님,주무관님들 안녕하세요!!\\n전남 목포에서 ...   False   \n",
       "\n",
       "           duration  start_month  start_day  start_hour  title_num_words  \\\n",
       "article_id                                                                 \n",
       "21          90 days            8         19           0                4   \n",
       "22          90 days            8         19           0                2   \n",
       "23          15 days            8         19           0                2   \n",
       "24           7 days            8         19           0                4   \n",
       "25          15 days            8         19           0                2   \n",
       "\n",
       "            title_num_uniq_words  content_num_words  content_num_uniq_words  \n",
       "article_id                                                                   \n",
       "21                             4                292                     252  \n",
       "22                             2                 67                      62  \n",
       "23                             2                118                     105  \n",
       "24                             4                108                     101  \n",
       "25                             2                118                     105  "
      ]
     },
     "execution_count": 59,
     "metadata": {},
     "output_type": "execute_result"
    }
   ],
   "source": [
    "petitions.head()"
   ]
  },
  {
   "cell_type": "code",
   "execution_count": 60,
   "metadata": {},
   "outputs": [
    {
     "data": {
      "image/png": "[encoded data removed]",
      "text/plain": [
       "<matplotlib.figure.Figure at 0x135c2aa20>"
      ]
     },
     "metadata": {},
     "output_type": "display_data"
    },
    {
     "data": {
      "text/plain": [
       "<ggplot: (-9223372036580354756)>"
      ]
     },
     "execution_count": 60,
     "metadata": {},
     "output_type": "execute_result"
    }
   ],
   "source": [
    "(ggplot(petitions)\n",
    " + aes('title_num_words', 'content_num_words')\n",
    " + geom_point(fill='red', color='lightgray', alpha=0.25)\n",
    " + ggtitle('제목, 내용 단어 수')\n",
    " + coord_flip()\n",
    " + theme(text=element_text(family='NanumBarunGothic'))\n",
    ")"
   ]
  },
  {
   "cell_type": "code",
   "execution_count": 61,
   "metadata": {},
   "outputs": [
    {
     "data": {
      "image/png": "[encoded data removed]",
      "text/plain": [
       "<matplotlib.figure.Figure at 0x132fc4470>"
      ]
     },
     "metadata": {},
     "output_type": "display_data"
    },
    {
     "data": {
      "text/plain": [
       "<ggplot: (321905195)>"
      ]
     },
     "execution_count": 61,
     "metadata": {},
     "output_type": "execute_result"
    }
   ],
   "source": [
    "(ggplot(petitions)\n",
    " + aes('votes', 'content_num_words')\n",
    " + geom_jitter(fill='red', color='lightgray', alpha=0.25)\n",
    " + ggtitle('투표수와 내용 단어 수')\n",
    " + coord_flip()\n",
    " + theme(text=element_text(family='NanumBarunGothic'))\n",
    " + scale_fill_gradient(low = 'red', high = 'yellow') \n",
    ")"
   ]
  },
  {
   "cell_type": "code",
   "execution_count": null,
   "metadata": {},
   "outputs": [],
   "source": []
  }
 ],
 "metadata": {
  "kernelspec": {
   "display_name": "Python 3",
   "language": "python",
   "name": "python3"
  },
  "language_info": {
   "codemirror_mode": {
    "name": "ipython",
    "version": 3
   },
   "file_extension": ".py",
   "mimetype": "text/x-python",
   "name": "python",
   "nbconvert_exporter": "python",
   "pygments_lexer": "ipython3",
   "version": "3.6.1"
  }
 },
 "nbformat": 4,
 "nbformat_minor": 2
}
